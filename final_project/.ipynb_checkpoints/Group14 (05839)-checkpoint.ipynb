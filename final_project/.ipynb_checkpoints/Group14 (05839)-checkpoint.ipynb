{
 "cells": [
  {
   "cell_type": "markdown",
   "id": "OlXAvd3orToq",
   "metadata": {
    "id": "OlXAvd3orToq"
   },
   "source": [
    "<center><H1>Formula 1 World Championship Analysis</H1></center><br>\n",
    "In this report we analyze the Formula 1 World Championship Data.\n",
    "<br><br>\n",
    "Formula 1 is the highest class of motorsport on the planet. Where drivers compete over a number of races every year. Based on the current rules, 20 drivers compete in each race. These 20 drivers belong to 10 teams (2 from each team). The team is responsible for constructing the car and is therefore called a constructor. Every F1 season has two champions at the end of it. A Drivers Champion(Driver with maximum points) and Constructors Champion (Constructor with maximum points). Drivers are awarded points based on their position in the F1 race, whereas the points awarded to a constructor is the sum of points awarded to both the drivers that represent a constructor. A Formula 1 event is called a Grand Prix. Every Grand Prix consists of two major phases: <b>Qualifying</b> and <b>Race</b>. <br><br>\n",
    "<H6>Qualifying</H6>\n",
    "<ul>\n",
    "    <li> Qualifying is conducted in 3 phases-\n",
    "        <ul>\n",
    "            <li> Q1: Where all 20 drivers race, and drivers are ranked according to thier best time to complete a lap (a complete tour of the race track).\n",
    "            <li> Q2: The top 15 drivers from Q1 qualify for Q2. The raking process remains the same.\n",
    "            <li> Q3: The top 10 drivers from Q2 qualify for Q3. The ranking process remains the same.\n",
    "        </ul>\n",
    "    <li> The final rankings of the drivers, after the three qualifying rounds is used to determine, the starting position of the driver on the grid, for the final race.\n",
    "</ul>\n",
    "<H6>Race</H6>\n",
    "<ul>\n",
    "    <li> In the final race, the drivers need to complete a fixed number of laps around the circuit. The fastest driver to do so wins.\n",
    "    <li> Between the race, drivers, often stop to change tyres or replace any damaged parts on the car. This is knows as a pit stop.\n",
    "</ul>\n",
    "\n",
    "Given the exhilirating nature of the sport and a multitude of factors involved that determine racing stratergies and pit stops, we aim to gain some insights into this, thorugh this EDA and upcoming data visualization.\n",
    "\n",
    "<h6>Data</h6>\n",
    "The data is sourced from Kaggle (<a href='https://www.kaggle.com/rohanrao/formula-1-world-championship-1950-2020'> Link </a>). The main source data as citied by Kaggle is <a href='http://ergast.com/mrd/'> this. </a> <br><br>\n",
    "The data consists of of a total of 13 files named as follows:\n",
    "<ol>\n",
    "    <li> constructors.csv -> Contains information about the car manufacturer\n",
    "    <li> circuits.csv -> Contains information about race tracks like geo-graphical co-ordinates, altitute etc.\n",
    "    <li> constructor_standings.csv -> Contains information about the final standings of the constructors in various races\n",
    "    <li> constructor_results.csv -> Contains information about the results of each race.\n",
    "    <li> driver_standings.csv -> Contains information about the final standings of the drivers in various races\n",
    "    <li> drivers.csv -> Contains information about driver like nationality, date of birth etc.\n",
    "    <li> lap_times.csv -> Contains information about each lap of every race, like time etc.\n",
    "    <li> pit_stops -> Contains pit stop information like time spent in the pit lane\n",
    "    <li> qualifying -> Contains data about the qualifying rounds of a Grand Prix\n",
    "    <li> races.csv -> Contain meta-data about the races\n",
    "    <li> results.csv -> Contains the results for all races\n",
    "    <li> seasons.csv -> Contains links to wikipdia pages for each F1 season\n",
    "    <li> status.csv -> Contains meta-data about the race result for each driver.\n",
    "</ol>\n",
    "\n",
    "The schema of the dataset is as follows: <br>\n",
    "<img src='f1_data_schema.png'>\n",
    "<a href='http://ergast.com/images/ergast_db.png'> Image Credits: www.ergast.com </a>\n",
    "<br><br>\n",
    "Our main focus in this EDA is to clean the data and obtain some preliminary understanding of the data.\n",
    "\n",
    "<H5>Cleaning</H5>\n",
    "The high level cleaning procedure followed by us is as follows -\n",
    "<ol>\n",
    "<li>   Change datatype of primary key ids to string\n",
    "<li>    Check that their is no repetition in primary key fields\n",
    "<li>    Check for null values in the columns    \n",
    "<li>  Replace '\\N' with NaN, since it represents null values in the dataset\n",
    "<li>    Change datatypes of other fields to their appropriate types (eg: positions to int, etc)\n",
    "<li>    Find outliers in columns such as win position etc and remove outlier rows since they are less than 3% of the entire dataset\n",
    "<li>    Drop extra columns such as \"positionText\", which is just the string form of column \"positions\"\n",
    "<li>   Create extra columns, such as age from date of birth etc, for further analysis\n",
    "A more detailed cleaning process used for each file can be found in the cleaning section.\n",
    "</ol>\n",
    "\n",
    "<H5>EDA</H5>\n",
    "<ol>\n",
    "    <li> Who have been the top drivers of all time having points gathered on the podium over the years?\n",
    "    <li> Who have been the top constructors in terms of points and wins over the years?\n",
    "    <li> What have been the average times taken by constructors in the pit-lane and is that an indicator of quality of cars produced by constructor + team dynamic?\n",
    "    <li> How have the performance of F1 cars changed over the years?\n",
    "    <li> How does the lap times vary across each circuit?\n",
    "</ol>\n",
    "\n",
    "<H5>Further Questions</H5>\n",
    "Based on the results of our EDA we wish to find answers to the following questions in the future.\n",
    "<ol>\n",
    "    <li>\n",
    "    <li>\n",
    "</ol>"
   ]
  },
  {
   "cell_type": "markdown",
   "id": "52c92e2a",
   "metadata": {
    "heading_collapsed": true
   },
   "source": [
    "# IMPORTS"
   ]
  },
  {
   "cell_type": "code",
   "execution_count": null,
   "id": "b2ec304f",
   "metadata": {
    "hidden": true,
    "id": "9ce926b5"
   },
   "outputs": [],
   "source": [
    "import pandas as pd\n",
    "import numpy as np\n",
    "import matplotlib.pyplot as plt\n",
    "import datetime\n",
    "from datetime import datetime, date\n",
    "from matplotlib import rcParams\n",
    "import seaborn as sns\n",
    "\n",
    "%matplotlib inline\n",
    "\n",
    "import warnings\n",
    "warnings.filterwarnings('ignore')"
   ]
  },
  {
   "cell_type": "markdown",
   "id": "fe98588d",
   "metadata": {
    "heading_collapsed": true,
    "id": "fe98588d"
   },
   "source": [
    "# CLEANING\n"
   ]
  },
  {
   "cell_type": "markdown",
   "id": "4873e9a5",
   "metadata": {
    "heading_collapsed": true,
    "hidden": true,
    "id": "4873e9a5"
   },
   "source": [
    "#### CONSTRUCTORS"
   ]
  },
  {
   "cell_type": "markdown",
   "id": "5NBc7AahkzVy",
   "metadata": {
    "hidden": true,
    "id": "5NBc7AahkzVy"
   },
   "source": [
    "This table contains information about the different constructors of F1 cars. <br>\n",
    "<br>\n",
    " Values represented by each columns: \n",
    "<ol>\n",
    "    <li> constructorId -> Unique ID of each row in the data\n",
    "    <li> constructorRef -> A code assigned to each constructor\n",
    "    <li> name -> The name of the constructor e.g. McLaren\n",
    "    <li> nationality -> The nationality of the constructor\n",
    "    <li> url -> The link to the wikipedia page of the constructor\n",
    "</ol>\n",
    "<br>\n",
    "Observations and cleaning strategy used : \n",
    "<ul>\n",
    "    <li> There are no duplicate rows in the data\n",
    "    <li> There are no null values in the data\n",
    "    <li> The datatypes were changed to the appropriate types\n",
    "    <li> Primary keys were checked to be non repeating\n",
    "</ul>"
   ]
  },
  {
   "cell_type": "code",
   "execution_count": null,
   "id": "1b29ad0c",
   "metadata": {
    "hidden": true,
    "id": "1b29ad0c"
   },
   "outputs": [],
   "source": [
    "constructors = pd.read_csv('constructors.csv')\n",
    "circuits = pd.read_csv('circuits.csv')\n",
    "con_results = pd.read_csv('constructor_results.csv')\n",
    "con_standings = pd.read_csv('constructor_standings.csv')"
   ]
  },
  {
   "cell_type": "code",
   "execution_count": null,
   "id": "17ed905a",
   "metadata": {
    "colab": {
     "base_uri": "https://localhost:8080/"
    },
    "hidden": true,
    "id": "17ed905a",
    "outputId": "eaafa970-ab8c-4df9-fd79-d2479acd8410"
   },
   "outputs": [
    {
     "data": {
      "text/html": [
       "<div>\n",
       "<style scoped>\n",
       "    .dataframe tbody tr th:only-of-type {\n",
       "        vertical-align: middle;\n",
       "    }\n",
       "\n",
       "    .dataframe tbody tr th {\n",
       "        vertical-align: top;\n",
       "    }\n",
       "\n",
       "    .dataframe thead th {\n",
       "        text-align: right;\n",
       "    }\n",
       "</style>\n",
       "<table border=\"1\" class=\"dataframe\">\n",
       "  <thead>\n",
       "    <tr style=\"text-align: right;\">\n",
       "      <th></th>\n",
       "      <th>constructorId</th>\n",
       "      <th>constructorRef</th>\n",
       "      <th>name</th>\n",
       "      <th>nationality</th>\n",
       "      <th>url</th>\n",
       "    </tr>\n",
       "  </thead>\n",
       "  <tbody>\n",
       "    <tr>\n",
       "      <th>0</th>\n",
       "      <td>1</td>\n",
       "      <td>mclaren</td>\n",
       "      <td>McLaren</td>\n",
       "      <td>British</td>\n",
       "      <td>http://en.wikipedia.org/wiki/McLaren</td>\n",
       "    </tr>\n",
       "    <tr>\n",
       "      <th>1</th>\n",
       "      <td>2</td>\n",
       "      <td>bmw_sauber</td>\n",
       "      <td>BMW Sauber</td>\n",
       "      <td>German</td>\n",
       "      <td>http://en.wikipedia.org/wiki/BMW_Sauber</td>\n",
       "    </tr>\n",
       "    <tr>\n",
       "      <th>2</th>\n",
       "      <td>3</td>\n",
       "      <td>williams</td>\n",
       "      <td>Williams</td>\n",
       "      <td>British</td>\n",
       "      <td>http://en.wikipedia.org/wiki/Williams_Grand_Pr...</td>\n",
       "    </tr>\n",
       "    <tr>\n",
       "      <th>3</th>\n",
       "      <td>4</td>\n",
       "      <td>renault</td>\n",
       "      <td>Renault</td>\n",
       "      <td>French</td>\n",
       "      <td>http://en.wikipedia.org/wiki/Renault_in_Formul...</td>\n",
       "    </tr>\n",
       "    <tr>\n",
       "      <th>4</th>\n",
       "      <td>5</td>\n",
       "      <td>toro_rosso</td>\n",
       "      <td>Toro Rosso</td>\n",
       "      <td>Italian</td>\n",
       "      <td>http://en.wikipedia.org/wiki/Scuderia_Toro_Rosso</td>\n",
       "    </tr>\n",
       "    <tr>\n",
       "      <th>...</th>\n",
       "      <td>...</td>\n",
       "      <td>...</td>\n",
       "      <td>...</td>\n",
       "      <td>...</td>\n",
       "      <td>...</td>\n",
       "    </tr>\n",
       "    <tr>\n",
       "      <th>206</th>\n",
       "      <td>209</td>\n",
       "      <td>manor</td>\n",
       "      <td>Manor Marussia</td>\n",
       "      <td>British</td>\n",
       "      <td>http://en.wikipedia.org/wiki/Manor_Motorsport</td>\n",
       "    </tr>\n",
       "    <tr>\n",
       "      <th>207</th>\n",
       "      <td>210</td>\n",
       "      <td>haas</td>\n",
       "      <td>Haas F1 Team</td>\n",
       "      <td>American</td>\n",
       "      <td>http://en.wikipedia.org/wiki/Haas_F1_Team</td>\n",
       "    </tr>\n",
       "    <tr>\n",
       "      <th>208</th>\n",
       "      <td>211</td>\n",
       "      <td>racing_point</td>\n",
       "      <td>Racing Point</td>\n",
       "      <td>British</td>\n",
       "      <td>http://en.wikipedia.org/wiki/Racing_Point_F1_Team</td>\n",
       "    </tr>\n",
       "    <tr>\n",
       "      <th>209</th>\n",
       "      <td>213</td>\n",
       "      <td>alphatauri</td>\n",
       "      <td>AlphaTauri</td>\n",
       "      <td>Italian</td>\n",
       "      <td>http://en.wikipedia.org/wiki/Scuderia_AlphaTauri</td>\n",
       "    </tr>\n",
       "    <tr>\n",
       "      <th>210</th>\n",
       "      <td>214</td>\n",
       "      <td>alpine</td>\n",
       "      <td>Alpine F1 Team</td>\n",
       "      <td>French</td>\n",
       "      <td>http://en.wikipedia.org/wiki/Alpine_F1_Team</td>\n",
       "    </tr>\n",
       "  </tbody>\n",
       "</table>\n",
       "<p>211 rows × 5 columns</p>\n",
       "</div>"
      ],
      "text/plain": [
       "     constructorId  ...                                                url\n",
       "0                1  ...               http://en.wikipedia.org/wiki/McLaren\n",
       "1                2  ...            http://en.wikipedia.org/wiki/BMW_Sauber\n",
       "2                3  ...  http://en.wikipedia.org/wiki/Williams_Grand_Pr...\n",
       "3                4  ...  http://en.wikipedia.org/wiki/Renault_in_Formul...\n",
       "4                5  ...   http://en.wikipedia.org/wiki/Scuderia_Toro_Rosso\n",
       "..             ...  ...                                                ...\n",
       "206            209  ...      http://en.wikipedia.org/wiki/Manor_Motorsport\n",
       "207            210  ...          http://en.wikipedia.org/wiki/Haas_F1_Team\n",
       "208            211  ...  http://en.wikipedia.org/wiki/Racing_Point_F1_Team\n",
       "209            213  ...   http://en.wikipedia.org/wiki/Scuderia_AlphaTauri\n",
       "210            214  ...        http://en.wikipedia.org/wiki/Alpine_F1_Team\n",
       "\n",
       "[211 rows x 5 columns]"
      ]
     },
     "execution_count": 4,
     "metadata": {},
     "output_type": "execute_result"
    }
   ],
   "source": [
    "constructors"
   ]
  },
  {
   "cell_type": "code",
   "execution_count": null,
   "id": "636b2ace",
   "metadata": {
    "colab": {
     "base_uri": "https://localhost:8080/"
    },
    "hidden": true,
    "id": "636b2ace",
    "outputId": "79ed0f1e-425a-4c2f-ba54-fb15ddea736c"
   },
   "outputs": [
    {
     "data": {
      "text/plain": [
       "array([  1,   2,   3,   4,   5,   6,   7,   8,   9,  10,  11,  12,  13,\n",
       "        14,  15,  16,  17,  18,  19,  20,  21,  22,  23,  24,  25,  26,\n",
       "        27,  28,  29,  30,  31,  32,  33,  34,  35,  36,  37,  38,  39,\n",
       "        40,  41,  42,  44,  45,  46,  47,  48,  49,  50,  51,  52,  53,\n",
       "        54,  55,  56,  57,  58,  59,  60,  61,  62,  63,  64,  65,  66,\n",
       "        67,  68,  69,  70,  71,  72,  73,  74,  75,  76,  77,  78,  79,\n",
       "        80,  81,  82,  83,  84,  85,  86,  87,  88,  89,  90,  91,  92,\n",
       "        93,  94,  95,  96,  97,  98,  99, 100, 101, 102, 103, 104, 105,\n",
       "       106, 107, 108, 109, 110, 111, 112, 113, 114, 115, 116, 117, 118,\n",
       "       119, 120, 121, 122, 123, 124, 125, 126, 127, 128, 129, 130, 131,\n",
       "       132, 133, 134, 135, 136, 137, 138, 139, 140, 141, 142, 143, 144,\n",
       "       145, 146, 147, 148, 149, 150, 151, 152, 153, 154, 155, 156, 157,\n",
       "       158, 159, 160, 161, 162, 163, 164, 167, 166, 168, 169, 170, 171,\n",
       "       172, 173, 174, 175, 176, 177, 178, 179, 180, 181, 182, 183, 184,\n",
       "       185, 186, 187, 188, 189, 190, 191, 192, 193, 194, 195, 196, 197,\n",
       "       198, 199, 200, 201, 202, 203, 204, 205, 206, 207, 208, 209, 210,\n",
       "       211, 213, 214])"
      ]
     },
     "execution_count": 5,
     "metadata": {},
     "output_type": "execute_result"
    }
   ],
   "source": [
    "constructors.constructorId.unique()"
   ]
  },
  {
   "cell_type": "code",
   "execution_count": null,
   "id": "b7b66081",
   "metadata": {
    "hidden": true,
    "id": "b7b66081"
   },
   "outputs": [],
   "source": [
    "constructors['constructorId'] = constructors['constructorId'].astype(str)"
   ]
  },
  {
   "cell_type": "code",
   "execution_count": null,
   "id": "5ade6ef6",
   "metadata": {
    "colab": {
     "base_uri": "https://localhost:8080/"
    },
    "hidden": true,
    "id": "5ade6ef6",
    "outputId": "fd237f22-509c-4893-b279-65a1f39c3b37"
   },
   "outputs": [
    {
     "data": {
      "text/plain": [
       "True"
      ]
     },
     "execution_count": 7,
     "metadata": {},
     "output_type": "execute_result"
    }
   ],
   "source": [
    "len(constructors['constructorId'].unique().tolist()) == 211"
   ]
  },
  {
   "cell_type": "code",
   "execution_count": null,
   "id": "3ebaa534",
   "metadata": {
    "colab": {
     "base_uri": "https://localhost:8080/"
    },
    "hidden": true,
    "id": "3ebaa534",
    "outputId": "d96247e9-791d-484b-a293-3e88eb8bc1f7"
   },
   "outputs": [
    {
     "data": {
      "text/plain": [
       "0           mclaren\n",
       "1        bmw_sauber\n",
       "2          williams\n",
       "3           renault\n",
       "4        toro_rosso\n",
       "           ...     \n",
       "206           manor\n",
       "207            haas\n",
       "208    racing_point\n",
       "209      alphatauri\n",
       "210          alpine\n",
       "Name: constructorRef, Length: 211, dtype: object"
      ]
     },
     "execution_count": 8,
     "metadata": {},
     "output_type": "execute_result"
    }
   ],
   "source": [
    "constructors['constructorRef']"
   ]
  },
  {
   "cell_type": "code",
   "execution_count": null,
   "id": "a97b2c48",
   "metadata": {
    "colab": {
     "base_uri": "https://localhost:8080/"
    },
    "hidden": true,
    "id": "a97b2c48",
    "outputId": "25691cf2-355b-483e-c65e-94138e64406d"
   },
   "outputs": [
    {
     "data": {
      "text/plain": [
       "0             McLaren\n",
       "1          BMW Sauber\n",
       "2            Williams\n",
       "3             Renault\n",
       "4          Toro Rosso\n",
       "            ...      \n",
       "206    Manor Marussia\n",
       "207      Haas F1 Team\n",
       "208      Racing Point\n",
       "209        AlphaTauri\n",
       "210    Alpine F1 Team\n",
       "Name: name, Length: 211, dtype: object"
      ]
     },
     "execution_count": 9,
     "metadata": {},
     "output_type": "execute_result"
    }
   ],
   "source": [
    "constructors['name']"
   ]
  },
  {
   "cell_type": "code",
   "execution_count": null,
   "id": "cbc51788",
   "metadata": {
    "colab": {
     "base_uri": "https://localhost:8080/"
    },
    "hidden": true,
    "id": "cbc51788",
    "outputId": "d9ba872d-c3b6-4391-efc3-70b2984fb1e4"
   },
   "outputs": [
    {
     "data": {
      "text/plain": [
       "True"
      ]
     },
     "execution_count": 10,
     "metadata": {},
     "output_type": "execute_result"
    }
   ],
   "source": [
    "len(constructors['name'].unique().tolist()) == 211"
   ]
  },
  {
   "cell_type": "code",
   "execution_count": null,
   "id": "ca69cf86",
   "metadata": {
    "colab": {
     "base_uri": "https://localhost:8080/"
    },
    "hidden": true,
    "id": "ca69cf86",
    "outputId": "3a5cfe55-46d8-4d9b-f0b7-366ec14f06d2"
   },
   "outputs": [
    {
     "data": {
      "text/plain": [
       "['British',\n",
       " 'German',\n",
       " 'French',\n",
       " 'Italian',\n",
       " 'Japanese',\n",
       " 'Austrian',\n",
       " 'Indian',\n",
       " 'Dutch',\n",
       " 'Russian',\n",
       " 'Swiss',\n",
       " 'Irish',\n",
       " 'Hong Kong',\n",
       " 'Brazilian',\n",
       " 'Canadian',\n",
       " 'Mexican',\n",
       " 'American',\n",
       " 'Australian',\n",
       " 'New Zealand',\n",
       " 'South African',\n",
       " 'Rhodesian',\n",
       " 'Belgium',\n",
       " 'East German',\n",
       " 'Spanish',\n",
       " 'Malaysian']"
      ]
     },
     "execution_count": 11,
     "metadata": {},
     "output_type": "execute_result"
    }
   ],
   "source": [
    "constructors['nationality'].unique().tolist()"
   ]
  },
  {
   "cell_type": "markdown",
   "id": "bc2c0873",
   "metadata": {
    "heading_collapsed": true,
    "hidden": true,
    "id": "bc2c0873"
   },
   "source": [
    "#### CIRCUITS"
   ]
  },
  {
   "cell_type": "markdown",
   "id": "xJHavcC0l9kw",
   "metadata": {
    "hidden": true,
    "id": "xJHavcC0l9kw"
   },
   "source": [
    "This table contains information about the different circuits used for racing. <br>\n",
    "<br>\n",
    " Values represented by each columns: \n",
    "<ol>\n",
    "    <li> circuitId -> Unique ID of each row in the data\n",
    "    <li> circuitRef -> A code assigned to each circuit\n",
    "    <li> name -> The name of the circuit e.g. Albert Park Grand Prix Circuit\n",
    "    <li> location -> City name of the circuit\n",
    "    <li> country -> Country name of the circuit\n",
    "    <li> lat -> Geographical latitude \n",
    "    <li> long -> Geographical longitude\n",
    "    <li> alt -> The altitude of the circuit with respect to sea level\n",
    "    <li> url -> The link to the wikipedia page of the circuit\n",
    "</ol>\n",
    "<br>\n",
    "Observations and cleaning strategy used : \n",
    "<ul>\n",
    "    <li> There are no duplicate rows in the data\n",
    "    <li> There are no null values in the data\n",
    "    <li> The datatypes were changed to the appropriate types\n",
    "    <li> Primary keys were checked to be non repeating\n",
    "</ul>"
   ]
  },
  {
   "cell_type": "code",
   "execution_count": null,
   "id": "57150799",
   "metadata": {
    "colab": {
     "base_uri": "https://localhost:8080/"
    },
    "hidden": true,
    "id": "57150799",
    "outputId": "1ad4dfc0-2c1d-44d3-9238-435994d186b9"
   },
   "outputs": [
    {
     "data": {
      "text/html": [
       "<div>\n",
       "<style scoped>\n",
       "    .dataframe tbody tr th:only-of-type {\n",
       "        vertical-align: middle;\n",
       "    }\n",
       "\n",
       "    .dataframe tbody tr th {\n",
       "        vertical-align: top;\n",
       "    }\n",
       "\n",
       "    .dataframe thead th {\n",
       "        text-align: right;\n",
       "    }\n",
       "</style>\n",
       "<table border=\"1\" class=\"dataframe\">\n",
       "  <thead>\n",
       "    <tr style=\"text-align: right;\">\n",
       "      <th></th>\n",
       "      <th>circuitId</th>\n",
       "      <th>circuitRef</th>\n",
       "      <th>name</th>\n",
       "      <th>location</th>\n",
       "      <th>country</th>\n",
       "      <th>lat</th>\n",
       "      <th>lng</th>\n",
       "      <th>alt</th>\n",
       "      <th>url</th>\n",
       "    </tr>\n",
       "  </thead>\n",
       "  <tbody>\n",
       "    <tr>\n",
       "      <th>0</th>\n",
       "      <td>1</td>\n",
       "      <td>albert_park</td>\n",
       "      <td>Albert Park Grand Prix Circuit</td>\n",
       "      <td>Melbourne</td>\n",
       "      <td>Australia</td>\n",
       "      <td>-37.84970</td>\n",
       "      <td>144.96800</td>\n",
       "      <td>10</td>\n",
       "      <td>http://en.wikipedia.org/wiki/Melbourne_Grand_P...</td>\n",
       "    </tr>\n",
       "    <tr>\n",
       "      <th>1</th>\n",
       "      <td>2</td>\n",
       "      <td>sepang</td>\n",
       "      <td>Sepang International Circuit</td>\n",
       "      <td>Kuala Lumpur</td>\n",
       "      <td>Malaysia</td>\n",
       "      <td>2.76083</td>\n",
       "      <td>101.73800</td>\n",
       "      <td>18</td>\n",
       "      <td>http://en.wikipedia.org/wiki/Sepang_Internatio...</td>\n",
       "    </tr>\n",
       "    <tr>\n",
       "      <th>2</th>\n",
       "      <td>3</td>\n",
       "      <td>bahrain</td>\n",
       "      <td>Bahrain International Circuit</td>\n",
       "      <td>Sakhir</td>\n",
       "      <td>Bahrain</td>\n",
       "      <td>26.03250</td>\n",
       "      <td>50.51060</td>\n",
       "      <td>7</td>\n",
       "      <td>http://en.wikipedia.org/wiki/Bahrain_Internati...</td>\n",
       "    </tr>\n",
       "    <tr>\n",
       "      <th>3</th>\n",
       "      <td>4</td>\n",
       "      <td>catalunya</td>\n",
       "      <td>Circuit de Barcelona-Catalunya</td>\n",
       "      <td>Montmeló</td>\n",
       "      <td>Spain</td>\n",
       "      <td>41.57000</td>\n",
       "      <td>2.26111</td>\n",
       "      <td>109</td>\n",
       "      <td>http://en.wikipedia.org/wiki/Circuit_de_Barcel...</td>\n",
       "    </tr>\n",
       "    <tr>\n",
       "      <th>4</th>\n",
       "      <td>5</td>\n",
       "      <td>istanbul</td>\n",
       "      <td>Istanbul Park</td>\n",
       "      <td>Istanbul</td>\n",
       "      <td>Turkey</td>\n",
       "      <td>40.95170</td>\n",
       "      <td>29.40500</td>\n",
       "      <td>130</td>\n",
       "      <td>http://en.wikipedia.org/wiki/Istanbul_Park</td>\n",
       "    </tr>\n",
       "    <tr>\n",
       "      <th>...</th>\n",
       "      <td>...</td>\n",
       "      <td>...</td>\n",
       "      <td>...</td>\n",
       "      <td>...</td>\n",
       "      <td>...</td>\n",
       "      <td>...</td>\n",
       "      <td>...</td>\n",
       "      <td>...</td>\n",
       "      <td>...</td>\n",
       "    </tr>\n",
       "    <tr>\n",
       "      <th>72</th>\n",
       "      <td>73</td>\n",
       "      <td>BAK</td>\n",
       "      <td>Baku City Circuit</td>\n",
       "      <td>Baku</td>\n",
       "      <td>Azerbaijan</td>\n",
       "      <td>40.37250</td>\n",
       "      <td>49.85330</td>\n",
       "      <td>-7</td>\n",
       "      <td>http://en.wikipedia.org/wiki/Baku_City_Circuit</td>\n",
       "    </tr>\n",
       "    <tr>\n",
       "      <th>73</th>\n",
       "      <td>74</td>\n",
       "      <td>hanoi</td>\n",
       "      <td>Hanoi Street Circuit</td>\n",
       "      <td>Hanoi</td>\n",
       "      <td>Vietnam</td>\n",
       "      <td>21.01660</td>\n",
       "      <td>105.76600</td>\n",
       "      <td>9</td>\n",
       "      <td>http://en.wikipedia.org/wiki/Hanoi_Street_Circuit</td>\n",
       "    </tr>\n",
       "    <tr>\n",
       "      <th>74</th>\n",
       "      <td>75</td>\n",
       "      <td>portimao</td>\n",
       "      <td>Autódromo Internacional do Algarve</td>\n",
       "      <td>Portimão</td>\n",
       "      <td>Portugal</td>\n",
       "      <td>37.22700</td>\n",
       "      <td>-8.62670</td>\n",
       "      <td>108</td>\n",
       "      <td>http://en.wikipedia.org/wiki/Algarve_Internati...</td>\n",
       "    </tr>\n",
       "    <tr>\n",
       "      <th>75</th>\n",
       "      <td>76</td>\n",
       "      <td>mugello</td>\n",
       "      <td>Autodromo Internazionale del Mugello</td>\n",
       "      <td>Mugello</td>\n",
       "      <td>Italy</td>\n",
       "      <td>43.99750</td>\n",
       "      <td>11.37190</td>\n",
       "      <td>255</td>\n",
       "      <td>http://en.wikipedia.org/wiki/Mugello_Circuit</td>\n",
       "    </tr>\n",
       "    <tr>\n",
       "      <th>76</th>\n",
       "      <td>77</td>\n",
       "      <td>jeddah</td>\n",
       "      <td>Jeddah Street Circuit</td>\n",
       "      <td>Jeddah</td>\n",
       "      <td>Saudi Arabia</td>\n",
       "      <td>21.54330</td>\n",
       "      <td>39.17280</td>\n",
       "      <td>15</td>\n",
       "      <td>http://en.wikipedia.org/wiki/Jeddah_Street_Cir...</td>\n",
       "    </tr>\n",
       "  </tbody>\n",
       "</table>\n",
       "<p>77 rows × 9 columns</p>\n",
       "</div>"
      ],
      "text/plain": [
       "    circuitId  ...                                                url\n",
       "0           1  ...  http://en.wikipedia.org/wiki/Melbourne_Grand_P...\n",
       "1           2  ...  http://en.wikipedia.org/wiki/Sepang_Internatio...\n",
       "2           3  ...  http://en.wikipedia.org/wiki/Bahrain_Internati...\n",
       "3           4  ...  http://en.wikipedia.org/wiki/Circuit_de_Barcel...\n",
       "4           5  ...         http://en.wikipedia.org/wiki/Istanbul_Park\n",
       "..        ...  ...                                                ...\n",
       "72         73  ...     http://en.wikipedia.org/wiki/Baku_City_Circuit\n",
       "73         74  ...  http://en.wikipedia.org/wiki/Hanoi_Street_Circuit\n",
       "74         75  ...  http://en.wikipedia.org/wiki/Algarve_Internati...\n",
       "75         76  ...       http://en.wikipedia.org/wiki/Mugello_Circuit\n",
       "76         77  ...  http://en.wikipedia.org/wiki/Jeddah_Street_Cir...\n",
       "\n",
       "[77 rows x 9 columns]"
      ]
     },
     "execution_count": 12,
     "metadata": {},
     "output_type": "execute_result"
    }
   ],
   "source": [
    "circuits"
   ]
  },
  {
   "cell_type": "code",
   "execution_count": null,
   "id": "f8f3dbb4",
   "metadata": {
    "colab": {
     "base_uri": "https://localhost:8080/"
    },
    "hidden": true,
    "id": "f8f3dbb4",
    "outputId": "01f833bb-de40-4e19-f47b-fa33303bab98"
   },
   "outputs": [
    {
     "name": "stdout",
     "output_type": "stream",
     "text": [
      "False\n",
      "False\n",
      "False\n",
      "False\n",
      "False\n",
      "False\n",
      "False\n",
      "False\n",
      "False\n"
     ]
    }
   ],
   "source": [
    "for col in circuits.columns:\n",
    "    print(pd.isnull(circuits)[col].any())"
   ]
  },
  {
   "cell_type": "code",
   "execution_count": null,
   "id": "f03c70d9",
   "metadata": {
    "hidden": true,
    "id": "f03c70d9"
   },
   "outputs": [],
   "source": [
    "circuits['circuitId'] = circuits['circuitId'].astype(str)"
   ]
  },
  {
   "cell_type": "markdown",
   "id": "2f899d2c",
   "metadata": {
    "heading_collapsed": true,
    "hidden": true,
    "id": "2f899d2c"
   },
   "source": [
    "#### CONSTRUCTOR RESULTS"
   ]
  },
  {
   "cell_type": "markdown",
   "id": "tVTDpA-OmzQx",
   "metadata": {
    "hidden": true,
    "id": "tVTDpA-OmzQx"
   },
   "source": [
    "This table contains information about the race results of different constructors. <br>\n",
    "<br>\n",
    " Values represented by each columns: \n",
    "<ol>\n",
    "    <li> constructorResultsId -> Unique ID of each row in the data\n",
    "    <li> constructorId -> A unique identifier for a constructor whose result this is\n",
    "    <li> raceId -> A unique identifier of the race\n",
    "    <li> points -> points accumulated during this race\n",
    "\n",
    "</ol>\n",
    "<br>\n",
    "Observations and cleaning strategy used: \n",
    "<ul>\n",
    "    <li> There are no duplicate rows in the data\n",
    "    <li> There are no null values in the data\n",
    "    <li> The datatypes were changed to the appropriate types\n",
    "    <li> Primary keys were checked to be non repeating\n",
    "    <li> Irrelevant columns were dropped\n",
    "    <li> Logical constraints on the columns were checked\n",
    "\n",
    "</ul>"
   ]
  },
  {
   "cell_type": "code",
   "execution_count": null,
   "id": "3a3b5633",
   "metadata": {
    "hidden": true,
    "id": "3a3b5633"
   },
   "outputs": [],
   "source": [
    "for col in con_results.columns.tolist()[:3]:\n",
    "    con_results[col] = con_results[col].astype(str)"
   ]
  },
  {
   "cell_type": "code",
   "execution_count": null,
   "id": "3269e0b5",
   "metadata": {
    "colab": {
     "base_uri": "https://localhost:8080/"
    },
    "hidden": true,
    "id": "3269e0b5",
    "outputId": "45fa9198-3143-4ebe-8fee-3cfde6e770b7"
   },
   "outputs": [
    {
     "data": {
      "text/html": [
       "<div>\n",
       "<style scoped>\n",
       "    .dataframe tbody tr th:only-of-type {\n",
       "        vertical-align: middle;\n",
       "    }\n",
       "\n",
       "    .dataframe tbody tr th {\n",
       "        vertical-align: top;\n",
       "    }\n",
       "\n",
       "    .dataframe thead th {\n",
       "        text-align: right;\n",
       "    }\n",
       "</style>\n",
       "<table border=\"1\" class=\"dataframe\">\n",
       "  <thead>\n",
       "    <tr style=\"text-align: right;\">\n",
       "      <th></th>\n",
       "      <th>constructorResultsId</th>\n",
       "      <th>raceId</th>\n",
       "      <th>constructorId</th>\n",
       "      <th>points</th>\n",
       "      <th>status</th>\n",
       "    </tr>\n",
       "  </thead>\n",
       "  <tbody>\n",
       "  </tbody>\n",
       "</table>\n",
       "</div>"
      ],
      "text/plain": [
       "Empty DataFrame\n",
       "Columns: [constructorResultsId, raceId, constructorId, points, status]\n",
       "Index: []"
      ]
     },
     "execution_count": 16,
     "metadata": {},
     "output_type": "execute_result"
    }
   ],
   "source": [
    "con_results[con_results['points']<0]"
   ]
  },
  {
   "cell_type": "code",
   "execution_count": null,
   "id": "7228675c",
   "metadata": {
    "hidden": true,
    "id": "7228675c"
   },
   "outputs": [],
   "source": [
    "con_results.drop(columns=['status'], inplace=True)"
   ]
  },
  {
   "cell_type": "code",
   "execution_count": null,
   "id": "84deb377",
   "metadata": {
    "colab": {
     "base_uri": "https://localhost:8080/"
    },
    "hidden": true,
    "id": "84deb377",
    "outputId": "884e9160-ad0b-46b8-cb2e-f6c9611a70de"
   },
   "outputs": [
    {
     "data": {
      "text/html": [
       "<div>\n",
       "<style scoped>\n",
       "    .dataframe tbody tr th:only-of-type {\n",
       "        vertical-align: middle;\n",
       "    }\n",
       "\n",
       "    .dataframe tbody tr th {\n",
       "        vertical-align: top;\n",
       "    }\n",
       "\n",
       "    .dataframe thead th {\n",
       "        text-align: right;\n",
       "    }\n",
       "</style>\n",
       "<table border=\"1\" class=\"dataframe\">\n",
       "  <thead>\n",
       "    <tr style=\"text-align: right;\">\n",
       "      <th></th>\n",
       "      <th>constructorResultsId</th>\n",
       "      <th>raceId</th>\n",
       "      <th>constructorId</th>\n",
       "      <th>points</th>\n",
       "    </tr>\n",
       "  </thead>\n",
       "  <tbody>\n",
       "    <tr>\n",
       "      <th>0</th>\n",
       "      <td>1</td>\n",
       "      <td>18</td>\n",
       "      <td>1</td>\n",
       "      <td>14.0</td>\n",
       "    </tr>\n",
       "    <tr>\n",
       "      <th>1</th>\n",
       "      <td>2</td>\n",
       "      <td>18</td>\n",
       "      <td>2</td>\n",
       "      <td>8.0</td>\n",
       "    </tr>\n",
       "    <tr>\n",
       "      <th>2</th>\n",
       "      <td>3</td>\n",
       "      <td>18</td>\n",
       "      <td>3</td>\n",
       "      <td>9.0</td>\n",
       "    </tr>\n",
       "    <tr>\n",
       "      <th>3</th>\n",
       "      <td>4</td>\n",
       "      <td>18</td>\n",
       "      <td>4</td>\n",
       "      <td>5.0</td>\n",
       "    </tr>\n",
       "    <tr>\n",
       "      <th>4</th>\n",
       "      <td>5</td>\n",
       "      <td>18</td>\n",
       "      <td>5</td>\n",
       "      <td>2.0</td>\n",
       "    </tr>\n",
       "    <tr>\n",
       "      <th>...</th>\n",
       "      <td>...</td>\n",
       "      <td>...</td>\n",
       "      <td>...</td>\n",
       "      <td>...</td>\n",
       "    </tr>\n",
       "    <tr>\n",
       "      <th>11815</th>\n",
       "      <td>16315</td>\n",
       "      <td>1060</td>\n",
       "      <td>214</td>\n",
       "      <td>1.0</td>\n",
       "    </tr>\n",
       "    <tr>\n",
       "      <th>11816</th>\n",
       "      <td>16316</td>\n",
       "      <td>1060</td>\n",
       "      <td>3</td>\n",
       "      <td>0.0</td>\n",
       "    </tr>\n",
       "    <tr>\n",
       "      <th>11817</th>\n",
       "      <td>16317</td>\n",
       "      <td>1060</td>\n",
       "      <td>117</td>\n",
       "      <td>0.0</td>\n",
       "    </tr>\n",
       "    <tr>\n",
       "      <th>11818</th>\n",
       "      <td>16318</td>\n",
       "      <td>1060</td>\n",
       "      <td>51</td>\n",
       "      <td>0.0</td>\n",
       "    </tr>\n",
       "    <tr>\n",
       "      <th>11819</th>\n",
       "      <td>16319</td>\n",
       "      <td>1060</td>\n",
       "      <td>210</td>\n",
       "      <td>0.0</td>\n",
       "    </tr>\n",
       "  </tbody>\n",
       "</table>\n",
       "<p>11820 rows × 4 columns</p>\n",
       "</div>"
      ],
      "text/plain": [
       "      constructorResultsId raceId constructorId  points\n",
       "0                        1     18             1    14.0\n",
       "1                        2     18             2     8.0\n",
       "2                        3     18             3     9.0\n",
       "3                        4     18             4     5.0\n",
       "4                        5     18             5     2.0\n",
       "...                    ...    ...           ...     ...\n",
       "11815                16315   1060           214     1.0\n",
       "11816                16316   1060             3     0.0\n",
       "11817                16317   1060           117     0.0\n",
       "11818                16318   1060            51     0.0\n",
       "11819                16319   1060           210     0.0\n",
       "\n",
       "[11820 rows x 4 columns]"
      ]
     },
     "execution_count": 18,
     "metadata": {},
     "output_type": "execute_result"
    }
   ],
   "source": [
    "con_results"
   ]
  },
  {
   "cell_type": "markdown",
   "id": "8cb9750d",
   "metadata": {
    "heading_collapsed": true,
    "hidden": true,
    "id": "8cb9750d"
   },
   "source": [
    "#### CONSTRUCTOR STANDINGS"
   ]
  },
  {
   "cell_type": "markdown",
   "id": "BPIkzMVhqDNw",
   "metadata": {
    "hidden": true,
    "id": "BPIkzMVhqDNw"
   },
   "source": [
    "This table contains information about the standings of different constructors. <br>\n",
    "<br>\n",
    " Values represented by each columns: \n",
    "<ol>\n",
    "    <li> constructorStandingsId -> Unique ID of each row in the data\n",
    "    <li> constructorId -> A unique identifier for a constructor whose standing this is\n",
    "    <li> raceId -> A unique identifier of the race\n",
    "    <li> points -> A constructor's points accumulated during this race\n",
    "    <li> position -> A constructor's position in this race\n",
    "    <li> wins -> points accumulated during this race\n",
    "</ol>\n",
    "<br>\n",
    "Observations and cleaning strategy used: \n",
    "<ul>\n",
    "    <li> There are no duplicate rows in the data\n",
    "    <li> There are no null values in the data\n",
    "    <li> The datatypes were changed to the appropriate types\n",
    "    <li> Primary keys were checked to be non repeating\n",
    "    <li> Irrelevant columns were dropped (eg, positionText which had repeated information)\n",
    "    <li> Logical constraints on the columns were checked\n",
    "\n",
    "</ul>"
   ]
  },
  {
   "cell_type": "code",
   "execution_count": null,
   "id": "e4fcedc2",
   "metadata": {
    "colab": {
     "base_uri": "https://localhost:8080/"
    },
    "hidden": true,
    "id": "e4fcedc2",
    "outputId": "7a48fdc3-c588-4ac5-935c-743379eacece"
   },
   "outputs": [
    {
     "data": {
      "text/html": [
       "<div>\n",
       "<style scoped>\n",
       "    .dataframe tbody tr th:only-of-type {\n",
       "        vertical-align: middle;\n",
       "    }\n",
       "\n",
       "    .dataframe tbody tr th {\n",
       "        vertical-align: top;\n",
       "    }\n",
       "\n",
       "    .dataframe thead th {\n",
       "        text-align: right;\n",
       "    }\n",
       "</style>\n",
       "<table border=\"1\" class=\"dataframe\">\n",
       "  <thead>\n",
       "    <tr style=\"text-align: right;\">\n",
       "      <th></th>\n",
       "      <th>constructorStandingsId</th>\n",
       "      <th>raceId</th>\n",
       "      <th>constructorId</th>\n",
       "      <th>points</th>\n",
       "      <th>position</th>\n",
       "      <th>positionText</th>\n",
       "      <th>wins</th>\n",
       "    </tr>\n",
       "  </thead>\n",
       "  <tbody>\n",
       "    <tr>\n",
       "      <th>0</th>\n",
       "      <td>1</td>\n",
       "      <td>18</td>\n",
       "      <td>1</td>\n",
       "      <td>14.0</td>\n",
       "      <td>1</td>\n",
       "      <td>1</td>\n",
       "      <td>1</td>\n",
       "    </tr>\n",
       "    <tr>\n",
       "      <th>1</th>\n",
       "      <td>2</td>\n",
       "      <td>18</td>\n",
       "      <td>2</td>\n",
       "      <td>8.0</td>\n",
       "      <td>3</td>\n",
       "      <td>3</td>\n",
       "      <td>0</td>\n",
       "    </tr>\n",
       "    <tr>\n",
       "      <th>2</th>\n",
       "      <td>3</td>\n",
       "      <td>18</td>\n",
       "      <td>3</td>\n",
       "      <td>9.0</td>\n",
       "      <td>2</td>\n",
       "      <td>2</td>\n",
       "      <td>0</td>\n",
       "    </tr>\n",
       "    <tr>\n",
       "      <th>3</th>\n",
       "      <td>4</td>\n",
       "      <td>18</td>\n",
       "      <td>4</td>\n",
       "      <td>5.0</td>\n",
       "      <td>4</td>\n",
       "      <td>4</td>\n",
       "      <td>0</td>\n",
       "    </tr>\n",
       "    <tr>\n",
       "      <th>4</th>\n",
       "      <td>5</td>\n",
       "      <td>18</td>\n",
       "      <td>5</td>\n",
       "      <td>2.0</td>\n",
       "      <td>5</td>\n",
       "      <td>5</td>\n",
       "      <td>0</td>\n",
       "    </tr>\n",
       "    <tr>\n",
       "      <th>...</th>\n",
       "      <td>...</td>\n",
       "      <td>...</td>\n",
       "      <td>...</td>\n",
       "      <td>...</td>\n",
       "      <td>...</td>\n",
       "      <td>...</td>\n",
       "      <td>...</td>\n",
       "    </tr>\n",
       "    <tr>\n",
       "      <th>12581</th>\n",
       "      <td>27789</td>\n",
       "      <td>1060</td>\n",
       "      <td>51</td>\n",
       "      <td>2.0</td>\n",
       "      <td>8</td>\n",
       "      <td>8</td>\n",
       "      <td>0</td>\n",
       "    </tr>\n",
       "    <tr>\n",
       "      <th>12582</th>\n",
       "      <td>27788</td>\n",
       "      <td>1060</td>\n",
       "      <td>117</td>\n",
       "      <td>44.0</td>\n",
       "      <td>6</td>\n",
       "      <td>6</td>\n",
       "      <td>0</td>\n",
       "    </tr>\n",
       "    <tr>\n",
       "      <th>12583</th>\n",
       "      <td>27785</td>\n",
       "      <td>1060</td>\n",
       "      <td>1</td>\n",
       "      <td>141.0</td>\n",
       "      <td>3</td>\n",
       "      <td>3</td>\n",
       "      <td>0</td>\n",
       "    </tr>\n",
       "    <tr>\n",
       "      <th>12584</th>\n",
       "      <td>27784</td>\n",
       "      <td>1060</td>\n",
       "      <td>9</td>\n",
       "      <td>286.0</td>\n",
       "      <td>1</td>\n",
       "      <td>1</td>\n",
       "      <td>6</td>\n",
       "    </tr>\n",
       "    <tr>\n",
       "      <th>12585</th>\n",
       "      <td>27783</td>\n",
       "      <td>1060</td>\n",
       "      <td>131</td>\n",
       "      <td>242.0</td>\n",
       "      <td>2</td>\n",
       "      <td>2</td>\n",
       "      <td>3</td>\n",
       "    </tr>\n",
       "  </tbody>\n",
       "</table>\n",
       "<p>12586 rows × 7 columns</p>\n",
       "</div>"
      ],
      "text/plain": [
       "       constructorStandingsId  raceId  ...  positionText  wins\n",
       "0                           1      18  ...             1     1\n",
       "1                           2      18  ...             3     0\n",
       "2                           3      18  ...             2     0\n",
       "3                           4      18  ...             4     0\n",
       "4                           5      18  ...             5     0\n",
       "...                       ...     ...  ...           ...   ...\n",
       "12581                   27789    1060  ...             8     0\n",
       "12582                   27788    1060  ...             6     0\n",
       "12583                   27785    1060  ...             3     0\n",
       "12584                   27784    1060  ...             1     6\n",
       "12585                   27783    1060  ...             2     3\n",
       "\n",
       "[12586 rows x 7 columns]"
      ]
     },
     "execution_count": 19,
     "metadata": {},
     "output_type": "execute_result"
    }
   ],
   "source": [
    "con_standings"
   ]
  },
  {
   "cell_type": "code",
   "execution_count": null,
   "id": "abd1b015",
   "metadata": {
    "hidden": true,
    "id": "abd1b015"
   },
   "outputs": [],
   "source": [
    "for col in con_standings.columns.tolist()[:3]:\n",
    "    con_standings[col] = con_standings[col].astype(str)"
   ]
  },
  {
   "cell_type": "code",
   "execution_count": null,
   "id": "65d0409b",
   "metadata": {
    "colab": {
     "base_uri": "https://localhost:8080/"
    },
    "hidden": true,
    "id": "65d0409b",
    "outputId": "380ed139-33b3-4d41-da6a-c16b39724f5c"
   },
   "outputs": [
    {
     "data": {
      "text/plain": [
       "True"
      ]
     },
     "execution_count": 21,
     "metadata": {},
     "output_type": "execute_result"
    }
   ],
   "source": [
    "len(con_standings['constructorStandingsId'].unique().tolist()) == 12586"
   ]
  },
  {
   "cell_type": "code",
   "execution_count": null,
   "id": "d1f4f3a1",
   "metadata": {
    "colab": {
     "base_uri": "https://localhost:8080/"
    },
    "hidden": true,
    "id": "d1f4f3a1",
    "outputId": "b527a4ec-da16-44e7-9661-06d154bd0b22"
   },
   "outputs": [
    {
     "data": {
      "text/html": [
       "<div>\n",
       "<style scoped>\n",
       "    .dataframe tbody tr th:only-of-type {\n",
       "        vertical-align: middle;\n",
       "    }\n",
       "\n",
       "    .dataframe tbody tr th {\n",
       "        vertical-align: top;\n",
       "    }\n",
       "\n",
       "    .dataframe thead th {\n",
       "        text-align: right;\n",
       "    }\n",
       "</style>\n",
       "<table border=\"1\" class=\"dataframe\">\n",
       "  <thead>\n",
       "    <tr style=\"text-align: right;\">\n",
       "      <th></th>\n",
       "      <th>constructorStandingsId</th>\n",
       "      <th>raceId</th>\n",
       "      <th>constructorId</th>\n",
       "      <th>points</th>\n",
       "      <th>position</th>\n",
       "      <th>positionText</th>\n",
       "      <th>wins</th>\n",
       "    </tr>\n",
       "  </thead>\n",
       "  <tbody>\n",
       "  </tbody>\n",
       "</table>\n",
       "</div>"
      ],
      "text/plain": [
       "Empty DataFrame\n",
       "Columns: [constructorStandingsId, raceId, constructorId, points, position, positionText, wins]\n",
       "Index: []"
      ]
     },
     "execution_count": 22,
     "metadata": {},
     "output_type": "execute_result"
    }
   ],
   "source": [
    "con_standings[con_standings['points']<0]"
   ]
  },
  {
   "cell_type": "code",
   "execution_count": null,
   "id": "2a6b1649",
   "metadata": {
    "colab": {
     "base_uri": "https://localhost:8080/"
    },
    "hidden": true,
    "id": "2a6b1649",
    "outputId": "3669a543-903c-4454-e81d-13a95ab1d789"
   },
   "outputs": [
    {
     "data": {
      "text/html": [
       "<div>\n",
       "<style scoped>\n",
       "    .dataframe tbody tr th:only-of-type {\n",
       "        vertical-align: middle;\n",
       "    }\n",
       "\n",
       "    .dataframe tbody tr th {\n",
       "        vertical-align: top;\n",
       "    }\n",
       "\n",
       "    .dataframe thead th {\n",
       "        text-align: right;\n",
       "    }\n",
       "</style>\n",
       "<table border=\"1\" class=\"dataframe\">\n",
       "  <thead>\n",
       "    <tr style=\"text-align: right;\">\n",
       "      <th></th>\n",
       "      <th>constructorStandingsId</th>\n",
       "      <th>raceId</th>\n",
       "      <th>constructorId</th>\n",
       "      <th>points</th>\n",
       "      <th>position</th>\n",
       "      <th>positionText</th>\n",
       "      <th>wins</th>\n",
       "    </tr>\n",
       "  </thead>\n",
       "  <tbody>\n",
       "  </tbody>\n",
       "</table>\n",
       "</div>"
      ],
      "text/plain": [
       "Empty DataFrame\n",
       "Columns: [constructorStandingsId, raceId, constructorId, points, position, positionText, wins]\n",
       "Index: []"
      ]
     },
     "execution_count": 23,
     "metadata": {},
     "output_type": "execute_result"
    }
   ],
   "source": [
    "con_standings[con_standings['position']<1]"
   ]
  },
  {
   "cell_type": "code",
   "execution_count": null,
   "id": "f3f92c00",
   "metadata": {
    "hidden": true,
    "id": "f3f92c00"
   },
   "outputs": [],
   "source": [
    "con_standings.drop(columns='positionText', inplace=True)"
   ]
  },
  {
   "cell_type": "code",
   "execution_count": null,
   "id": "e61aed5c",
   "metadata": {
    "colab": {
     "base_uri": "https://localhost:8080/"
    },
    "hidden": true,
    "id": "e61aed5c",
    "outputId": "8edc4a6f-40e4-4fdb-91ee-038cbf418013"
   },
   "outputs": [
    {
     "data": {
      "text/html": [
       "<div>\n",
       "<style scoped>\n",
       "    .dataframe tbody tr th:only-of-type {\n",
       "        vertical-align: middle;\n",
       "    }\n",
       "\n",
       "    .dataframe tbody tr th {\n",
       "        vertical-align: top;\n",
       "    }\n",
       "\n",
       "    .dataframe thead th {\n",
       "        text-align: right;\n",
       "    }\n",
       "</style>\n",
       "<table border=\"1\" class=\"dataframe\">\n",
       "  <thead>\n",
       "    <tr style=\"text-align: right;\">\n",
       "      <th></th>\n",
       "      <th>constructorStandingsId</th>\n",
       "      <th>raceId</th>\n",
       "      <th>constructorId</th>\n",
       "      <th>points</th>\n",
       "      <th>position</th>\n",
       "      <th>wins</th>\n",
       "    </tr>\n",
       "  </thead>\n",
       "  <tbody>\n",
       "  </tbody>\n",
       "</table>\n",
       "</div>"
      ],
      "text/plain": [
       "Empty DataFrame\n",
       "Columns: [constructorStandingsId, raceId, constructorId, points, position, wins]\n",
       "Index: []"
      ]
     },
     "execution_count": 25,
     "metadata": {},
     "output_type": "execute_result"
    }
   ],
   "source": [
    "con_standings[con_standings['wins']<0]"
   ]
  },
  {
   "cell_type": "code",
   "execution_count": null,
   "id": "AVE4G7mnSmQa",
   "metadata": {
    "hidden": true,
    "id": "AVE4G7mnSmQa"
   },
   "outputs": [],
   "source": []
  },
  {
   "cell_type": "markdown",
   "id": "Ir3cfuUjcEC5",
   "metadata": {
    "hidden": true,
    "id": "Ir3cfuUjcEC5"
   },
   "source": [
    "<H1> DRIVER STANDINGS </H1>\n",
    "This dataset represents the final standings of the driver's in various races. <br>\n",
    "<br>\n",
    " Values represented by each columns: \n",
    "<ol>\n",
    "    <li> driverStandingsId -> Unique ID of each row in the data\n",
    "    <li> raceId -> The unique race id from which the particular driver standing instance belongs to\n",
    "    <li> driverId -> The unique if of each driver\n",
    "    <li> points -> The points gained in the race, which is calculated by taking into consideration the position of the driver in the standings\n",
    "    <li> position -> The number at which the driver crossed the final line\n",
    "    <li> wins -> Number of wins by that driver\n",
    "</ol>\n",
    "<br>\n",
    "Observations and cleaning strategy used : \n",
    "<ul>\n",
    "    <li> There are no duplicate rows in the data\n",
    "    <li> The position column has some values has some position values greater than 26. But the proportion of these values is very low. We drop all rows with positions greater than 26.\n",
    "    <li> We also drop positionText since it is the string format of positions column and hence, un-useful.\n",
    "</ul>"
   ]
  },
  {
   "cell_type": "code",
   "execution_count": null,
   "id": "tGyFe6fhS2ng",
   "metadata": {
    "hidden": true,
    "id": "tGyFe6fhS2ng"
   },
   "outputs": [],
   "source": [
    "driver_standings_df = pd.read_csv('driver_standings.csv')"
   ]
  },
  {
   "cell_type": "code",
   "execution_count": null,
   "id": "TibA8WDGS9a7",
   "metadata": {
    "colab": {
     "base_uri": "https://localhost:8080/"
    },
    "hidden": true,
    "id": "TibA8WDGS9a7",
    "outputId": "862a805e-fae6-46b9-eaf6-0297ba13898d"
   },
   "outputs": [
    {
     "data": {
      "text/html": [
       "<div>\n",
       "<style scoped>\n",
       "    .dataframe tbody tr th:only-of-type {\n",
       "        vertical-align: middle;\n",
       "    }\n",
       "\n",
       "    .dataframe tbody tr th {\n",
       "        vertical-align: top;\n",
       "    }\n",
       "\n",
       "    .dataframe thead th {\n",
       "        text-align: right;\n",
       "    }\n",
       "</style>\n",
       "<table border=\"1\" class=\"dataframe\">\n",
       "  <thead>\n",
       "    <tr style=\"text-align: right;\">\n",
       "      <th></th>\n",
       "      <th>driverStandingsId</th>\n",
       "      <th>raceId</th>\n",
       "      <th>driverId</th>\n",
       "      <th>points</th>\n",
       "      <th>position</th>\n",
       "      <th>positionText</th>\n",
       "      <th>wins</th>\n",
       "    </tr>\n",
       "  </thead>\n",
       "  <tbody>\n",
       "    <tr>\n",
       "      <th>0</th>\n",
       "      <td>1</td>\n",
       "      <td>18</td>\n",
       "      <td>1</td>\n",
       "      <td>10.0</td>\n",
       "      <td>1</td>\n",
       "      <td>1</td>\n",
       "      <td>1</td>\n",
       "    </tr>\n",
       "    <tr>\n",
       "      <th>1</th>\n",
       "      <td>2</td>\n",
       "      <td>18</td>\n",
       "      <td>2</td>\n",
       "      <td>8.0</td>\n",
       "      <td>2</td>\n",
       "      <td>2</td>\n",
       "      <td>0</td>\n",
       "    </tr>\n",
       "    <tr>\n",
       "      <th>2</th>\n",
       "      <td>3</td>\n",
       "      <td>18</td>\n",
       "      <td>3</td>\n",
       "      <td>6.0</td>\n",
       "      <td>3</td>\n",
       "      <td>3</td>\n",
       "      <td>0</td>\n",
       "    </tr>\n",
       "    <tr>\n",
       "      <th>3</th>\n",
       "      <td>4</td>\n",
       "      <td>18</td>\n",
       "      <td>4</td>\n",
       "      <td>5.0</td>\n",
       "      <td>4</td>\n",
       "      <td>4</td>\n",
       "      <td>0</td>\n",
       "    </tr>\n",
       "    <tr>\n",
       "      <th>4</th>\n",
       "      <td>5</td>\n",
       "      <td>18</td>\n",
       "      <td>5</td>\n",
       "      <td>4.0</td>\n",
       "      <td>5</td>\n",
       "      <td>5</td>\n",
       "      <td>0</td>\n",
       "    </tr>\n",
       "  </tbody>\n",
       "</table>\n",
       "</div>"
      ],
      "text/plain": [
       "   driverStandingsId  raceId  driverId  points  position positionText  wins\n",
       "0                  1      18         1    10.0         1            1     1\n",
       "1                  2      18         2     8.0         2            2     0\n",
       "2                  3      18         3     6.0         3            3     0\n",
       "3                  4      18         4     5.0         4            4     0\n",
       "4                  5      18         5     4.0         5            5     0"
      ]
     },
     "execution_count": 27,
     "metadata": {},
     "output_type": "execute_result"
    }
   ],
   "source": [
    "driver_standings_df.head()"
   ]
  },
  {
   "cell_type": "code",
   "execution_count": null,
   "id": "6waIAYLTS_nh",
   "metadata": {
    "colab": {
     "base_uri": "https://localhost:8080/"
    },
    "hidden": true,
    "id": "6waIAYLTS_nh",
    "outputId": "ca437ab4-6ca0-4454-86f2-21ae27ae472b"
   },
   "outputs": [
    {
     "name": "stdout",
     "output_type": "stream",
     "text": [
      "driver_standings_df.dtypes =  driverStandingsId      int64\n",
      "raceId                 int64\n",
      "driverId               int64\n",
      "points               float64\n",
      "position               int64\n",
      "positionText          object\n",
      "wins                   int64\n",
      "dtype: object\n",
      "driver_standings_df.dtypes =  driverStandingsId     object\n",
      "raceId                object\n",
      "driverId              object\n",
      "points               float64\n",
      "position               int64\n",
      "positionText          object\n",
      "wins                   int64\n",
      "dtype: object\n"
     ]
    }
   ],
   "source": [
    "# Change datatype of primary key ids from int to string\n",
    "print(\"driver_standings_df.dtypes = \", driver_standings_df.dtypes)\n",
    "driver_standings_df['driverStandingsId'] = driver_standings_df['driverStandingsId'].astype('str')\n",
    "driver_standings_df['raceId'] = driver_standings_df['raceId'].astype('str')\n",
    "driver_standings_df['driverId'] = driver_standings_df['driverId'].astype('str')\n",
    "print(\"driver_standings_df.dtypes = \", driver_standings_df.dtypes)"
   ]
  },
  {
   "cell_type": "code",
   "execution_count": null,
   "id": "_UHDXfD2S_lX",
   "metadata": {
    "colab": {
     "base_uri": "https://localhost:8080/"
    },
    "hidden": true,
    "id": "_UHDXfD2S_lX",
    "outputId": "3666f368-3c11-48e2-a74c-e68c37b9bbf4"
   },
   "outputs": [
    {
     "data": {
      "image/png": "[encoded data removed]",
      "text/plain": [
       "<Figure size 432x288 with 1 Axes>"
      ]
     },
     "metadata": {
      "needs_background": "light"
     },
     "output_type": "display_data"
    }
   ],
   "source": [
    "# Check boxplot to clean outlier positions \n",
    "boxplot = driver_standings_df.boxplot(column=['position'])"
   ]
  },
  {
   "cell_type": "code",
   "execution_count": null,
   "id": "rmbPKSBVS_jP",
   "metadata": {
    "colab": {
     "base_uri": "https://localhost:8080/"
    },
    "hidden": true,
    "id": "rmbPKSBVS_jP",
    "outputId": "b362183b-603f-4102-dbf4-0eeaa6b396e1"
   },
   "outputs": [
    {
     "name": "stdout",
     "output_type": "stream",
     "text": [
      "33125\n",
      "676\n",
      "32449\n",
      "0.02040754716981132\n"
     ]
    }
   ],
   "source": [
    "# Find percentage of incorrect number of wins ie wins>3\n",
    "print(driver_standings_df['wins'].count())\n",
    "print(driver_standings_df[driver_standings_df.wins > 3]['wins'].count())\n",
    "print(driver_standings_df[driver_standings_df.wins <= 3]['wins'].count())\n",
    "print(driver_standings_df[driver_standings_df.wins > 3]['wins'].count()/driver_standings_df['wins'].count())"
   ]
  },
  {
   "cell_type": "code",
   "execution_count": null,
   "id": "dAeCCZhfS_ht",
   "metadata": {
    "colab": {
     "base_uri": "https://localhost:8080/"
    },
    "hidden": true,
    "id": "dAeCCZhfS_ht",
    "outputId": "ba0d0f82-30d4-40d0-bcbf-11ec464adae2"
   },
   "outputs": [
    {
     "name": "stdout",
     "output_type": "stream",
     "text": [
      "32449\n",
      "0\n",
      "32449\n",
      "1.0\n"
     ]
    }
   ],
   "source": [
    "#Drop those rows\n",
    "driver_standings_df = driver_standings_df[driver_standings_df['wins'] <= 3]\n",
    "print(driver_standings_df['wins'].count())\n",
    "print(driver_standings_df[driver_standings_df.wins > 3]['wins'].count())\n",
    "print(driver_standings_df[driver_standings_df.wins <= 3]['wins'].count())\n",
    "print(driver_standings_df[driver_standings_df.wins <= 3]['wins'].count()/driver_standings_df['wins'].count())"
   ]
  },
  {
   "cell_type": "code",
   "execution_count": null,
   "id": "ih6GMAbrS_fj",
   "metadata": {
    "hidden": true,
    "id": "ih6GMAbrS_fj"
   },
   "outputs": [],
   "source": [
    "# Drop positionText since it is the string format of positions column = unuseful\n",
    "driver_standings_df = driver_standings_df.drop(['positionText'], axis=1)"
   ]
  },
  {
   "cell_type": "code",
   "execution_count": null,
   "id": "2X1BelxxS_de",
   "metadata": {
    "colab": {
     "base_uri": "https://localhost:8080/"
    },
    "hidden": true,
    "id": "2X1BelxxS_de",
    "outputId": "6c04c54b-9a70-48df-b429-9e7c1e503579"
   },
   "outputs": [
    {
     "data": {
      "text/html": [
       "<div>\n",
       "<style scoped>\n",
       "    .dataframe tbody tr th:only-of-type {\n",
       "        vertical-align: middle;\n",
       "    }\n",
       "\n",
       "    .dataframe tbody tr th {\n",
       "        vertical-align: top;\n",
       "    }\n",
       "\n",
       "    .dataframe thead th {\n",
       "        text-align: right;\n",
       "    }\n",
       "</style>\n",
       "<table border=\"1\" class=\"dataframe\">\n",
       "  <thead>\n",
       "    <tr style=\"text-align: right;\">\n",
       "      <th></th>\n",
       "      <th>driverStandingsId</th>\n",
       "      <th>raceId</th>\n",
       "      <th>driverId</th>\n",
       "      <th>points</th>\n",
       "      <th>position</th>\n",
       "      <th>wins</th>\n",
       "    </tr>\n",
       "  </thead>\n",
       "  <tbody>\n",
       "    <tr>\n",
       "      <th>0</th>\n",
       "      <td>1</td>\n",
       "      <td>18</td>\n",
       "      <td>1</td>\n",
       "      <td>10.0</td>\n",
       "      <td>1</td>\n",
       "      <td>1</td>\n",
       "    </tr>\n",
       "    <tr>\n",
       "      <th>1</th>\n",
       "      <td>2</td>\n",
       "      <td>18</td>\n",
       "      <td>2</td>\n",
       "      <td>8.0</td>\n",
       "      <td>2</td>\n",
       "      <td>0</td>\n",
       "    </tr>\n",
       "    <tr>\n",
       "      <th>2</th>\n",
       "      <td>3</td>\n",
       "      <td>18</td>\n",
       "      <td>3</td>\n",
       "      <td>6.0</td>\n",
       "      <td>3</td>\n",
       "      <td>0</td>\n",
       "    </tr>\n",
       "    <tr>\n",
       "      <th>3</th>\n",
       "      <td>4</td>\n",
       "      <td>18</td>\n",
       "      <td>4</td>\n",
       "      <td>5.0</td>\n",
       "      <td>4</td>\n",
       "      <td>0</td>\n",
       "    </tr>\n",
       "    <tr>\n",
       "      <th>4</th>\n",
       "      <td>5</td>\n",
       "      <td>18</td>\n",
       "      <td>5</td>\n",
       "      <td>4.0</td>\n",
       "      <td>5</td>\n",
       "      <td>0</td>\n",
       "    </tr>\n",
       "  </tbody>\n",
       "</table>\n",
       "</div>"
      ],
      "text/plain": [
       "  driverStandingsId raceId driverId  points  position  wins\n",
       "0                 1     18        1    10.0         1     1\n",
       "1                 2     18        2     8.0         2     0\n",
       "2                 3     18        3     6.0         3     0\n",
       "3                 4     18        4     5.0         4     0\n",
       "4                 5     18        5     4.0         5     0"
      ]
     },
     "execution_count": 33,
     "metadata": {},
     "output_type": "execute_result"
    }
   ],
   "source": [
    "# Cleaned driver_standings_df\n",
    "driver_standings_df.head()"
   ]
  },
  {
   "cell_type": "markdown",
   "id": "KHBDa8evTtmL",
   "metadata": {
    "hidden": true,
    "id": "KHBDa8evTtmL"
   },
   "source": [
    "<H1> DRIVERS </H1>\n",
    "This dataset represents the information about all drivers in F1 racing over the years. <br>\n",
    "<br>\n",
    " Values represented by each columns: \n",
    "<ol>\n",
    "    <li> driverId - The unique id of each driver.\n",
    "    <li> driverRef - Reference name of driver\n",
    "    <li> number - Car Number (Analogous to jersey number in other sports)\n",
    "    <li> code - The three letter code that represents each driver\n",
    "    <li> forename - First name\n",
    "    <li> dob - Date of birth\n",
    "    <li> nationality - Nationality of the driver\n",
    "    <li> url - The link to the wikipedia page of the driver\n",
    "    <li> surname - Last name\n",
    "</ol>\n",
    "<br>\n",
    "Observations and cleaning strategy used : \n",
    "<ul>\n",
    "    <li> Replace '\\N' with NaN, since it represents null values in the dataset\n",
    "    <li> Created extra column - age from date of birth etc, for further analysis\n",
    "    <li> Change datatype of primary key ids to string\n",
    "</ul>"
   ]
  },
  {
   "cell_type": "code",
   "execution_count": null,
   "id": "Au-se3U0S_bF",
   "metadata": {
    "colab": {
     "base_uri": "https://localhost:8080/"
    },
    "hidden": true,
    "id": "Au-se3U0S_bF",
    "outputId": "1476288f-67f7-402f-e60d-1687c231601a"
   },
   "outputs": [
    {
     "data": {
      "text/html": [
       "<div>\n",
       "<style scoped>\n",
       "    .dataframe tbody tr th:only-of-type {\n",
       "        vertical-align: middle;\n",
       "    }\n",
       "\n",
       "    .dataframe tbody tr th {\n",
       "        vertical-align: top;\n",
       "    }\n",
       "\n",
       "    .dataframe thead th {\n",
       "        text-align: right;\n",
       "    }\n",
       "</style>\n",
       "<table border=\"1\" class=\"dataframe\">\n",
       "  <thead>\n",
       "    <tr style=\"text-align: right;\">\n",
       "      <th></th>\n",
       "      <th>driverId</th>\n",
       "      <th>driverRef</th>\n",
       "      <th>number</th>\n",
       "      <th>code</th>\n",
       "      <th>forename</th>\n",
       "      <th>surname</th>\n",
       "      <th>dob</th>\n",
       "      <th>nationality</th>\n",
       "      <th>url</th>\n",
       "    </tr>\n",
       "  </thead>\n",
       "  <tbody>\n",
       "    <tr>\n",
       "      <th>0</th>\n",
       "      <td>1</td>\n",
       "      <td>hamilton</td>\n",
       "      <td>44</td>\n",
       "      <td>HAM</td>\n",
       "      <td>Lewis</td>\n",
       "      <td>Hamilton</td>\n",
       "      <td>1985-01-07</td>\n",
       "      <td>British</td>\n",
       "      <td>http://en.wikipedia.org/wiki/Lewis_Hamilton</td>\n",
       "    </tr>\n",
       "    <tr>\n",
       "      <th>1</th>\n",
       "      <td>2</td>\n",
       "      <td>heidfeld</td>\n",
       "      <td>\\N</td>\n",
       "      <td>HEI</td>\n",
       "      <td>Nick</td>\n",
       "      <td>Heidfeld</td>\n",
       "      <td>1977-05-10</td>\n",
       "      <td>German</td>\n",
       "      <td>http://en.wikipedia.org/wiki/Nick_Heidfeld</td>\n",
       "    </tr>\n",
       "    <tr>\n",
       "      <th>2</th>\n",
       "      <td>3</td>\n",
       "      <td>rosberg</td>\n",
       "      <td>6</td>\n",
       "      <td>ROS</td>\n",
       "      <td>Nico</td>\n",
       "      <td>Rosberg</td>\n",
       "      <td>1985-06-27</td>\n",
       "      <td>German</td>\n",
       "      <td>http://en.wikipedia.org/wiki/Nico_Rosberg</td>\n",
       "    </tr>\n",
       "    <tr>\n",
       "      <th>3</th>\n",
       "      <td>4</td>\n",
       "      <td>alonso</td>\n",
       "      <td>14</td>\n",
       "      <td>ALO</td>\n",
       "      <td>Fernando</td>\n",
       "      <td>Alonso</td>\n",
       "      <td>1981-07-29</td>\n",
       "      <td>Spanish</td>\n",
       "      <td>http://en.wikipedia.org/wiki/Fernando_Alonso</td>\n",
       "    </tr>\n",
       "    <tr>\n",
       "      <th>4</th>\n",
       "      <td>5</td>\n",
       "      <td>kovalainen</td>\n",
       "      <td>\\N</td>\n",
       "      <td>KOV</td>\n",
       "      <td>Heikki</td>\n",
       "      <td>Kovalainen</td>\n",
       "      <td>1981-10-19</td>\n",
       "      <td>Finnish</td>\n",
       "      <td>http://en.wikipedia.org/wiki/Heikki_Kovalainen</td>\n",
       "    </tr>\n",
       "  </tbody>\n",
       "</table>\n",
       "</div>"
      ],
      "text/plain": [
       "   driverId  ...                                             url\n",
       "0         1  ...     http://en.wikipedia.org/wiki/Lewis_Hamilton\n",
       "1         2  ...      http://en.wikipedia.org/wiki/Nick_Heidfeld\n",
       "2         3  ...       http://en.wikipedia.org/wiki/Nico_Rosberg\n",
       "3         4  ...    http://en.wikipedia.org/wiki/Fernando_Alonso\n",
       "4         5  ...  http://en.wikipedia.org/wiki/Heikki_Kovalainen\n",
       "\n",
       "[5 rows x 9 columns]"
      ]
     },
     "execution_count": 34,
     "metadata": {},
     "output_type": "execute_result"
    }
   ],
   "source": [
    "drivers_df = pd.read_csv('drivers.csv')\n",
    "drivers_df.head()"
   ]
  },
  {
   "cell_type": "code",
   "execution_count": null,
   "id": "Pws3uBtGS_Y7",
   "metadata": {
    "colab": {
     "base_uri": "https://localhost:8080/"
    },
    "hidden": true,
    "id": "Pws3uBtGS_Y7",
    "outputId": "3a9bbc84-1798-4a9b-837e-594852a6d29b"
   },
   "outputs": [
    {
     "name": "stdout",
     "output_type": "stream",
     "text": [
      "driverId        int64\n",
      "driverRef      object\n",
      "number         object\n",
      "code           object\n",
      "forename       object\n",
      "surname        object\n",
      "dob            object\n",
      "nationality    object\n",
      "url            object\n",
      "dtype: object\n",
      "driverId        int64\n",
      "driverRef      object\n",
      "number         object\n",
      "code           object\n",
      "forename       object\n",
      "surname        object\n",
      "dob            object\n",
      "nationality    object\n",
      "url            object\n",
      "dtype: object\n"
     ]
    }
   ],
   "source": [
    "# Change datatype of primary key ids from int to string\n",
    "print(drivers_df.dtypes)\n",
    "driver_standings_df['driverId'] = driver_standings_df['driverId'].astype('str')\n",
    "print(drivers_df.dtypes)"
   ]
  },
  {
   "cell_type": "code",
   "execution_count": null,
   "id": "pi6XoFkMS_Ws",
   "metadata": {
    "colab": {
     "base_uri": "https://localhost:8080/"
    },
    "hidden": true,
    "id": "pi6XoFkMS_Ws",
    "outputId": "5e91ba61-5728-4318-cc5d-279de1bfd083"
   },
   "outputs": [
    {
     "data": {
      "text/html": [
       "<div>\n",
       "<style scoped>\n",
       "    .dataframe tbody tr th:only-of-type {\n",
       "        vertical-align: middle;\n",
       "    }\n",
       "\n",
       "    .dataframe tbody tr th {\n",
       "        vertical-align: top;\n",
       "    }\n",
       "\n",
       "    .dataframe thead th {\n",
       "        text-align: right;\n",
       "    }\n",
       "</style>\n",
       "<table border=\"1\" class=\"dataframe\">\n",
       "  <thead>\n",
       "    <tr style=\"text-align: right;\">\n",
       "      <th></th>\n",
       "      <th>driverId</th>\n",
       "      <th>driverRef</th>\n",
       "      <th>number</th>\n",
       "      <th>code</th>\n",
       "      <th>forename</th>\n",
       "      <th>surname</th>\n",
       "      <th>dob</th>\n",
       "      <th>nationality</th>\n",
       "      <th>url</th>\n",
       "    </tr>\n",
       "  </thead>\n",
       "  <tbody>\n",
       "    <tr>\n",
       "      <th>1</th>\n",
       "      <td>2</td>\n",
       "      <td>heidfeld</td>\n",
       "      <td>\\N</td>\n",
       "      <td>HEI</td>\n",
       "      <td>Nick</td>\n",
       "      <td>Heidfeld</td>\n",
       "      <td>1977-05-10</td>\n",
       "      <td>German</td>\n",
       "      <td>http://en.wikipedia.org/wiki/Nick_Heidfeld</td>\n",
       "    </tr>\n",
       "    <tr>\n",
       "      <th>4</th>\n",
       "      <td>5</td>\n",
       "      <td>kovalainen</td>\n",
       "      <td>\\N</td>\n",
       "      <td>KOV</td>\n",
       "      <td>Heikki</td>\n",
       "      <td>Kovalainen</td>\n",
       "      <td>1981-10-19</td>\n",
       "      <td>Finnish</td>\n",
       "      <td>http://en.wikipedia.org/wiki/Heikki_Kovalainen</td>\n",
       "    </tr>\n",
       "    <tr>\n",
       "      <th>5</th>\n",
       "      <td>6</td>\n",
       "      <td>nakajima</td>\n",
       "      <td>\\N</td>\n",
       "      <td>NAK</td>\n",
       "      <td>Kazuki</td>\n",
       "      <td>Nakajima</td>\n",
       "      <td>1985-01-11</td>\n",
       "      <td>Japanese</td>\n",
       "      <td>http://en.wikipedia.org/wiki/Kazuki_Nakajima</td>\n",
       "    </tr>\n",
       "    <tr>\n",
       "      <th>6</th>\n",
       "      <td>7</td>\n",
       "      <td>bourdais</td>\n",
       "      <td>\\N</td>\n",
       "      <td>BOU</td>\n",
       "      <td>Sébastien</td>\n",
       "      <td>Bourdais</td>\n",
       "      <td>1979-02-28</td>\n",
       "      <td>French</td>\n",
       "      <td>http://en.wikipedia.org/wiki/S%C3%A9bastien_Bo...</td>\n",
       "    </tr>\n",
       "    <tr>\n",
       "      <th>9</th>\n",
       "      <td>10</td>\n",
       "      <td>glock</td>\n",
       "      <td>\\N</td>\n",
       "      <td>GLO</td>\n",
       "      <td>Timo</td>\n",
       "      <td>Glock</td>\n",
       "      <td>1982-03-18</td>\n",
       "      <td>German</td>\n",
       "      <td>http://en.wikipedia.org/wiki/Timo_Glock</td>\n",
       "    </tr>\n",
       "    <tr>\n",
       "      <th>...</th>\n",
       "      <td>...</td>\n",
       "      <td>...</td>\n",
       "      <td>...</td>\n",
       "      <td>...</td>\n",
       "      <td>...</td>\n",
       "      <td>...</td>\n",
       "      <td>...</td>\n",
       "      <td>...</td>\n",
       "      <td>...</td>\n",
       "    </tr>\n",
       "    <tr>\n",
       "      <th>811</th>\n",
       "      <td>812</td>\n",
       "      <td>chandhok</td>\n",
       "      <td>\\N</td>\n",
       "      <td>CHA</td>\n",
       "      <td>Karun</td>\n",
       "      <td>Chandhok</td>\n",
       "      <td>1984-01-19</td>\n",
       "      <td>Indian</td>\n",
       "      <td>http://en.wikipedia.org/wiki/Karun_Chandhok</td>\n",
       "    </tr>\n",
       "    <tr>\n",
       "      <th>813</th>\n",
       "      <td>814</td>\n",
       "      <td>resta</td>\n",
       "      <td>\\N</td>\n",
       "      <td>DIR</td>\n",
       "      <td>Paul</td>\n",
       "      <td>di Resta</td>\n",
       "      <td>1986-04-16</td>\n",
       "      <td>British</td>\n",
       "      <td>http://en.wikipedia.org/wiki/Paul_di_Resta</td>\n",
       "    </tr>\n",
       "    <tr>\n",
       "      <th>815</th>\n",
       "      <td>816</td>\n",
       "      <td>ambrosio</td>\n",
       "      <td>\\N</td>\n",
       "      <td>DAM</td>\n",
       "      <td>Jérôme</td>\n",
       "      <td>d'Ambrosio</td>\n",
       "      <td>1985-12-27</td>\n",
       "      <td>Belgian</td>\n",
       "      <td>http://en.wikipedia.org/wiki/J%C3%A9r%C3%B4me_...</td>\n",
       "    </tr>\n",
       "    <tr>\n",
       "      <th>818</th>\n",
       "      <td>819</td>\n",
       "      <td>pic</td>\n",
       "      <td>\\N</td>\n",
       "      <td>PIC</td>\n",
       "      <td>Charles</td>\n",
       "      <td>Pic</td>\n",
       "      <td>1990-02-15</td>\n",
       "      <td>French</td>\n",
       "      <td>http://en.wikipedia.org/wiki/Charles_Pic</td>\n",
       "    </tr>\n",
       "    <tr>\n",
       "      <th>822</th>\n",
       "      <td>823</td>\n",
       "      <td>garde</td>\n",
       "      <td>\\N</td>\n",
       "      <td>VDG</td>\n",
       "      <td>Giedo</td>\n",
       "      <td>van der Garde</td>\n",
       "      <td>1985-04-25</td>\n",
       "      <td>Dutch</td>\n",
       "      <td>http://en.wikipedia.org/wiki/Giedo_van_der_Garde</td>\n",
       "    </tr>\n",
       "  </tbody>\n",
       "</table>\n",
       "<p>803 rows × 9 columns</p>\n",
       "</div>"
      ],
      "text/plain": [
       "     driverId  ...                                                url\n",
       "1           2  ...         http://en.wikipedia.org/wiki/Nick_Heidfeld\n",
       "4           5  ...     http://en.wikipedia.org/wiki/Heikki_Kovalainen\n",
       "5           6  ...       http://en.wikipedia.org/wiki/Kazuki_Nakajima\n",
       "6           7  ...  http://en.wikipedia.org/wiki/S%C3%A9bastien_Bo...\n",
       "9          10  ...            http://en.wikipedia.org/wiki/Timo_Glock\n",
       "..        ...  ...                                                ...\n",
       "811       812  ...        http://en.wikipedia.org/wiki/Karun_Chandhok\n",
       "813       814  ...         http://en.wikipedia.org/wiki/Paul_di_Resta\n",
       "815       816  ...  http://en.wikipedia.org/wiki/J%C3%A9r%C3%B4me_...\n",
       "818       819  ...           http://en.wikipedia.org/wiki/Charles_Pic\n",
       "822       823  ...   http://en.wikipedia.org/wiki/Giedo_van_der_Garde\n",
       "\n",
       "[803 rows x 9 columns]"
      ]
     },
     "execution_count": 36,
     "metadata": {},
     "output_type": "execute_result"
    }
   ],
   "source": [
    "drivers_df[drivers_df['number'] == '\\\\N']"
   ]
  },
  {
   "cell_type": "code",
   "execution_count": null,
   "id": "9FgBr2tES_UO",
   "metadata": {
    "hidden": true,
    "id": "9FgBr2tES_UO"
   },
   "outputs": [],
   "source": [
    "# Replace \\N with NaN values\n",
    "drivers_df = drivers_df.replace('\\\\N', np.nan)"
   ]
  },
  {
   "cell_type": "code",
   "execution_count": null,
   "id": "o37hg0rES_R_",
   "metadata": {
    "colab": {
     "base_uri": "https://localhost:8080/"
    },
    "hidden": true,
    "id": "o37hg0rES_R_",
    "outputId": "5f0262e0-5ad4-489b-ba29-83633043bb5c"
   },
   "outputs": [
    {
     "data": {
      "text/html": [
       "<div>\n",
       "<style scoped>\n",
       "    .dataframe tbody tr th:only-of-type {\n",
       "        vertical-align: middle;\n",
       "    }\n",
       "\n",
       "    .dataframe tbody tr th {\n",
       "        vertical-align: top;\n",
       "    }\n",
       "\n",
       "    .dataframe thead th {\n",
       "        text-align: right;\n",
       "    }\n",
       "</style>\n",
       "<table border=\"1\" class=\"dataframe\">\n",
       "  <thead>\n",
       "    <tr style=\"text-align: right;\">\n",
       "      <th></th>\n",
       "      <th>driverId</th>\n",
       "      <th>driverRef</th>\n",
       "      <th>number</th>\n",
       "      <th>code</th>\n",
       "      <th>forename</th>\n",
       "      <th>surname</th>\n",
       "      <th>dob</th>\n",
       "      <th>nationality</th>\n",
       "      <th>url</th>\n",
       "      <th>Age</th>\n",
       "    </tr>\n",
       "  </thead>\n",
       "  <tbody>\n",
       "    <tr>\n",
       "      <th>0</th>\n",
       "      <td>1</td>\n",
       "      <td>hamilton</td>\n",
       "      <td>44</td>\n",
       "      <td>HAM</td>\n",
       "      <td>Lewis</td>\n",
       "      <td>Hamilton</td>\n",
       "      <td>1985-01-07</td>\n",
       "      <td>British</td>\n",
       "      <td>http://en.wikipedia.org/wiki/Lewis_Hamilton</td>\n",
       "      <td>36</td>\n",
       "    </tr>\n",
       "    <tr>\n",
       "      <th>1</th>\n",
       "      <td>2</td>\n",
       "      <td>heidfeld</td>\n",
       "      <td>NaN</td>\n",
       "      <td>HEI</td>\n",
       "      <td>Nick</td>\n",
       "      <td>Heidfeld</td>\n",
       "      <td>1977-05-10</td>\n",
       "      <td>German</td>\n",
       "      <td>http://en.wikipedia.org/wiki/Nick_Heidfeld</td>\n",
       "      <td>44</td>\n",
       "    </tr>\n",
       "    <tr>\n",
       "      <th>2</th>\n",
       "      <td>3</td>\n",
       "      <td>rosberg</td>\n",
       "      <td>6</td>\n",
       "      <td>ROS</td>\n",
       "      <td>Nico</td>\n",
       "      <td>Rosberg</td>\n",
       "      <td>1985-06-27</td>\n",
       "      <td>German</td>\n",
       "      <td>http://en.wikipedia.org/wiki/Nico_Rosberg</td>\n",
       "      <td>36</td>\n",
       "    </tr>\n",
       "    <tr>\n",
       "      <th>3</th>\n",
       "      <td>4</td>\n",
       "      <td>alonso</td>\n",
       "      <td>14</td>\n",
       "      <td>ALO</td>\n",
       "      <td>Fernando</td>\n",
       "      <td>Alonso</td>\n",
       "      <td>1981-07-29</td>\n",
       "      <td>Spanish</td>\n",
       "      <td>http://en.wikipedia.org/wiki/Fernando_Alonso</td>\n",
       "      <td>40</td>\n",
       "    </tr>\n",
       "    <tr>\n",
       "      <th>4</th>\n",
       "      <td>5</td>\n",
       "      <td>kovalainen</td>\n",
       "      <td>NaN</td>\n",
       "      <td>KOV</td>\n",
       "      <td>Heikki</td>\n",
       "      <td>Kovalainen</td>\n",
       "      <td>1981-10-19</td>\n",
       "      <td>Finnish</td>\n",
       "      <td>http://en.wikipedia.org/wiki/Heikki_Kovalainen</td>\n",
       "      <td>40</td>\n",
       "    </tr>\n",
       "  </tbody>\n",
       "</table>\n",
       "</div>"
      ],
      "text/plain": [
       "   driverId   driverRef  ...                                             url Age\n",
       "0         1    hamilton  ...     http://en.wikipedia.org/wiki/Lewis_Hamilton  36\n",
       "1         2    heidfeld  ...      http://en.wikipedia.org/wiki/Nick_Heidfeld  44\n",
       "2         3     rosberg  ...       http://en.wikipedia.org/wiki/Nico_Rosberg  36\n",
       "3         4      alonso  ...    http://en.wikipedia.org/wiki/Fernando_Alonso  40\n",
       "4         5  kovalainen  ...  http://en.wikipedia.org/wiki/Heikki_Kovalainen  40\n",
       "\n",
       "[5 rows x 10 columns]"
      ]
     },
     "execution_count": 38,
     "metadata": {},
     "output_type": "execute_result"
    }
   ],
   "source": [
    "# Create column age\n",
    "def age(born):\n",
    "    born = datetime.strptime(born, \"%Y-%m-%d\").date()\n",
    "    today = date.today()\n",
    "    return today.year - born.year - ((today.month, today.day) < (born.month, born.day))\n",
    "  \n",
    "drivers_df['Age'] = drivers_df['dob'].apply(age)\n",
    "drivers_df.head()"
   ]
  },
  {
   "cell_type": "markdown",
   "id": "O7OztdZsULNJ",
   "metadata": {
    "hidden": true,
    "id": "O7OztdZsULNJ"
   },
   "source": [
    "<H1> LAP TIMES </H1>\n",
    "This dataset represents the times taken to finish a lap for each race in F1. <br>\n",
    "<br>\n",
    " Values represented by each columns: \n",
    "<ol>\n",
    "    <li> raceId - The unique race id for which the lap times are being recorded\n",
    "    <li> driverId - The unique id of driver for which the lap times are being recorded\n",
    "    <li> lap - The lap number for which the lap times are being recorded\n",
    "    <li> position - The number at which the driver crossed the final line\n",
    "    <li> time - String of time taken for that lap\n",
    "    <li> milliseconds - The time taken in milliseconds\n",
    "</ol>\n",
    "<br>\n",
    "Observations and cleaning strategy used : \n",
    "<ul>\n",
    "    <li> Replace '\\N' with NaN, since it represents null values in the dataset\n",
    "    <li> Change datatype of primary key ids to string\n",
    "</ul>"
   ]
  },
  {
   "cell_type": "code",
   "execution_count": null,
   "id": "OgBTgCliS_Pi",
   "metadata": {
    "colab": {
     "base_uri": "https://localhost:8080/",
     "height": 204
    },
    "hidden": true,
    "id": "OgBTgCliS_Pi",
    "outputId": "4bddb2c2-101b-4d85-9744-f87631f8337c"
   },
   "outputs": [
    {
     "data": {
      "text/html": [
       "<div>\n",
       "<style scoped>\n",
       "    .dataframe tbody tr th:only-of-type {\n",
       "        vertical-align: middle;\n",
       "    }\n",
       "\n",
       "    .dataframe tbody tr th {\n",
       "        vertical-align: top;\n",
       "    }\n",
       "\n",
       "    .dataframe thead th {\n",
       "        text-align: right;\n",
       "    }\n",
       "</style>\n",
       "<table border=\"1\" class=\"dataframe\">\n",
       "  <thead>\n",
       "    <tr style=\"text-align: right;\">\n",
       "      <th></th>\n",
       "      <th>raceId</th>\n",
       "      <th>driverId</th>\n",
       "      <th>lap</th>\n",
       "      <th>position</th>\n",
       "      <th>time</th>\n",
       "      <th>milliseconds</th>\n",
       "    </tr>\n",
       "  </thead>\n",
       "  <tbody>\n",
       "    <tr>\n",
       "      <th>0</th>\n",
       "      <td>841</td>\n",
       "      <td>20</td>\n",
       "      <td>1</td>\n",
       "      <td>1</td>\n",
       "      <td>1:38.109</td>\n",
       "      <td>98109</td>\n",
       "    </tr>\n",
       "    <tr>\n",
       "      <th>1</th>\n",
       "      <td>841</td>\n",
       "      <td>20</td>\n",
       "      <td>2</td>\n",
       "      <td>1</td>\n",
       "      <td>1:33.006</td>\n",
       "      <td>93006</td>\n",
       "    </tr>\n",
       "    <tr>\n",
       "      <th>2</th>\n",
       "      <td>841</td>\n",
       "      <td>20</td>\n",
       "      <td>3</td>\n",
       "      <td>1</td>\n",
       "      <td>1:32.713</td>\n",
       "      <td>92713</td>\n",
       "    </tr>\n",
       "    <tr>\n",
       "      <th>3</th>\n",
       "      <td>841</td>\n",
       "      <td>20</td>\n",
       "      <td>4</td>\n",
       "      <td>1</td>\n",
       "      <td>1:32.803</td>\n",
       "      <td>92803</td>\n",
       "    </tr>\n",
       "    <tr>\n",
       "      <th>4</th>\n",
       "      <td>841</td>\n",
       "      <td>20</td>\n",
       "      <td>5</td>\n",
       "      <td>1</td>\n",
       "      <td>1:32.342</td>\n",
       "      <td>92342</td>\n",
       "    </tr>\n",
       "  </tbody>\n",
       "</table>\n",
       "</div>"
      ],
      "text/plain": [
       "   raceId  driverId  lap  position      time  milliseconds\n",
       "0     841        20    1         1  1:38.109         98109\n",
       "1     841        20    2         1  1:33.006         93006\n",
       "2     841        20    3         1  1:32.713         92713\n",
       "3     841        20    4         1  1:32.803         92803\n",
       "4     841        20    5         1  1:32.342         92342"
      ]
     },
     "execution_count": 180,
     "metadata": {},
     "output_type": "execute_result"
    }
   ],
   "source": [
    "lap_times_df = pd.read_csv('lap_times.csv')\n",
    "lap_times_df.head()"
   ]
  },
  {
   "cell_type": "code",
   "execution_count": null,
   "id": "X2BdCnRIS_NH",
   "metadata": {
    "colab": {
     "base_uri": "https://localhost:8080/"
    },
    "hidden": true,
    "id": "X2BdCnRIS_NH",
    "outputId": "6b02e807-d53e-43d1-be1f-aef24548352e"
   },
   "outputs": [
    {
     "data": {
      "text/plain": [
       "raceId          object\n",
       "driverId        object\n",
       "lap              int64\n",
       "position         int64\n",
       "time            object\n",
       "milliseconds     int64\n",
       "dtype: object"
      ]
     },
     "execution_count": 40,
     "metadata": {},
     "output_type": "execute_result"
    }
   ],
   "source": [
    "# Change datatype of primary key ids from int to string\n",
    "lap_times_df.dtypes\n",
    "lap_times_df['raceId'] = lap_times_df['raceId'].astype('str')\n",
    "lap_times_df['driverId'] = lap_times_df['driverId'].astype('str')\n",
    "lap_times_df.dtypes"
   ]
  },
  {
   "cell_type": "code",
   "execution_count": null,
   "id": "o6mECk6dS_Is",
   "metadata": {
    "colab": {
     "base_uri": "https://localhost:8080/"
    },
    "hidden": true,
    "id": "o6mECk6dS_Is",
    "outputId": "dad0a6f8-6fae-4891-ad79-d0120bec5434"
   },
   "outputs": [
    {
     "data": {
      "text/html": [
       "<div>\n",
       "<style scoped>\n",
       "    .dataframe tbody tr th:only-of-type {\n",
       "        vertical-align: middle;\n",
       "    }\n",
       "\n",
       "    .dataframe tbody tr th {\n",
       "        vertical-align: top;\n",
       "    }\n",
       "\n",
       "    .dataframe thead th {\n",
       "        text-align: right;\n",
       "    }\n",
       "</style>\n",
       "<table border=\"1\" class=\"dataframe\">\n",
       "  <thead>\n",
       "    <tr style=\"text-align: right;\">\n",
       "      <th></th>\n",
       "      <th>lap</th>\n",
       "      <th>position</th>\n",
       "      <th>milliseconds</th>\n",
       "    </tr>\n",
       "  </thead>\n",
       "  <tbody>\n",
       "    <tr>\n",
       "      <th>count</th>\n",
       "      <td>501586.000000</td>\n",
       "      <td>501586.000000</td>\n",
       "      <td>5.015860e+05</td>\n",
       "    </tr>\n",
       "    <tr>\n",
       "      <th>mean</th>\n",
       "      <td>29.959359</td>\n",
       "      <td>9.650016</td>\n",
       "      <td>9.549484e+04</td>\n",
       "    </tr>\n",
       "    <tr>\n",
       "      <th>std</th>\n",
       "      <td>18.429517</td>\n",
       "      <td>5.550348</td>\n",
       "      <td>7.253628e+04</td>\n",
       "    </tr>\n",
       "    <tr>\n",
       "      <th>min</th>\n",
       "      <td>1.000000</td>\n",
       "      <td>1.000000</td>\n",
       "      <td>5.540400e+04</td>\n",
       "    </tr>\n",
       "    <tr>\n",
       "      <th>25%</th>\n",
       "      <td>14.000000</td>\n",
       "      <td>5.000000</td>\n",
       "      <td>8.204500e+04</td>\n",
       "    </tr>\n",
       "    <tr>\n",
       "      <th>50%</th>\n",
       "      <td>29.000000</td>\n",
       "      <td>9.000000</td>\n",
       "      <td>9.067700e+04</td>\n",
       "    </tr>\n",
       "    <tr>\n",
       "      <th>75%</th>\n",
       "      <td>44.000000</td>\n",
       "      <td>14.000000</td>\n",
       "      <td>1.024670e+05</td>\n",
       "    </tr>\n",
       "    <tr>\n",
       "      <th>max</th>\n",
       "      <td>87.000000</td>\n",
       "      <td>24.000000</td>\n",
       "      <td>7.507547e+06</td>\n",
       "    </tr>\n",
       "  </tbody>\n",
       "</table>\n",
       "</div>"
      ],
      "text/plain": [
       "                 lap       position  milliseconds\n",
       "count  501586.000000  501586.000000  5.015860e+05\n",
       "mean       29.959359       9.650016  9.549484e+04\n",
       "std        18.429517       5.550348  7.253628e+04\n",
       "min         1.000000       1.000000  5.540400e+04\n",
       "25%        14.000000       5.000000  8.204500e+04\n",
       "50%        29.000000       9.000000  9.067700e+04\n",
       "75%        44.000000      14.000000  1.024670e+05\n",
       "max        87.000000      24.000000  7.507547e+06"
      ]
     },
     "execution_count": 41,
     "metadata": {},
     "output_type": "execute_result"
    }
   ],
   "source": [
    "lap_times_df.describe()"
   ]
  },
  {
   "cell_type": "markdown",
   "id": "IBRCdRW_UuO5",
   "metadata": {
    "hidden": true,
    "id": "IBRCdRW_UuO5"
   },
   "source": [
    "<H1> PIT STOPS </H1>\n",
    "This dataset represents the times taken in the pit lane by a driver for each race in F1. <br>\n",
    "<br>\n",
    " Values represented by each columns: \n",
    "<ol>\n",
    "    <li> raceId - The unique race id for which the pit lane times are being recorded\n",
    "    <li> driverId - The unique id of driver for which the pit lane times are being recorded\n",
    "    <li> stop - Whether this is the 1st pit stop, 2nd and so on\n",
    "    <li> lap - The lap number in which pit stop was taken\n",
    "    <li> time - At what minute after the race started was the pit stop taken\n",
    "    <li> duration - String of time taken for that pit stop\n",
    "    <li> duration - milliseconds - The time taken in milliseconds\n",
    "</ol>\n",
    "<br>\n",
    "Observations and cleaning strategy used : \n",
    "<ul>\n",
    "    <li> Replace '\\N' with NaN, since it represents null values in the dataset\n",
    "    <li> Change datatype of primary key ids to string\n",
    "    <li> Find outliers in columns such as win position etc and remove outlier rows since they are less than 3% of the entire dataset\n",
    "</ul>"
   ]
  },
  {
   "cell_type": "code",
   "execution_count": null,
   "id": "lj2yQXAvS_GQ",
   "metadata": {
    "colab": {
     "base_uri": "https://localhost:8080/"
    },
    "hidden": true,
    "id": "lj2yQXAvS_GQ",
    "outputId": "bc53418c-6fc6-4028-8823-8b637557a07c"
   },
   "outputs": [
    {
     "data": {
      "text/html": [
       "<div>\n",
       "<style scoped>\n",
       "    .dataframe tbody tr th:only-of-type {\n",
       "        vertical-align: middle;\n",
       "    }\n",
       "\n",
       "    .dataframe tbody tr th {\n",
       "        vertical-align: top;\n",
       "    }\n",
       "\n",
       "    .dataframe thead th {\n",
       "        text-align: right;\n",
       "    }\n",
       "</style>\n",
       "<table border=\"1\" class=\"dataframe\">\n",
       "  <thead>\n",
       "    <tr style=\"text-align: right;\">\n",
       "      <th></th>\n",
       "      <th>raceId</th>\n",
       "      <th>driverId</th>\n",
       "      <th>stop</th>\n",
       "      <th>lap</th>\n",
       "      <th>time</th>\n",
       "      <th>duration</th>\n",
       "      <th>milliseconds</th>\n",
       "    </tr>\n",
       "  </thead>\n",
       "  <tbody>\n",
       "    <tr>\n",
       "      <th>0</th>\n",
       "      <td>841</td>\n",
       "      <td>153</td>\n",
       "      <td>1</td>\n",
       "      <td>1</td>\n",
       "      <td>17:05:23</td>\n",
       "      <td>26.898</td>\n",
       "      <td>26898</td>\n",
       "    </tr>\n",
       "    <tr>\n",
       "      <th>1</th>\n",
       "      <td>841</td>\n",
       "      <td>30</td>\n",
       "      <td>1</td>\n",
       "      <td>1</td>\n",
       "      <td>17:05:52</td>\n",
       "      <td>25.021</td>\n",
       "      <td>25021</td>\n",
       "    </tr>\n",
       "    <tr>\n",
       "      <th>2</th>\n",
       "      <td>841</td>\n",
       "      <td>17</td>\n",
       "      <td>1</td>\n",
       "      <td>11</td>\n",
       "      <td>17:20:48</td>\n",
       "      <td>23.426</td>\n",
       "      <td>23426</td>\n",
       "    </tr>\n",
       "    <tr>\n",
       "      <th>3</th>\n",
       "      <td>841</td>\n",
       "      <td>4</td>\n",
       "      <td>1</td>\n",
       "      <td>12</td>\n",
       "      <td>17:22:34</td>\n",
       "      <td>23.251</td>\n",
       "      <td>23251</td>\n",
       "    </tr>\n",
       "    <tr>\n",
       "      <th>4</th>\n",
       "      <td>841</td>\n",
       "      <td>13</td>\n",
       "      <td>1</td>\n",
       "      <td>13</td>\n",
       "      <td>17:24:10</td>\n",
       "      <td>23.842</td>\n",
       "      <td>23842</td>\n",
       "    </tr>\n",
       "  </tbody>\n",
       "</table>\n",
       "</div>"
      ],
      "text/plain": [
       "   raceId  driverId  stop  lap      time duration  milliseconds\n",
       "0     841       153     1    1  17:05:23   26.898         26898\n",
       "1     841        30     1    1  17:05:52   25.021         25021\n",
       "2     841        17     1   11  17:20:48   23.426         23426\n",
       "3     841         4     1   12  17:22:34   23.251         23251\n",
       "4     841        13     1   13  17:24:10   23.842         23842"
      ]
     },
     "execution_count": 42,
     "metadata": {},
     "output_type": "execute_result"
    }
   ],
   "source": [
    "pit_stops_df = pd.read_csv('pit_stops.csv')\n",
    "pit_stops_df.head()"
   ]
  },
  {
   "cell_type": "code",
   "execution_count": null,
   "id": "GHaLvR-_S_EB",
   "metadata": {
    "hidden": true,
    "id": "GHaLvR-_S_EB"
   },
   "outputs": [],
   "source": [
    "# Change datatype of primary key ids from int to string\n",
    "pit_stops_df['raceId'] = pit_stops_df['raceId'].astype('str')\n",
    "pit_stops_df['driverId'] = pit_stops_df['driverId'].astype('str')"
   ]
  },
  {
   "cell_type": "code",
   "execution_count": null,
   "id": "CVRf6XaWS_Bb",
   "metadata": {
    "colab": {
     "base_uri": "https://localhost:8080/"
    },
    "hidden": true,
    "id": "CVRf6XaWS_Bb",
    "outputId": "8dc0a25a-c80b-4e67-b97e-a12d0031e7ba"
   },
   "outputs": [
    {
     "data": {
      "text/html": [
       "<div>\n",
       "<style scoped>\n",
       "    .dataframe tbody tr th:only-of-type {\n",
       "        vertical-align: middle;\n",
       "    }\n",
       "\n",
       "    .dataframe tbody tr th {\n",
       "        vertical-align: top;\n",
       "    }\n",
       "\n",
       "    .dataframe thead th {\n",
       "        text-align: right;\n",
       "    }\n",
       "</style>\n",
       "<table border=\"1\" class=\"dataframe\">\n",
       "  <thead>\n",
       "    <tr style=\"text-align: right;\">\n",
       "      <th></th>\n",
       "      <th>stop</th>\n",
       "      <th>lap</th>\n",
       "      <th>milliseconds</th>\n",
       "    </tr>\n",
       "  </thead>\n",
       "  <tbody>\n",
       "    <tr>\n",
       "      <th>count</th>\n",
       "      <td>8374.000000</td>\n",
       "      <td>8374.000000</td>\n",
       "      <td>8.374000e+03</td>\n",
       "    </tr>\n",
       "    <tr>\n",
       "      <th>mean</th>\n",
       "      <td>1.768689</td>\n",
       "      <td>25.225340</td>\n",
       "      <td>5.868877e+04</td>\n",
       "    </tr>\n",
       "    <tr>\n",
       "      <th>std</th>\n",
       "      <td>0.922595</td>\n",
       "      <td>14.419098</td>\n",
       "      <td>2.204055e+05</td>\n",
       "    </tr>\n",
       "    <tr>\n",
       "      <th>min</th>\n",
       "      <td>1.000000</td>\n",
       "      <td>1.000000</td>\n",
       "      <td>1.289700e+04</td>\n",
       "    </tr>\n",
       "    <tr>\n",
       "      <th>25%</th>\n",
       "      <td>1.000000</td>\n",
       "      <td>13.000000</td>\n",
       "      <td>2.189625e+04</td>\n",
       "    </tr>\n",
       "    <tr>\n",
       "      <th>50%</th>\n",
       "      <td>2.000000</td>\n",
       "      <td>25.000000</td>\n",
       "      <td>2.347600e+04</td>\n",
       "    </tr>\n",
       "    <tr>\n",
       "      <th>75%</th>\n",
       "      <td>2.000000</td>\n",
       "      <td>36.000000</td>\n",
       "      <td>2.592675e+04</td>\n",
       "    </tr>\n",
       "    <tr>\n",
       "      <th>max</th>\n",
       "      <td>6.000000</td>\n",
       "      <td>78.000000</td>\n",
       "      <td>2.048175e+06</td>\n",
       "    </tr>\n",
       "  </tbody>\n",
       "</table>\n",
       "</div>"
      ],
      "text/plain": [
       "              stop          lap  milliseconds\n",
       "count  8374.000000  8374.000000  8.374000e+03\n",
       "mean      1.768689    25.225340  5.868877e+04\n",
       "std       0.922595    14.419098  2.204055e+05\n",
       "min       1.000000     1.000000  1.289700e+04\n",
       "25%       1.000000    13.000000  2.189625e+04\n",
       "50%       2.000000    25.000000  2.347600e+04\n",
       "75%       2.000000    36.000000  2.592675e+04\n",
       "max       6.000000    78.000000  2.048175e+06"
      ]
     },
     "execution_count": 44,
     "metadata": {},
     "output_type": "execute_result"
    }
   ],
   "source": [
    "pit_stops_df.describe()"
   ]
  },
  {
   "cell_type": "code",
   "execution_count": null,
   "id": "dfqNodb8S-9c",
   "metadata": {
    "colab": {
     "base_uri": "https://localhost:8080/"
    },
    "hidden": true,
    "id": "dfqNodb8S-9c",
    "outputId": "1fd15b85-e9b7-4733-b581-fb19db5240a3"
   },
   "outputs": [
    {
     "data": {
      "image/png": "[encoded data removed]",
      "text/plain": [
       "<Figure size 432x288 with 1 Axes>"
      ]
     },
     "metadata": {
      "needs_background": "light"
     },
     "output_type": "display_data"
    }
   ],
   "source": [
    "boxplot = pit_stops_df.boxplot(column=['milliseconds'])"
   ]
  },
  {
   "cell_type": "code",
   "execution_count": null,
   "id": "IyB0RpkMS-2r",
   "metadata": {
    "colab": {
     "base_uri": "https://localhost:8080/"
    },
    "hidden": true,
    "id": "IyB0RpkMS-2r",
    "outputId": "0b88c2e4-c22f-44d4-e582-6f9a30d6cc7a"
   },
   "outputs": [
    {
     "name": "stdout",
     "output_type": "stream",
     "text": [
      "21896.25\n",
      "25926.75\n",
      "4030.5\n"
     ]
    },
    {
     "data": {
      "text/html": [
       "<div>\n",
       "<style scoped>\n",
       "    .dataframe tbody tr th:only-of-type {\n",
       "        vertical-align: middle;\n",
       "    }\n",
       "\n",
       "    .dataframe tbody tr th {\n",
       "        vertical-align: top;\n",
       "    }\n",
       "\n",
       "    .dataframe thead th {\n",
       "        text-align: right;\n",
       "    }\n",
       "</style>\n",
       "<table border=\"1\" class=\"dataframe\">\n",
       "  <thead>\n",
       "    <tr style=\"text-align: right;\">\n",
       "      <th></th>\n",
       "      <th>raceId</th>\n",
       "      <th>driverId</th>\n",
       "      <th>stop</th>\n",
       "      <th>lap</th>\n",
       "      <th>time</th>\n",
       "      <th>duration</th>\n",
       "      <th>milliseconds</th>\n",
       "    </tr>\n",
       "  </thead>\n",
       "  <tbody>\n",
       "    <tr>\n",
       "      <th>0</th>\n",
       "      <td>841</td>\n",
       "      <td>153</td>\n",
       "      <td>1</td>\n",
       "      <td>1</td>\n",
       "      <td>17:05:23</td>\n",
       "      <td>26.898</td>\n",
       "      <td>26898</td>\n",
       "    </tr>\n",
       "    <tr>\n",
       "      <th>1</th>\n",
       "      <td>841</td>\n",
       "      <td>30</td>\n",
       "      <td>1</td>\n",
       "      <td>1</td>\n",
       "      <td>17:05:52</td>\n",
       "      <td>25.021</td>\n",
       "      <td>25021</td>\n",
       "    </tr>\n",
       "    <tr>\n",
       "      <th>2</th>\n",
       "      <td>841</td>\n",
       "      <td>17</td>\n",
       "      <td>1</td>\n",
       "      <td>11</td>\n",
       "      <td>17:20:48</td>\n",
       "      <td>23.426</td>\n",
       "      <td>23426</td>\n",
       "    </tr>\n",
       "    <tr>\n",
       "      <th>3</th>\n",
       "      <td>841</td>\n",
       "      <td>4</td>\n",
       "      <td>1</td>\n",
       "      <td>12</td>\n",
       "      <td>17:22:34</td>\n",
       "      <td>23.251</td>\n",
       "      <td>23251</td>\n",
       "    </tr>\n",
       "    <tr>\n",
       "      <th>4</th>\n",
       "      <td>841</td>\n",
       "      <td>13</td>\n",
       "      <td>1</td>\n",
       "      <td>13</td>\n",
       "      <td>17:24:10</td>\n",
       "      <td>23.842</td>\n",
       "      <td>23842</td>\n",
       "    </tr>\n",
       "  </tbody>\n",
       "</table>\n",
       "</div>"
      ],
      "text/plain": [
       "  raceId driverId  stop  lap      time duration  milliseconds\n",
       "0    841      153     1    1  17:05:23   26.898         26898\n",
       "1    841       30     1    1  17:05:52   25.021         25021\n",
       "2    841       17     1   11  17:20:48   23.426         23426\n",
       "3    841        4     1   12  17:22:34   23.251         23251\n",
       "4    841       13     1   13  17:24:10   23.842         23842"
      ]
     },
     "execution_count": 46,
     "metadata": {},
     "output_type": "execute_result"
    }
   ],
   "source": [
    "# Remove outlier pit stop times\n",
    "Q1=pit_stops_df['milliseconds'].quantile(0.25)\n",
    "Q3=pit_stops_df['milliseconds'].quantile(0.75)\n",
    "IQR=Q3-Q1\n",
    "print(Q1)\n",
    "print(Q3)\n",
    "print(IQR)\n",
    "pit_stops_df=pit_stops_df[~((pit_stops_df['milliseconds']>(Q3+1.5*IQR)))]\n",
    "pit_stops_df.head()"
   ]
  },
  {
   "cell_type": "markdown",
   "id": "EWsuzqCSc-AH",
   "metadata": {
    "heading_collapsed": true,
    "hidden": true,
    "id": "EWsuzqCSc-AH"
   },
   "source": [
    "#### QUALIFYING"
   ]
  },
  {
   "cell_type": "markdown",
   "id": "pGumPHNkr2BD",
   "metadata": {
    "hidden": true,
    "id": "pGumPHNkr2BD"
   },
   "source": [
    "This data represents the qualification performance of each driver in each race. <br>\n",
    "<br>\n",
    "Values represented by each columns\n",
    "<ol>\n",
    "    <li> qualifyId -> Unique ID of each row in the data\n",
    "    <li> raceId -> The unique raceId from which the particular qualifying instance belongs to\n",
    "    <li> driverId -> ID of the driver driving the car\n",
    "    <li> constructorId -> ID of car maker\n",
    "    <li> number -> Car Number (Aanlogous to jersey number in other sports)\n",
    "    <li> position -> Unique ID of each row in the data (Final position after qualification round for a given raceId)\n",
    "    <li> q1 -> Unique ID of each row in the data (Best Lap time in Qualification Round 1)\n",
    "    <li> q2 -> Unique ID of each row in the data (Best Lap time in Qualification Round 2)\n",
    "    <li> q3 -> Unique ID of each row in the data (Best Lap time in Qualification Round 3)\n",
    "</ol>\n",
    "<br><br>\n",
    "Observations and cleaning stratergy used-\n",
    "<ul>\n",
    "    <li> There are no duplicate rows in the data\n",
    "    <li> The position column has some values has some position values greater than 26. But the proportion of these values is very low. We drop all rows with positions greater than 2.\n",
    "    <li> For the qualifiying times, we add new columns q1_time, q2_time and q3_time that represents the values of columns q1, q2 and q3 respectively in milliseconds. For rows where, q2 and q3 values are not available, we put 0.\n",
    "    <li> We drop all rows where q1 values are not available (only 131).\n",
    "    <li> We also use IQR based outlier removal on the q1_time, q2_time and q3_time columns to remove any outliers.\n",
    "</ul>"
   ]
  },
  {
   "cell_type": "code",
   "execution_count": null,
   "id": "hvP11FCpS-sa",
   "metadata": {
    "hidden": true,
    "id": "hvP11FCpS-sa"
   },
   "outputs": [],
   "source": [
    "quali = pd.read_csv('qualifying.csv')"
   ]
  },
  {
   "cell_type": "code",
   "execution_count": null,
   "id": "v-2otv7Jcklu",
   "metadata": {
    "colab": {
     "base_uri": "https://localhost:8080/",
     "height": 204
    },
    "hidden": true,
    "id": "v-2otv7Jcklu",
    "outputId": "c088102b-1a25-45c5-e14f-4737314f1b71"
   },
   "outputs": [
    {
     "data": {
      "text/html": [
       "<div>\n",
       "<style scoped>\n",
       "    .dataframe tbody tr th:only-of-type {\n",
       "        vertical-align: middle;\n",
       "    }\n",
       "\n",
       "    .dataframe tbody tr th {\n",
       "        vertical-align: top;\n",
       "    }\n",
       "\n",
       "    .dataframe thead th {\n",
       "        text-align: right;\n",
       "    }\n",
       "</style>\n",
       "<table border=\"1\" class=\"dataframe\">\n",
       "  <thead>\n",
       "    <tr style=\"text-align: right;\">\n",
       "      <th></th>\n",
       "      <th>qualifyId</th>\n",
       "      <th>raceId</th>\n",
       "      <th>driverId</th>\n",
       "      <th>constructorId</th>\n",
       "      <th>number</th>\n",
       "      <th>position</th>\n",
       "      <th>q1</th>\n",
       "      <th>q2</th>\n",
       "      <th>q3</th>\n",
       "    </tr>\n",
       "  </thead>\n",
       "  <tbody>\n",
       "    <tr>\n",
       "      <th>0</th>\n",
       "      <td>1</td>\n",
       "      <td>18</td>\n",
       "      <td>1</td>\n",
       "      <td>1</td>\n",
       "      <td>22</td>\n",
       "      <td>1</td>\n",
       "      <td>1:26.572</td>\n",
       "      <td>1:25.187</td>\n",
       "      <td>1:26.714</td>\n",
       "    </tr>\n",
       "    <tr>\n",
       "      <th>1</th>\n",
       "      <td>2</td>\n",
       "      <td>18</td>\n",
       "      <td>9</td>\n",
       "      <td>2</td>\n",
       "      <td>4</td>\n",
       "      <td>2</td>\n",
       "      <td>1:26.103</td>\n",
       "      <td>1:25.315</td>\n",
       "      <td>1:26.869</td>\n",
       "    </tr>\n",
       "    <tr>\n",
       "      <th>2</th>\n",
       "      <td>3</td>\n",
       "      <td>18</td>\n",
       "      <td>5</td>\n",
       "      <td>1</td>\n",
       "      <td>23</td>\n",
       "      <td>3</td>\n",
       "      <td>1:25.664</td>\n",
       "      <td>1:25.452</td>\n",
       "      <td>1:27.079</td>\n",
       "    </tr>\n",
       "    <tr>\n",
       "      <th>3</th>\n",
       "      <td>4</td>\n",
       "      <td>18</td>\n",
       "      <td>13</td>\n",
       "      <td>6</td>\n",
       "      <td>2</td>\n",
       "      <td>4</td>\n",
       "      <td>1:25.994</td>\n",
       "      <td>1:25.691</td>\n",
       "      <td>1:27.178</td>\n",
       "    </tr>\n",
       "    <tr>\n",
       "      <th>4</th>\n",
       "      <td>5</td>\n",
       "      <td>18</td>\n",
       "      <td>2</td>\n",
       "      <td>2</td>\n",
       "      <td>3</td>\n",
       "      <td>5</td>\n",
       "      <td>1:25.960</td>\n",
       "      <td>1:25.518</td>\n",
       "      <td>1:27.236</td>\n",
       "    </tr>\n",
       "  </tbody>\n",
       "</table>\n",
       "</div>"
      ],
      "text/plain": [
       "   qualifyId  raceId  driverId  ...        q1        q2        q3\n",
       "0          1      18         1  ...  1:26.572  1:25.187  1:26.714\n",
       "1          2      18         9  ...  1:26.103  1:25.315  1:26.869\n",
       "2          3      18         5  ...  1:25.664  1:25.452  1:27.079\n",
       "3          4      18        13  ...  1:25.994  1:25.691  1:27.178\n",
       "4          5      18         2  ...  1:25.960  1:25.518  1:27.236\n",
       "\n",
       "[5 rows x 9 columns]"
      ]
     },
     "execution_count": 48,
     "metadata": {},
     "output_type": "execute_result"
    }
   ],
   "source": [
    "quali.head()"
   ]
  },
  {
   "cell_type": "code",
   "execution_count": null,
   "id": "p4Ord6aAdOI6",
   "metadata": {
    "colab": {
     "base_uri": "https://localhost:8080/"
    },
    "hidden": true,
    "id": "p4Ord6aAdOI6",
    "outputId": "0a89ee92-783a-44e1-b5bb-771927f8c495"
   },
   "outputs": [
    {
     "data": {
      "text/plain": [
       "qualifyId         int64\n",
       "raceId            int64\n",
       "driverId          int64\n",
       "constructorId     int64\n",
       "number            int64\n",
       "position          int64\n",
       "q1               object\n",
       "q2               object\n",
       "q3               object\n",
       "dtype: object"
      ]
     },
     "execution_count": 49,
     "metadata": {},
     "output_type": "execute_result"
    }
   ],
   "source": [
    "quali.dtypes"
   ]
  },
  {
   "cell_type": "code",
   "execution_count": null,
   "id": "WRCnOcg9drT5",
   "metadata": {
    "colab": {
     "base_uri": "https://localhost:8080/",
     "height": 297
    },
    "hidden": true,
    "id": "WRCnOcg9drT5",
    "outputId": "bfbb2b0c-69ab-4549-ac2b-096650b66133"
   },
   "outputs": [
    {
     "data": {
      "text/html": [
       "<div>\n",
       "<style scoped>\n",
       "    .dataframe tbody tr th:only-of-type {\n",
       "        vertical-align: middle;\n",
       "    }\n",
       "\n",
       "    .dataframe tbody tr th {\n",
       "        vertical-align: top;\n",
       "    }\n",
       "\n",
       "    .dataframe thead th {\n",
       "        text-align: right;\n",
       "    }\n",
       "</style>\n",
       "<table border=\"1\" class=\"dataframe\">\n",
       "  <thead>\n",
       "    <tr style=\"text-align: right;\">\n",
       "      <th></th>\n",
       "      <th>qualifyId</th>\n",
       "      <th>raceId</th>\n",
       "      <th>driverId</th>\n",
       "      <th>constructorId</th>\n",
       "      <th>number</th>\n",
       "      <th>position</th>\n",
       "    </tr>\n",
       "  </thead>\n",
       "  <tbody>\n",
       "    <tr>\n",
       "      <th>count</th>\n",
       "      <td>8873.000000</td>\n",
       "      <td>8873.000000</td>\n",
       "      <td>8873.000000</td>\n",
       "      <td>8873.000000</td>\n",
       "      <td>8873.000000</td>\n",
       "      <td>8873.000000</td>\n",
       "    </tr>\n",
       "    <tr>\n",
       "      <th>mean</th>\n",
       "      <td>4444.847064</td>\n",
       "      <td>537.492280</td>\n",
       "      <td>272.141666</td>\n",
       "      <td>39.415756</td>\n",
       "      <td>17.179646</td>\n",
       "      <td>11.321537</td>\n",
       "    </tr>\n",
       "    <tr>\n",
       "      <th>std</th>\n",
       "      <td>2570.685684</td>\n",
       "      <td>409.317799</td>\n",
       "      <td>364.269121</td>\n",
       "      <td>66.540451</td>\n",
       "      <td>16.882730</td>\n",
       "      <td>6.337371</td>\n",
       "    </tr>\n",
       "    <tr>\n",
       "      <th>min</th>\n",
       "      <td>1.000000</td>\n",
       "      <td>1.000000</td>\n",
       "      <td>1.000000</td>\n",
       "      <td>1.000000</td>\n",
       "      <td>0.000000</td>\n",
       "      <td>1.000000</td>\n",
       "    </tr>\n",
       "    <tr>\n",
       "      <th>25%</th>\n",
       "      <td>2220.000000</td>\n",
       "      <td>108.000000</td>\n",
       "      <td>15.000000</td>\n",
       "      <td>4.000000</td>\n",
       "      <td>7.000000</td>\n",
       "      <td>6.000000</td>\n",
       "    </tr>\n",
       "    <tr>\n",
       "      <th>50%</th>\n",
       "      <td>4438.000000</td>\n",
       "      <td>351.000000</td>\n",
       "      <td>39.000000</td>\n",
       "      <td>9.000000</td>\n",
       "      <td>14.000000</td>\n",
       "      <td>11.000000</td>\n",
       "    </tr>\n",
       "    <tr>\n",
       "      <th>75%</th>\n",
       "      <td>6677.000000</td>\n",
       "      <td>945.000000</td>\n",
       "      <td>814.000000</td>\n",
       "      <td>22.000000</td>\n",
       "      <td>21.000000</td>\n",
       "      <td>17.000000</td>\n",
       "    </tr>\n",
       "    <tr>\n",
       "      <th>max</th>\n",
       "      <td>8913.000000</td>\n",
       "      <td>1060.000000</td>\n",
       "      <td>854.000000</td>\n",
       "      <td>214.000000</td>\n",
       "      <td>99.000000</td>\n",
       "      <td>28.000000</td>\n",
       "    </tr>\n",
       "  </tbody>\n",
       "</table>\n",
       "</div>"
      ],
      "text/plain": [
       "         qualifyId       raceId  ...       number     position\n",
       "count  8873.000000  8873.000000  ...  8873.000000  8873.000000\n",
       "mean   4444.847064   537.492280  ...    17.179646    11.321537\n",
       "std    2570.685684   409.317799  ...    16.882730     6.337371\n",
       "min       1.000000     1.000000  ...     0.000000     1.000000\n",
       "25%    2220.000000   108.000000  ...     7.000000     6.000000\n",
       "50%    4438.000000   351.000000  ...    14.000000    11.000000\n",
       "75%    6677.000000   945.000000  ...    21.000000    17.000000\n",
       "max    8913.000000  1060.000000  ...    99.000000    28.000000\n",
       "\n",
       "[8 rows x 6 columns]"
      ]
     },
     "execution_count": 50,
     "metadata": {},
     "output_type": "execute_result"
    }
   ],
   "source": [
    "quali.describe()"
   ]
  },
  {
   "cell_type": "code",
   "execution_count": null,
   "id": "pPE3f79CdtJk",
   "metadata": {
    "colab": {
     "base_uri": "https://localhost:8080/"
    },
    "hidden": true,
    "id": "pPE3f79CdtJk",
    "outputId": "0e77ead3-ff9b-437b-a3bc-b9548bce0abb"
   },
   "outputs": [
    {
     "data": {
      "text/plain": [
       "0"
      ]
     },
     "execution_count": 51,
     "metadata": {},
     "output_type": "execute_result"
    }
   ],
   "source": [
    "quali.duplicated(subset=quali.columns.to_list(), keep='first').sum()"
   ]
  },
  {
   "cell_type": "markdown",
   "id": "Cz-yVo0ldzZk",
   "metadata": {
    "hidden": true,
    "id": "Cz-yVo0ldzZk"
   },
   "source": [
    "###### Check number of positions in each race"
   ]
  },
  {
   "cell_type": "code",
   "execution_count": null,
   "id": "PRzJqTSTd25A",
   "metadata": {
    "colab": {
     "base_uri": "https://localhost:8080/",
     "height": 359
    },
    "hidden": true,
    "id": "PRzJqTSTd25A",
    "outputId": "49bfdba5-f541-4fad-9d16-44a41fc6c0cf"
   },
   "outputs": [
    {
     "data": {
      "text/html": [
       "<div>\n",
       "<style scoped>\n",
       "    .dataframe tbody tr th:only-of-type {\n",
       "        vertical-align: middle;\n",
       "    }\n",
       "\n",
       "    .dataframe tbody tr th {\n",
       "        vertical-align: top;\n",
       "    }\n",
       "\n",
       "    .dataframe thead th {\n",
       "        text-align: right;\n",
       "    }\n",
       "</style>\n",
       "<table border=\"1\" class=\"dataframe\">\n",
       "  <thead>\n",
       "    <tr style=\"text-align: right;\">\n",
       "      <th></th>\n",
       "      <th>raceId</th>\n",
       "    </tr>\n",
       "    <tr>\n",
       "      <th>position</th>\n",
       "      <th></th>\n",
       "    </tr>\n",
       "  </thead>\n",
       "  <tbody>\n",
       "    <tr>\n",
       "      <th>18</th>\n",
       "      <td>7</td>\n",
       "    </tr>\n",
       "    <tr>\n",
       "      <th>19</th>\n",
       "      <td>7</td>\n",
       "    </tr>\n",
       "    <tr>\n",
       "      <th>20</th>\n",
       "      <td>185</td>\n",
       "    </tr>\n",
       "    <tr>\n",
       "      <th>21</th>\n",
       "      <td>8</td>\n",
       "    </tr>\n",
       "    <tr>\n",
       "      <th>22</th>\n",
       "      <td>116</td>\n",
       "    </tr>\n",
       "    <tr>\n",
       "      <th>23</th>\n",
       "      <td>8</td>\n",
       "    </tr>\n",
       "    <tr>\n",
       "      <th>24</th>\n",
       "      <td>62</td>\n",
       "    </tr>\n",
       "    <tr>\n",
       "      <th>26</th>\n",
       "      <td>19</td>\n",
       "    </tr>\n",
       "    <tr>\n",
       "      <th>28</th>\n",
       "      <td>1</td>\n",
       "    </tr>\n",
       "  </tbody>\n",
       "</table>\n",
       "</div>"
      ],
      "text/plain": [
       "          raceId\n",
       "position        \n",
       "18             7\n",
       "19             7\n",
       "20           185\n",
       "21             8\n",
       "22           116\n",
       "23             8\n",
       "24            62\n",
       "26            19\n",
       "28             1"
      ]
     },
     "execution_count": 52,
     "metadata": {},
     "output_type": "execute_result"
    }
   ],
   "source": [
    "quali.groupby(['raceId'], as_index=False)['position'].nunique().groupby('position').count()"
   ]
  },
  {
   "cell_type": "code",
   "execution_count": null,
   "id": "VZqYo7NNeNqc",
   "metadata": {
    "hidden": true,
    "id": "VZqYo7NNeNqc"
   },
   "outputs": [],
   "source": [
    "quali = quali[quali.position<=24]"
   ]
  },
  {
   "cell_type": "markdown",
   "id": "pfRqX5TbeP1a",
   "metadata": {
    "hidden": true,
    "id": "pfRqX5TbeP1a"
   },
   "source": [
    "###### Qualification times \n",
    "<ol>\n",
    "    <li> Q1 -> All cars participate\n",
    "    <li> Q2 -> Top 15 cars from Q1 participate\n",
    "    <li> Q3 -> Top 10 cars from Q2 participate\n",
    "</ol>\n",
    "Remove any car that does not have a Q1 time (as this car either did not participate in qualifying or did not finish Q1)"
   ]
  },
  {
   "cell_type": "code",
   "execution_count": null,
   "id": "hrxsPuEDeR_L",
   "metadata": {
    "colab": {
     "base_uri": "https://localhost:8080/"
    },
    "hidden": true,
    "id": "hrxsPuEDeR_L",
    "outputId": "d2f83c79-5551-4f59-8a07-dc1b469ebda5"
   },
   "outputs": [
    {
     "data": {
      "text/plain": [
       "qualifyId        131\n",
       "raceId           131\n",
       "driverId         131\n",
       "constructorId    131\n",
       "number           131\n",
       "position         131\n",
       "q1               131\n",
       "q2               131\n",
       "q3               131\n",
       "dtype: int64"
      ]
     },
     "execution_count": 54,
     "metadata": {},
     "output_type": "execute_result"
    }
   ],
   "source": [
    "quali[(quali.q1=='\\\\N') & (quali.q2=='\\\\N') & (quali.q3=='\\\\N')].count()"
   ]
  },
  {
   "cell_type": "code",
   "execution_count": null,
   "id": "IXEpi2vreUlD",
   "metadata": {
    "colab": {
     "base_uri": "https://localhost:8080/"
    },
    "hidden": true,
    "id": "IXEpi2vreUlD",
    "outputId": "ec0e048e-a989-4983-e3cc-58e197b477f1"
   },
   "outputs": [
    {
     "data": {
      "text/plain": [
       "qualifyId        131\n",
       "raceId           131\n",
       "driverId         131\n",
       "constructorId    131\n",
       "number           131\n",
       "position         131\n",
       "q1               131\n",
       "q2               131\n",
       "q3               131\n",
       "dtype: int64"
      ]
     },
     "execution_count": 55,
     "metadata": {},
     "output_type": "execute_result"
    }
   ],
   "source": [
    "quali[(quali.q1=='\\\\N')].count()"
   ]
  },
  {
   "cell_type": "code",
   "execution_count": null,
   "id": "ys2Lyx1heWsC",
   "metadata": {
    "hidden": true,
    "id": "ys2Lyx1heWsC"
   },
   "outputs": [],
   "source": [
    "quali = quali[quali.q1!='\\\\N']"
   ]
  },
  {
   "cell_type": "markdown",
   "id": "KCJOdlD2ejwq",
   "metadata": {
    "hidden": true,
    "id": "KCJOdlD2ejwq"
   },
   "source": [
    "###### Check Qualifying times outliers\n"
   ]
  },
  {
   "cell_type": "code",
   "execution_count": null,
   "id": "3i7JVaoOemZH",
   "metadata": {
    "colab": {
     "base_uri": "https://localhost:8080/"
    },
    "hidden": true,
    "id": "3i7JVaoOemZH",
    "outputId": "93da5af9-6e5e-4851-8538-1608f7319efd"
   },
   "outputs": [
    {
     "name": "stderr",
     "output_type": "stream",
     "text": [
      "/usr/local/lib/python3.7/dist-packages/ipykernel_launcher.py:10: SettingWithCopyWarning: \n",
      "A value is trying to be set on a copy of a slice from a DataFrame.\n",
      "Try using .loc[row_indexer,col_indexer] = value instead\n",
      "\n",
      "See the caveats in the documentation: https://pandas.pydata.org/pandas-docs/stable/user_guide/indexing.html#returning-a-view-versus-a-copy\n",
      "  # Remove the CWD from sys.path while we load stuff.\n"
     ]
    }
   ],
   "source": [
    "def convert_str_to_milliseconds(s):\n",
    "    #return 0 if value is not parsable\n",
    "    try:\n",
    "        minutes = int(s.split(':')[0])\n",
    "        seconds = int(s.split(':')[1].split('.')[0])\n",
    "        milli_sec = int(s.split(':')[1].split('.')[1])\n",
    "        return (minutes*60*1000 + seconds*1000 + milli_sec)\n",
    "    except:\n",
    "        return 0\n",
    "quali['q1_time'] = quali.apply(lambda row: convert_str_to_milliseconds(row['q1']), axis=1)\n",
    "quali['q2_time'] = quali.apply(lambda row: convert_str_to_milliseconds(row['q2']), axis=1)\n",
    "quali['q3_time'] = quali.apply(lambda row: convert_str_to_milliseconds(row['q3']), axis=1)"
   ]
  },
  {
   "cell_type": "code",
   "execution_count": null,
   "id": "9d6zxbzqepUU",
   "metadata": {
    "colab": {
     "base_uri": "https://localhost:8080/",
     "height": 294
    },
    "hidden": true,
    "id": "9d6zxbzqepUU",
    "outputId": "5554d859-ea87-47f2-91c8-4aab932be5e7"
   },
   "outputs": [
    {
     "data": {
      "text/plain": [
       "<matplotlib.axes._subplots.AxesSubplot at 0x7fd0b0f9b890>"
      ]
     },
     "execution_count": 58,
     "metadata": {},
     "output_type": "execute_result"
    },
    {
     "data": {
      "image/png": "[encoded data removed]",
      "text/plain": [
       "<Figure size 432x288 with 1 Axes>"
      ]
     },
     "metadata": {
      "needs_background": "light"
     },
     "output_type": "display_data"
    }
   ],
   "source": [
    "quali[quali.q1_time!=0.0].boxplot('q1_time')"
   ]
  },
  {
   "cell_type": "code",
   "execution_count": null,
   "id": "0Yy_pWEDeu-L",
   "metadata": {
    "colab": {
     "base_uri": "https://localhost:8080/",
     "height": 283
    },
    "hidden": true,
    "id": "0Yy_pWEDeu-L",
    "outputId": "f9b0ed7a-f2ea-473a-ad08-0eed616f2127"
   },
   "outputs": [
    {
     "data": {
      "text/plain": [
       "<matplotlib.axes._subplots.AxesSubplot at 0x7fd0b0f19b50>"
      ]
     },
     "execution_count": 59,
     "metadata": {},
     "output_type": "execute_result"
    },
    {
     "data": {
      "image/png": "[encoded data removed]",
      "text/plain": [
       "<Figure size 432x288 with 1 Axes>"
      ]
     },
     "metadata": {
      "needs_background": "light"
     },
     "output_type": "display_data"
    }
   ],
   "source": [
    "quali[quali.q2_time!=0.0].boxplot('q2_time')"
   ]
  },
  {
   "cell_type": "code",
   "execution_count": null,
   "id": "f11kW2e6exRR",
   "metadata": {
    "colab": {
     "base_uri": "https://localhost:8080/",
     "height": 283
    },
    "hidden": true,
    "id": "f11kW2e6exRR",
    "outputId": "a9316479-fb7a-4c60-b313-708764917f78"
   },
   "outputs": [
    {
     "data": {
      "text/plain": [
       "<matplotlib.axes._subplots.AxesSubplot at 0x7fd0b0dbd990>"
      ]
     },
     "execution_count": 60,
     "metadata": {},
     "output_type": "execute_result"
    },
    {
     "data": {
      "image/png": "[encoded data removed]",
      "text/plain": [
       "<Figure size 432x288 with 1 Axes>"
      ]
     },
     "metadata": {
      "needs_background": "light"
     },
     "output_type": "display_data"
    }
   ],
   "source": [
    "quali[quali.q3_time!=0.0].boxplot('q3_time')"
   ]
  },
  {
   "cell_type": "code",
   "execution_count": null,
   "id": "0lCuUXFMe0UF",
   "metadata": {
    "hidden": true,
    "id": "0lCuUXFMe0UF"
   },
   "outputs": [],
   "source": [
    "def iqr_quali_time(df, col):\n",
    "    q1 = df[df[col]!=0.0][col].quantile(0.25)\n",
    "    q3 = df[df[col]!=0.0][col].quantile(0.75)\n",
    "    iqr = q3-q1\n",
    "    iqr_filter = (df[col]>=q1 -  1.5*iqr) & (df[col]<= q3 + 1.5*iqr)\n",
    "    df = df.loc[iqr_filter]\n",
    "    return df"
   ]
  },
  {
   "cell_type": "code",
   "execution_count": null,
   "id": "FyONQf_We13j",
   "metadata": {
    "hidden": true,
    "id": "FyONQf_We13j"
   },
   "outputs": [],
   "source": [
    "quali = iqr_quali_time(quali, 'q1_time')\n",
    "quali = iqr_quali_time(quali, 'q2_time')\n",
    "quali = iqr_quali_time(quali, 'q3_time')"
   ]
  },
  {
   "cell_type": "code",
   "execution_count": null,
   "id": "TT1bZ3bze4jw",
   "metadata": {
    "hidden": true,
    "id": "TT1bZ3bze4jw"
   },
   "outputs": [],
   "source": [
    "quali.to_csv('clean_quali.csv', index=False)"
   ]
  },
  {
   "cell_type": "markdown",
   "id": "yydp2fDxfEbT",
   "metadata": {
    "heading_collapsed": true,
    "hidden": true,
    "id": "yydp2fDxfEbT"
   },
   "source": [
    "#### RACES"
   ]
  },
  {
   "cell_type": "markdown",
   "id": "NqRcherNslLC",
   "metadata": {
    "hidden": true,
    "id": "NqRcherNslLC"
   },
   "source": [
    "This file represents the meta-data about the race. Is mainly used to enrich the data. <br>\n",
    "<br>\n",
    "Values represented by each columns\n",
    "<ol>\n",
    "    <li> raceId -> The unique raceId from which the particular qualifying instance belongs to\n",
    "    <li> year -> The calendar year this race was held.\n",
    "    <li> round -> The race number for a given season.\n",
    "    <li> name -> Name of the Grand Prix\n",
    "    <li> date -> Date on which the Grand Prix was held.\n",
    "    <li> time -> The the race was held\n",
    "    <li> url -> Link to the wikipedia page of the race.\n",
    "</ol>\n",
    "<br><br>\n",
    "Observations and cleaning stratergy used-\n",
    "<ul>\n",
    "    <li> There are no duplicate rows in the data\n",
    "    <li> As this data represents, ground truth no cleaning is required.\n",
    "</ul>"
   ]
  },
  {
   "cell_type": "code",
   "execution_count": null,
   "id": "S57hNercfIbe",
   "metadata": {
    "colab": {
     "base_uri": "https://localhost:8080/",
     "height": 204
    },
    "hidden": true,
    "id": "S57hNercfIbe",
    "outputId": "3f605aa4-4fe0-4187-f505-50cfaf48d681"
   },
   "outputs": [
    {
     "data": {
      "text/html": [
       "<div>\n",
       "<style scoped>\n",
       "    .dataframe tbody tr th:only-of-type {\n",
       "        vertical-align: middle;\n",
       "    }\n",
       "\n",
       "    .dataframe tbody tr th {\n",
       "        vertical-align: top;\n",
       "    }\n",
       "\n",
       "    .dataframe thead th {\n",
       "        text-align: right;\n",
       "    }\n",
       "</style>\n",
       "<table border=\"1\" class=\"dataframe\">\n",
       "  <thead>\n",
       "    <tr style=\"text-align: right;\">\n",
       "      <th></th>\n",
       "      <th>raceId</th>\n",
       "      <th>year</th>\n",
       "      <th>round</th>\n",
       "      <th>circuitId</th>\n",
       "      <th>name</th>\n",
       "      <th>date</th>\n",
       "      <th>time</th>\n",
       "      <th>url</th>\n",
       "    </tr>\n",
       "  </thead>\n",
       "  <tbody>\n",
       "    <tr>\n",
       "      <th>0</th>\n",
       "      <td>1</td>\n",
       "      <td>2009</td>\n",
       "      <td>1</td>\n",
       "      <td>1</td>\n",
       "      <td>Australian Grand Prix</td>\n",
       "      <td>2009-03-29</td>\n",
       "      <td>06:00:00</td>\n",
       "      <td>http://en.wikipedia.org/wiki/2009_Australian_G...</td>\n",
       "    </tr>\n",
       "    <tr>\n",
       "      <th>1</th>\n",
       "      <td>2</td>\n",
       "      <td>2009</td>\n",
       "      <td>2</td>\n",
       "      <td>2</td>\n",
       "      <td>Malaysian Grand Prix</td>\n",
       "      <td>2009-04-05</td>\n",
       "      <td>09:00:00</td>\n",
       "      <td>http://en.wikipedia.org/wiki/2009_Malaysian_Gr...</td>\n",
       "    </tr>\n",
       "    <tr>\n",
       "      <th>2</th>\n",
       "      <td>3</td>\n",
       "      <td>2009</td>\n",
       "      <td>3</td>\n",
       "      <td>17</td>\n",
       "      <td>Chinese Grand Prix</td>\n",
       "      <td>2009-04-19</td>\n",
       "      <td>07:00:00</td>\n",
       "      <td>http://en.wikipedia.org/wiki/2009_Chinese_Gran...</td>\n",
       "    </tr>\n",
       "    <tr>\n",
       "      <th>3</th>\n",
       "      <td>4</td>\n",
       "      <td>2009</td>\n",
       "      <td>4</td>\n",
       "      <td>3</td>\n",
       "      <td>Bahrain Grand Prix</td>\n",
       "      <td>2009-04-26</td>\n",
       "      <td>12:00:00</td>\n",
       "      <td>http://en.wikipedia.org/wiki/2009_Bahrain_Gran...</td>\n",
       "    </tr>\n",
       "    <tr>\n",
       "      <th>4</th>\n",
       "      <td>5</td>\n",
       "      <td>2009</td>\n",
       "      <td>5</td>\n",
       "      <td>4</td>\n",
       "      <td>Spanish Grand Prix</td>\n",
       "      <td>2009-05-10</td>\n",
       "      <td>12:00:00</td>\n",
       "      <td>http://en.wikipedia.org/wiki/2009_Spanish_Gran...</td>\n",
       "    </tr>\n",
       "  </tbody>\n",
       "</table>\n",
       "</div>"
      ],
      "text/plain": [
       "   raceId  year  ...      time                                                url\n",
       "0       1  2009  ...  06:00:00  http://en.wikipedia.org/wiki/2009_Australian_G...\n",
       "1       2  2009  ...  09:00:00  http://en.wikipedia.org/wiki/2009_Malaysian_Gr...\n",
       "2       3  2009  ...  07:00:00  http://en.wikipedia.org/wiki/2009_Chinese_Gran...\n",
       "3       4  2009  ...  12:00:00  http://en.wikipedia.org/wiki/2009_Bahrain_Gran...\n",
       "4       5  2009  ...  12:00:00  http://en.wikipedia.org/wiki/2009_Spanish_Gran...\n",
       "\n",
       "[5 rows x 8 columns]"
      ]
     },
     "execution_count": 64,
     "metadata": {},
     "output_type": "execute_result"
    }
   ],
   "source": [
    "races = pd.read_csv('races.csv')\n",
    "races.head()"
   ]
  },
  {
   "cell_type": "code",
   "execution_count": null,
   "id": "ZiUyCqovfPEV",
   "metadata": {
    "colab": {
     "base_uri": "https://localhost:8080/",
     "height": 297
    },
    "hidden": true,
    "id": "ZiUyCqovfPEV",
    "outputId": "0699a717-fb7e-4dad-ca8d-cd00bb59f598"
   },
   "outputs": [
    {
     "data": {
      "text/html": [
       "<div>\n",
       "<style scoped>\n",
       "    .dataframe tbody tr th:only-of-type {\n",
       "        vertical-align: middle;\n",
       "    }\n",
       "\n",
       "    .dataframe tbody tr th {\n",
       "        vertical-align: top;\n",
       "    }\n",
       "\n",
       "    .dataframe thead th {\n",
       "        text-align: right;\n",
       "    }\n",
       "</style>\n",
       "<table border=\"1\" class=\"dataframe\">\n",
       "  <thead>\n",
       "    <tr style=\"text-align: right;\">\n",
       "      <th></th>\n",
       "      <th>raceId</th>\n",
       "      <th>year</th>\n",
       "      <th>round</th>\n",
       "      <th>circuitId</th>\n",
       "    </tr>\n",
       "  </thead>\n",
       "  <tbody>\n",
       "    <tr>\n",
       "      <th>count</th>\n",
       "      <td>1058.000000</td>\n",
       "      <td>1058.000000</td>\n",
       "      <td>1058.000000</td>\n",
       "      <td>1058.000000</td>\n",
       "    </tr>\n",
       "    <tr>\n",
       "      <th>mean</th>\n",
       "      <td>531.231569</td>\n",
       "      <td>1990.780718</td>\n",
       "      <td>8.382798</td>\n",
       "      <td>22.191871</td>\n",
       "    </tr>\n",
       "    <tr>\n",
       "      <th>std</th>\n",
       "      <td>308.165709</td>\n",
       "      <td>19.730088</td>\n",
       "      <td>5.000281</td>\n",
       "      <td>17.294490</td>\n",
       "    </tr>\n",
       "    <tr>\n",
       "      <th>min</th>\n",
       "      <td>1.000000</td>\n",
       "      <td>1950.000000</td>\n",
       "      <td>1.000000</td>\n",
       "      <td>1.000000</td>\n",
       "    </tr>\n",
       "    <tr>\n",
       "      <th>25%</th>\n",
       "      <td>265.250000</td>\n",
       "      <td>1976.000000</td>\n",
       "      <td>4.000000</td>\n",
       "      <td>9.000000</td>\n",
       "    </tr>\n",
       "    <tr>\n",
       "      <th>50%</th>\n",
       "      <td>529.500000</td>\n",
       "      <td>1992.000000</td>\n",
       "      <td>8.000000</td>\n",
       "      <td>18.000000</td>\n",
       "    </tr>\n",
       "    <tr>\n",
       "      <th>75%</th>\n",
       "      <td>793.750000</td>\n",
       "      <td>2008.000000</td>\n",
       "      <td>12.000000</td>\n",
       "      <td>32.000000</td>\n",
       "    </tr>\n",
       "    <tr>\n",
       "      <th>max</th>\n",
       "      <td>1073.000000</td>\n",
       "      <td>2021.000000</td>\n",
       "      <td>23.000000</td>\n",
       "      <td>77.000000</td>\n",
       "    </tr>\n",
       "  </tbody>\n",
       "</table>\n",
       "</div>"
      ],
      "text/plain": [
       "            raceId         year        round    circuitId\n",
       "count  1058.000000  1058.000000  1058.000000  1058.000000\n",
       "mean    531.231569  1990.780718     8.382798    22.191871\n",
       "std     308.165709    19.730088     5.000281    17.294490\n",
       "min       1.000000  1950.000000     1.000000     1.000000\n",
       "25%     265.250000  1976.000000     4.000000     9.000000\n",
       "50%     529.500000  1992.000000     8.000000    18.000000\n",
       "75%     793.750000  2008.000000    12.000000    32.000000\n",
       "max    1073.000000  2021.000000    23.000000    77.000000"
      ]
     },
     "execution_count": 65,
     "metadata": {},
     "output_type": "execute_result"
    }
   ],
   "source": [
    "races.describe()"
   ]
  },
  {
   "cell_type": "code",
   "execution_count": null,
   "id": "e8wCJDxRfSaM",
   "metadata": {
    "colab": {
     "base_uri": "https://localhost:8080/"
    },
    "hidden": true,
    "id": "e8wCJDxRfSaM",
    "outputId": "c2d8efe3-fd40-406e-e2ab-f9fd133eb696"
   },
   "outputs": [
    {
     "data": {
      "text/plain": [
       "0"
      ]
     },
     "execution_count": 66,
     "metadata": {},
     "output_type": "execute_result"
    }
   ],
   "source": [
    "races.duplicated(races.columns.to_list(), keep='first').sum()"
   ]
  },
  {
   "cell_type": "markdown",
   "id": "NOaCu4FGfXxN",
   "metadata": {
    "heading_collapsed": true,
    "hidden": true,
    "id": "NOaCu4FGfXxN"
   },
   "source": [
    "#### RESULTS"
   ]
  },
  {
   "cell_type": "markdown",
   "id": "wR0rbLs0sHjy",
   "metadata": {
    "hidden": true,
    "id": "wR0rbLs0sHjy"
   },
   "source": [
    "This data represents the final results of the race. Each row of the data shows one entry of the final results for a given raceId. <br>\n",
    "<br>\n",
    "Values represented by each columns\n",
    "<ol>\n",
    "    <li> resultId -> Unique ID of each row in the data\n",
    "    <li> raceId -> The unique raceId from which the particular qualifying instance belongs to\n",
    "    <li> driverId -> ID of the driver driving the car\n",
    "    <li> constructorId -> ID of car maker\n",
    "    <li> number -> Car Number (Aanalogous to jersey number in other sports)\n",
    "    <li> grid -> The starting position of the driver in the race.\n",
    "    <li> position -> Unique ID of each row in the data (Final position after qualification round for a given raceId). Is set to \\\\N if the driver did not finish the race.\n",
    "    <li> positionText -> Is essentially the same as position, with a small difference that it maps the \\\\N values to either of the 4 chars R, D, W or E. The significance of this is not understood and therefore, this column is not used of any insights.\n",
    "    <li> positionOrder -> This column represents the final position of the driver in that race. It fills in all null values occuring in the position column with a race position.\n",
    "    <li> points -> The points awarded to the driver of securing a position in the race.\n",
    "    <li> laps -> Total number of laps the race lasted for.\n",
    "    <li> time -> Total time taken by the driver to complete the race. Is represented in absolute terms for the winning driver of a race. For all other drivers in that race it is represented in terms of the relative difference from the winning driver. Example: If the second placed driver takes 10 seconds more than the winning driver to finish the race, time for this driver will be represented as +10.\n",
    "    <li> milliseconds -> Total time taken by the driver to complete the race converted to milliseconds\n",
    "    <li> fastestLap -> The lap number in which the particular driver drove his fastest lap of the race.\n",
    "    <li> rank -> Ranking the fastestLap drove by the driver relative to the fastest laps driven by other drivers.\n",
    "    <li> fastestLapTime -> The time taken by the driver to complete the fastestLap of the race.\n",
    "    <li> fastestLapSpeed -> The average speed of the driver in km/h during the fastest lap of the race.\n",
    "    <li> statusId -> Maps to the status.csv file. Represents extra-information about the driver for the race.\n",
    "</ol>\n",
    "<br><br>\n",
    "Observations and cleaning stratergy used-\n",
    "<ul>\n",
    "    <li> There are no duplicate rows in the data\n",
    "    <li> As we filtered all the qualifying positions greater than 26, we remove all grid and positionOrder greater than 24 as well.\n",
    "    <li> Grid has a value, of zero. On analyzing the data, it can be found that this is special case, when the driver was forced to start the race from the pitlane.\n",
    "    <li> There are a few rows with points value greater than 25(around 30 rows). We remove these rows as we know that the maximum number of points awarded in a race are 25.\n",
    "    <li> The values in fastestLapTimes and fastestLapSpeed look reasonable, therefore, we simply repalce any null values occuring in these rows with 0. We do not drop the rows will nulls as we do not want to loose any race related information just because of fastest lap.\n",
    "    <li> The values of laps is observed to be from 0 to 200, which is very strange. We could not figure out any explanation for this and therefore do not use this column at all.\n",
    "    <li> We also perform an IQR based outlier removal on the milliseconds column that represents the total race time.\n",
    "</ul>"
   ]
  },
  {
   "cell_type": "code",
   "execution_count": null,
   "id": "bUvHRI5JffYr",
   "metadata": {
    "colab": {
     "base_uri": "https://localhost:8080/",
     "height": 297
    },
    "hidden": true,
    "id": "bUvHRI5JffYr",
    "outputId": "1e5a0dbd-61b4-4be9-8044-98e995b265d9"
   },
   "outputs": [
    {
     "data": {
      "text/html": [
       "<div>\n",
       "<style scoped>\n",
       "    .dataframe tbody tr th:only-of-type {\n",
       "        vertical-align: middle;\n",
       "    }\n",
       "\n",
       "    .dataframe tbody tr th {\n",
       "        vertical-align: top;\n",
       "    }\n",
       "\n",
       "    .dataframe thead th {\n",
       "        text-align: right;\n",
       "    }\n",
       "</style>\n",
       "<table border=\"1\" class=\"dataframe\">\n",
       "  <thead>\n",
       "    <tr style=\"text-align: right;\">\n",
       "      <th></th>\n",
       "      <th>resultId</th>\n",
       "      <th>raceId</th>\n",
       "      <th>driverId</th>\n",
       "      <th>constructorId</th>\n",
       "      <th>grid</th>\n",
       "      <th>positionOrder</th>\n",
       "      <th>points</th>\n",
       "      <th>laps</th>\n",
       "      <th>statusId</th>\n",
       "    </tr>\n",
       "  </thead>\n",
       "  <tbody>\n",
       "    <tr>\n",
       "      <th>count</th>\n",
       "      <td>25140.000000</td>\n",
       "      <td>25140.000000</td>\n",
       "      <td>25140.000000</td>\n",
       "      <td>25140.000000</td>\n",
       "      <td>25140.000000</td>\n",
       "      <td>25140.000000</td>\n",
       "      <td>25140.000000</td>\n",
       "      <td>25140.000000</td>\n",
       "      <td>25140.000000</td>\n",
       "    </tr>\n",
       "    <tr>\n",
       "      <th>mean</th>\n",
       "      <td>12571.218337</td>\n",
       "      <td>516.215712</td>\n",
       "      <td>249.500438</td>\n",
       "      <td>47.323230</td>\n",
       "      <td>11.211734</td>\n",
       "      <td>12.942164</td>\n",
       "      <td>1.789521</td>\n",
       "      <td>45.804455</td>\n",
       "      <td>17.757399</td>\n",
       "    </tr>\n",
       "    <tr>\n",
       "      <th>std</th>\n",
       "      <td>7258.469117</td>\n",
       "      <td>289.167348</td>\n",
       "      <td>256.875639</td>\n",
       "      <td>58.208313</td>\n",
       "      <td>7.275871</td>\n",
       "      <td>7.749181</td>\n",
       "      <td>4.018738</td>\n",
       "      <td>30.036217</td>\n",
       "      <td>26.122051</td>\n",
       "    </tr>\n",
       "    <tr>\n",
       "      <th>min</th>\n",
       "      <td>1.000000</td>\n",
       "      <td>1.000000</td>\n",
       "      <td>1.000000</td>\n",
       "      <td>1.000000</td>\n",
       "      <td>0.000000</td>\n",
       "      <td>1.000000</td>\n",
       "      <td>0.000000</td>\n",
       "      <td>0.000000</td>\n",
       "      <td>1.000000</td>\n",
       "    </tr>\n",
       "    <tr>\n",
       "      <th>25%</th>\n",
       "      <td>6285.750000</td>\n",
       "      <td>286.000000</td>\n",
       "      <td>56.000000</td>\n",
       "      <td>6.000000</td>\n",
       "      <td>5.000000</td>\n",
       "      <td>6.000000</td>\n",
       "      <td>0.000000</td>\n",
       "      <td>21.000000</td>\n",
       "      <td>1.000000</td>\n",
       "    </tr>\n",
       "    <tr>\n",
       "      <th>50%</th>\n",
       "      <td>12570.500000</td>\n",
       "      <td>501.000000</td>\n",
       "      <td>158.000000</td>\n",
       "      <td>25.000000</td>\n",
       "      <td>11.000000</td>\n",
       "      <td>12.000000</td>\n",
       "      <td>0.000000</td>\n",
       "      <td>52.000000</td>\n",
       "      <td>11.000000</td>\n",
       "    </tr>\n",
       "    <tr>\n",
       "      <th>75%</th>\n",
       "      <td>18855.250000</td>\n",
       "      <td>759.000000</td>\n",
       "      <td>347.000000</td>\n",
       "      <td>57.000000</td>\n",
       "      <td>17.000000</td>\n",
       "      <td>19.000000</td>\n",
       "      <td>2.000000</td>\n",
       "      <td>66.000000</td>\n",
       "      <td>15.000000</td>\n",
       "    </tr>\n",
       "    <tr>\n",
       "      <th>max</th>\n",
       "      <td>25145.000000</td>\n",
       "      <td>1060.000000</td>\n",
       "      <td>854.000000</td>\n",
       "      <td>214.000000</td>\n",
       "      <td>34.000000</td>\n",
       "      <td>39.000000</td>\n",
       "      <td>50.000000</td>\n",
       "      <td>200.000000</td>\n",
       "      <td>139.000000</td>\n",
       "    </tr>\n",
       "  </tbody>\n",
       "</table>\n",
       "</div>"
      ],
      "text/plain": [
       "           resultId        raceId  ...          laps      statusId\n",
       "count  25140.000000  25140.000000  ...  25140.000000  25140.000000\n",
       "mean   12571.218337    516.215712  ...     45.804455     17.757399\n",
       "std     7258.469117    289.167348  ...     30.036217     26.122051\n",
       "min        1.000000      1.000000  ...      0.000000      1.000000\n",
       "25%     6285.750000    286.000000  ...     21.000000      1.000000\n",
       "50%    12570.500000    501.000000  ...     52.000000     11.000000\n",
       "75%    18855.250000    759.000000  ...     66.000000     15.000000\n",
       "max    25145.000000   1060.000000  ...    200.000000    139.000000\n",
       "\n",
       "[8 rows x 9 columns]"
      ]
     },
     "execution_count": 67,
     "metadata": {},
     "output_type": "execute_result"
    }
   ],
   "source": [
    "results = pd.read_csv('results.csv')\n",
    "results.describe()"
   ]
  },
  {
   "cell_type": "code",
   "execution_count": null,
   "id": "4HdbQTFLfoS7",
   "metadata": {
    "colab": {
     "base_uri": "https://localhost:8080/"
    },
    "hidden": true,
    "id": "4HdbQTFLfoS7",
    "outputId": "02934697-7294-4316-f56c-7e352befe90f"
   },
   "outputs": [
    {
     "data": {
      "text/plain": [
       "resultId             int64\n",
       "raceId               int64\n",
       "driverId             int64\n",
       "constructorId        int64\n",
       "number              object\n",
       "grid                 int64\n",
       "position            object\n",
       "positionText        object\n",
       "positionOrder        int64\n",
       "points             float64\n",
       "laps                 int64\n",
       "time                object\n",
       "milliseconds        object\n",
       "fastestLap          object\n",
       "rank                object\n",
       "fastestLapTime      object\n",
       "fastestLapSpeed     object\n",
       "statusId             int64\n",
       "dtype: object"
      ]
     },
     "execution_count": 68,
     "metadata": {},
     "output_type": "execute_result"
    }
   ],
   "source": [
    "results.dtypes"
   ]
  },
  {
   "cell_type": "code",
   "execution_count": null,
   "id": "KsOUK_CbfrR0",
   "metadata": {
    "colab": {
     "base_uri": "https://localhost:8080/",
     "height": 224
    },
    "hidden": true,
    "id": "KsOUK_CbfrR0",
    "outputId": "dd5b1483-046f-4451-f356-5d7b13345ab3"
   },
   "outputs": [
    {
     "data": {
      "text/html": [
       "<div>\n",
       "<style scoped>\n",
       "    .dataframe tbody tr th:only-of-type {\n",
       "        vertical-align: middle;\n",
       "    }\n",
       "\n",
       "    .dataframe tbody tr th {\n",
       "        vertical-align: top;\n",
       "    }\n",
       "\n",
       "    .dataframe thead th {\n",
       "        text-align: right;\n",
       "    }\n",
       "</style>\n",
       "<table border=\"1\" class=\"dataframe\">\n",
       "  <thead>\n",
       "    <tr style=\"text-align: right;\">\n",
       "      <th></th>\n",
       "      <th>resultId</th>\n",
       "      <th>raceId</th>\n",
       "      <th>driverId</th>\n",
       "      <th>constructorId</th>\n",
       "      <th>number</th>\n",
       "      <th>grid</th>\n",
       "      <th>position</th>\n",
       "      <th>positionText</th>\n",
       "      <th>positionOrder</th>\n",
       "      <th>points</th>\n",
       "      <th>laps</th>\n",
       "      <th>time</th>\n",
       "      <th>milliseconds</th>\n",
       "      <th>fastestLap</th>\n",
       "      <th>rank</th>\n",
       "      <th>fastestLapTime</th>\n",
       "      <th>fastestLapSpeed</th>\n",
       "      <th>statusId</th>\n",
       "    </tr>\n",
       "  </thead>\n",
       "  <tbody>\n",
       "    <tr>\n",
       "      <th>0</th>\n",
       "      <td>1</td>\n",
       "      <td>18</td>\n",
       "      <td>1</td>\n",
       "      <td>1</td>\n",
       "      <td>22</td>\n",
       "      <td>1</td>\n",
       "      <td>1</td>\n",
       "      <td>1</td>\n",
       "      <td>1</td>\n",
       "      <td>10.0</td>\n",
       "      <td>58</td>\n",
       "      <td>1:34:50.616</td>\n",
       "      <td>5690616</td>\n",
       "      <td>39</td>\n",
       "      <td>2</td>\n",
       "      <td>1:27.452</td>\n",
       "      <td>218.300</td>\n",
       "      <td>1</td>\n",
       "    </tr>\n",
       "    <tr>\n",
       "      <th>1</th>\n",
       "      <td>2</td>\n",
       "      <td>18</td>\n",
       "      <td>2</td>\n",
       "      <td>2</td>\n",
       "      <td>3</td>\n",
       "      <td>5</td>\n",
       "      <td>2</td>\n",
       "      <td>2</td>\n",
       "      <td>2</td>\n",
       "      <td>8.0</td>\n",
       "      <td>58</td>\n",
       "      <td>+5.478</td>\n",
       "      <td>5696094</td>\n",
       "      <td>41</td>\n",
       "      <td>3</td>\n",
       "      <td>1:27.739</td>\n",
       "      <td>217.586</td>\n",
       "      <td>1</td>\n",
       "    </tr>\n",
       "    <tr>\n",
       "      <th>2</th>\n",
       "      <td>3</td>\n",
       "      <td>18</td>\n",
       "      <td>3</td>\n",
       "      <td>3</td>\n",
       "      <td>7</td>\n",
       "      <td>7</td>\n",
       "      <td>3</td>\n",
       "      <td>3</td>\n",
       "      <td>3</td>\n",
       "      <td>6.0</td>\n",
       "      <td>58</td>\n",
       "      <td>+8.163</td>\n",
       "      <td>5698779</td>\n",
       "      <td>41</td>\n",
       "      <td>5</td>\n",
       "      <td>1:28.090</td>\n",
       "      <td>216.719</td>\n",
       "      <td>1</td>\n",
       "    </tr>\n",
       "    <tr>\n",
       "      <th>3</th>\n",
       "      <td>4</td>\n",
       "      <td>18</td>\n",
       "      <td>4</td>\n",
       "      <td>4</td>\n",
       "      <td>5</td>\n",
       "      <td>11</td>\n",
       "      <td>4</td>\n",
       "      <td>4</td>\n",
       "      <td>4</td>\n",
       "      <td>5.0</td>\n",
       "      <td>58</td>\n",
       "      <td>+17.181</td>\n",
       "      <td>5707797</td>\n",
       "      <td>58</td>\n",
       "      <td>7</td>\n",
       "      <td>1:28.603</td>\n",
       "      <td>215.464</td>\n",
       "      <td>1</td>\n",
       "    </tr>\n",
       "    <tr>\n",
       "      <th>4</th>\n",
       "      <td>5</td>\n",
       "      <td>18</td>\n",
       "      <td>5</td>\n",
       "      <td>1</td>\n",
       "      <td>23</td>\n",
       "      <td>3</td>\n",
       "      <td>5</td>\n",
       "      <td>5</td>\n",
       "      <td>5</td>\n",
       "      <td>4.0</td>\n",
       "      <td>58</td>\n",
       "      <td>+18.014</td>\n",
       "      <td>5708630</td>\n",
       "      <td>43</td>\n",
       "      <td>1</td>\n",
       "      <td>1:27.418</td>\n",
       "      <td>218.385</td>\n",
       "      <td>1</td>\n",
       "    </tr>\n",
       "  </tbody>\n",
       "</table>\n",
       "</div>"
      ],
      "text/plain": [
       "   resultId  raceId  driverId  ...  fastestLapTime fastestLapSpeed  statusId\n",
       "0         1      18         1  ...        1:27.452         218.300         1\n",
       "1         2      18         2  ...        1:27.739         217.586         1\n",
       "2         3      18         3  ...        1:28.090         216.719         1\n",
       "3         4      18         4  ...        1:28.603         215.464         1\n",
       "4         5      18         5  ...        1:27.418         218.385         1\n",
       "\n",
       "[5 rows x 18 columns]"
      ]
     },
     "execution_count": 69,
     "metadata": {},
     "output_type": "execute_result"
    }
   ],
   "source": [
    "results.head(5)"
   ]
  },
  {
   "cell_type": "code",
   "execution_count": null,
   "id": "eDxtd3sDft7I",
   "metadata": {
    "colab": {
     "base_uri": "https://localhost:8080/"
    },
    "hidden": true,
    "id": "eDxtd3sDft7I",
    "outputId": "d9d7af2d-b8cc-4c84-a4c2-b9df09f1bf84"
   },
   "outputs": [
    {
     "data": {
      "text/plain": [
       "0"
      ]
     },
     "execution_count": 70,
     "metadata": {},
     "output_type": "execute_result"
    }
   ],
   "source": [
    "results.duplicated(results.columns.to_list(), keep='first').sum()"
   ]
  },
  {
   "cell_type": "code",
   "execution_count": null,
   "id": "B4T7T8LTfwbi",
   "metadata": {
    "colab": {
     "base_uri": "https://localhost:8080/"
    },
    "hidden": true,
    "id": "B4T7T8LTfwbi",
    "outputId": "84643d70-e6d4-462c-e8df-b703c2689345"
   },
   "outputs": [
    {
     "data": {
      "text/plain": [
       "array([ 1,  5,  7, 11,  3, 13, 17, 15,  2, 18, 19, 20,  4,  8,  6, 22, 14,\n",
       "       12, 21,  9, 16, 10,  0, 23, 24, 25, 26, 27, 28, 29, 31, 30, 32, 33,\n",
       "       34])"
      ]
     },
     "execution_count": 71,
     "metadata": {},
     "output_type": "execute_result"
    }
   ],
   "source": [
    "results['grid'].unique()"
   ]
  },
  {
   "cell_type": "markdown",
   "id": "wONfUhtMf1J2",
   "metadata": {
    "hidden": true,
    "id": "wONfUhtMf1J2"
   },
   "source": [
    "###### As we only consider maximum of 24 cars in qualifying filter out grid positions greater than 24\n",
    "###### Similary, any positionOrder value greater than 24 is also considered data logging error and removed"
   ]
  },
  {
   "cell_type": "code",
   "execution_count": null,
   "id": "PE_1zJnUf6sA",
   "metadata": {
    "hidden": true,
    "id": "PE_1zJnUf6sA"
   },
   "outputs": [],
   "source": [
    "results = results[(results.grid<=24)]"
   ]
  },
  {
   "cell_type": "code",
   "execution_count": null,
   "id": "cKWO4875f6mK",
   "metadata": {
    "hidden": true,
    "id": "cKWO4875f6mK"
   },
   "outputs": [],
   "source": [
    "results = results[results.positionOrder<=24]"
   ]
  },
  {
   "cell_type": "markdown",
   "id": "jbNKnBH1gBGh",
   "metadata": {
    "hidden": true,
    "id": "jbNKnBH1gBGh"
   },
   "source": [
    "###### Points\n",
    "We know that the maximum number of points received by a driver can only be 25.\n",
    "So remove all rows that have points greater than 25"
   ]
  },
  {
   "cell_type": "code",
   "execution_count": null,
   "id": "H5cN4RhVf6iQ",
   "metadata": {
    "colab": {
     "base_uri": "https://localhost:8080/"
    },
    "hidden": true,
    "id": "H5cN4RhVf6iQ",
    "outputId": "a599ede7-e8e7-4a84-980d-71fcb315d2c2"
   },
   "outputs": [
    {
     "data": {
      "text/plain": [
       "points\n",
       "0.00     15245\n",
       "0.50         5\n",
       "1.00       978\n",
       "1.33         3\n",
       "1.50        17\n",
       "2.00      1041\n",
       "2.50         1\n",
       "3.00       818\n",
       "3.14         1\n",
       "3.50         1\n",
       "4.00      1029\n",
       "4.50         4\n",
       "5.00       133\n",
       "6.00      1013\n",
       "6.14         1\n",
       "6.50         2\n",
       "7.00        11\n",
       "8.00       399\n",
       "8.14         1\n",
       "8.50         2\n",
       "9.00       438\n",
       "10.00      538\n",
       "11.00        3\n",
       "12.00      219\n",
       "13.00        5\n",
       "15.00      216\n",
       "16.00        8\n",
       "18.00      215\n",
       "19.00        8\n",
       "20.00        1\n",
       "24.00        1\n",
       "25.00      209\n",
       "26.00       14\n",
       "30.00        1\n",
       "36.00        1\n",
       "50.00        1\n",
       "Name: raceId, dtype: int64"
      ]
     },
     "execution_count": 74,
     "metadata": {},
     "output_type": "execute_result"
    }
   ],
   "source": [
    "results.groupby(['points'])['raceId'].count()"
   ]
  },
  {
   "cell_type": "code",
   "execution_count": null,
   "id": "wZ4NIBttf6ch",
   "metadata": {
    "hidden": true,
    "id": "wZ4NIBttf6ch"
   },
   "outputs": [],
   "source": [
    "results = results[results.points<=25]"
   ]
  },
  {
   "cell_type": "markdown",
   "id": "zj2wFD_kgH1a",
   "metadata": {
    "hidden": true,
    "id": "zj2wFD_kgH1a"
   },
   "source": [
    "###### Laps -> Laps should not be upto 200, external info required better not to use this as of now"
   ]
  },
  {
   "cell_type": "code",
   "execution_count": null,
   "id": "RFhBCsNtgHjR",
   "metadata": {
    "hidden": true,
    "id": "RFhBCsNtgHjR"
   },
   "outputs": [],
   "source": [
    "lap_count = results.groupby(['laps'], as_index=False)['raceId'].count().rename(columns={'raceId':'count'})"
   ]
  },
  {
   "cell_type": "code",
   "execution_count": null,
   "id": "-iX5LVbogOHC",
   "metadata": {
    "colab": {
     "base_uri": "https://localhost:8080/",
     "height": 297
    },
    "hidden": true,
    "id": "-iX5LVbogOHC",
    "outputId": "751d0194-e67b-4882-96ad-e1d267f305a9"
   },
   "outputs": [
    {
     "data": {
      "text/plain": [
       "<matplotlib.axes._subplots.AxesSubplot at 0x7fd0b0ab7590>"
      ]
     },
     "execution_count": 77,
     "metadata": {},
     "output_type": "execute_result"
    },
    {
     "data": {
      "image/png": "[encoded data removed]",
      "text/plain": [
       "<Figure size 432x288 with 1 Axes>"
      ]
     },
     "metadata": {
      "needs_background": "light"
     },
     "output_type": "display_data"
    }
   ],
   "source": [
    "sns.lineplot(data=lap_count, x='laps', y='count')"
   ]
  },
  {
   "cell_type": "markdown",
   "id": "kSx5D9F-gR3r",
   "metadata": {
    "hidden": true,
    "id": "kSx5D9F-gR3r"
   },
   "source": [
    "###### Fastest Lap Speed and Fastest Lap Times"
   ]
  },
  {
   "cell_type": "code",
   "execution_count": null,
   "id": "lxMqjen7gUc6",
   "metadata": {
    "hidden": true,
    "id": "lxMqjen7gUc6"
   },
   "outputs": [],
   "source": [
    "results['fastestLapSpeed'] = results['fastestLapSpeed'].replace('\\\\N', '0.0')\n",
    "results['fastestLapSpeed'] = results['fastestLapSpeed'].astype({'fastestLapSpeed':'float64'})"
   ]
  },
  {
   "cell_type": "code",
   "execution_count": null,
   "id": "p_3phgfugV9n",
   "metadata": {
    "colab": {
     "base_uri": "https://localhost:8080/"
    },
    "hidden": true,
    "id": "p_3phgfugV9n",
    "outputId": "017c2013-7696-47ba-edda-9849ffc96e19"
   },
   "outputs": [
    {
     "data": {
      "text/plain": [
       "count    22566.000000\n",
       "mean        60.181641\n",
       "std         93.272596\n",
       "min          0.000000\n",
       "25%          0.000000\n",
       "50%          0.000000\n",
       "75%        186.052500\n",
       "max        257.320000\n",
       "Name: fastestLapSpeed, dtype: float64"
      ]
     },
     "execution_count": 79,
     "metadata": {},
     "output_type": "execute_result"
    }
   ],
   "source": [
    "results['fastestLapSpeed'].describe()"
   ]
  },
  {
   "cell_type": "code",
   "execution_count": null,
   "id": "fd9-a-nEgY8I",
   "metadata": {
    "colab": {
     "base_uri": "https://localhost:8080/"
    },
    "hidden": true,
    "id": "fd9-a-nEgY8I",
    "outputId": "e96c6fce-b235-4205-e42f-4ccdbb4dcd62"
   },
   "outputs": [
    {
     "data": {
      "text/plain": [
       "array(['\\\\N'], dtype=object)"
      ]
     },
     "execution_count": 80,
     "metadata": {},
     "output_type": "execute_result"
    }
   ],
   "source": [
    "results[results.fastestLapSpeed==0.0]['fastestLapTime'].unique()"
   ]
  },
  {
   "cell_type": "code",
   "execution_count": null,
   "id": "uS7SGtFcgaV6",
   "metadata": {
    "colab": {
     "base_uri": "https://localhost:8080/"
    },
    "hidden": true,
    "id": "uS7SGtFcgaV6",
    "outputId": "7ee4ce7f-9e33-421b-a736-423b40aade9a"
   },
   "outputs": [
    {
     "data": {
      "text/plain": [
       "count    15859.0\n",
       "mean         0.0\n",
       "std          0.0\n",
       "min          0.0\n",
       "25%          0.0\n",
       "50%          0.0\n",
       "75%          0.0\n",
       "max          0.0\n",
       "Name: fastestLapSpeed, dtype: float64"
      ]
     },
     "execution_count": 81,
     "metadata": {},
     "output_type": "execute_result"
    }
   ],
   "source": [
    "results[results.fastestLapTime=='\\\\N']['fastestLapSpeed'].describe()"
   ]
  },
  {
   "cell_type": "markdown",
   "id": "Sk0NqRIHgb8Z",
   "metadata": {
    "hidden": true,
    "id": "Sk0NqRIHgb8Z"
   },
   "source": [
    "###### RaceTimes outliers"
   ]
  },
  {
   "cell_type": "code",
   "execution_count": null,
   "id": "aXym4p7cgbpU",
   "metadata": {
    "hidden": true,
    "id": "aXym4p7cgbpU"
   },
   "outputs": [],
   "source": [
    "results['milliseconds'] = results['milliseconds'].replace('\\\\N', '0')\n",
    "results['milliseconds'] = results['milliseconds'].astype({'milliseconds':'int64'})"
   ]
  },
  {
   "cell_type": "code",
   "execution_count": null,
   "id": "vQWq0rVOgiDo",
   "metadata": {
    "colab": {
     "base_uri": "https://localhost:8080/",
     "height": 293
    },
    "hidden": true,
    "id": "vQWq0rVOgiDo",
    "outputId": "f2ba7b70-69bb-45c7-80cb-b9d32d375176"
   },
   "outputs": [
    {
     "data": {
      "text/plain": [
       "<matplotlib.axes._subplots.AxesSubplot at 0x7fd0b0a22e10>"
      ]
     },
     "execution_count": 83,
     "metadata": {},
     "output_type": "execute_result"
    },
    {
     "data": {
      "image/png": "[encoded data removed]",
      "text/plain": [
       "<Figure size 432x288 with 1 Axes>"
      ]
     },
     "metadata": {
      "needs_background": "light"
     },
     "output_type": "display_data"
    }
   ],
   "source": [
    "results[results.milliseconds!=0].boxplot('milliseconds')"
   ]
  },
  {
   "cell_type": "code",
   "execution_count": null,
   "id": "-zlNYttdgkTI",
   "metadata": {
    "hidden": true,
    "id": "-zlNYttdgkTI"
   },
   "outputs": [],
   "source": [
    "def iqr_race_time(df, col):\n",
    "    q1 = df[df[col]!=0.0][col].quantile(0.25)\n",
    "    q3 = df[df[col]!=0.0][col].quantile(0.75)\n",
    "    iqr = q3-q1\n",
    "    iqr_filter = (df[col]>=q1 -  1.5*iqr) & (df[col]<= q3 + 1.5*iqr) | (df[col]==0)\n",
    "    df = df.loc[iqr_filter]\n",
    "    return df\n",
    "results = iqr_race_time(results, 'milliseconds')"
   ]
  },
  {
   "cell_type": "code",
   "execution_count": null,
   "id": "D3VZl_SRgnRC",
   "metadata": {
    "hidden": true,
    "id": "D3VZl_SRgnRC"
   },
   "outputs": [],
   "source": [
    "results.to_csv('clean_results.csv', index=False)"
   ]
  },
  {
   "cell_type": "markdown",
   "id": "007_d36KgsiD",
   "metadata": {
    "heading_collapsed": true,
    "hidden": true,
    "id": "007_d36KgsiD"
   },
   "source": [
    "#### SEASONS"
   ]
  },
  {
   "cell_type": "markdown",
   "id": "Lb7o2AaNspaS",
   "metadata": {
    "hidden": true,
    "id": "Lb7o2AaNspaS"
   },
   "source": [
    "This file represents the meta-data about every F1 season <br>\n",
    "<br>\n",
    "Values represented by each columns\n",
    "<ol>\n",
    "    <li> year -> Represents the season.\n",
    "    <li> url -> Link to wikipedia page of the season.\n",
    "</ol>\n",
    "<br><br>\n",
    "Observations and cleaning stratergy used-\n",
    "<ul>\n",
    "    <li> There are no duplicate rows in the data\n",
    "    <li> As this data represents, ground truth no cleaning is required.\n",
    "</ul>"
   ]
  },
  {
   "cell_type": "code",
   "execution_count": null,
   "id": "V7iNosUtgxGJ",
   "metadata": {
    "hidden": true,
    "id": "V7iNosUtgxGJ"
   },
   "outputs": [],
   "source": [
    "seasons = pd.read_csv('seasons.csv')"
   ]
  },
  {
   "cell_type": "code",
   "execution_count": null,
   "id": "KXt5TyZXg0Bo",
   "metadata": {
    "colab": {
     "base_uri": "https://localhost:8080/",
     "height": 204
    },
    "hidden": true,
    "id": "KXt5TyZXg0Bo",
    "outputId": "2eafda3d-e344-4289-8600-a58524d90707"
   },
   "outputs": [
    {
     "data": {
      "text/html": [
       "<div>\n",
       "<style scoped>\n",
       "    .dataframe tbody tr th:only-of-type {\n",
       "        vertical-align: middle;\n",
       "    }\n",
       "\n",
       "    .dataframe tbody tr th {\n",
       "        vertical-align: top;\n",
       "    }\n",
       "\n",
       "    .dataframe thead th {\n",
       "        text-align: right;\n",
       "    }\n",
       "</style>\n",
       "<table border=\"1\" class=\"dataframe\">\n",
       "  <thead>\n",
       "    <tr style=\"text-align: right;\">\n",
       "      <th></th>\n",
       "      <th>year</th>\n",
       "      <th>url</th>\n",
       "    </tr>\n",
       "  </thead>\n",
       "  <tbody>\n",
       "    <tr>\n",
       "      <th>0</th>\n",
       "      <td>2009</td>\n",
       "      <td>https://en.wikipedia.org/wiki/2009_Formula_One...</td>\n",
       "    </tr>\n",
       "    <tr>\n",
       "      <th>1</th>\n",
       "      <td>2008</td>\n",
       "      <td>https://en.wikipedia.org/wiki/2008_Formula_One...</td>\n",
       "    </tr>\n",
       "    <tr>\n",
       "      <th>2</th>\n",
       "      <td>2007</td>\n",
       "      <td>https://en.wikipedia.org/wiki/2007_Formula_One...</td>\n",
       "    </tr>\n",
       "    <tr>\n",
       "      <th>3</th>\n",
       "      <td>2006</td>\n",
       "      <td>https://en.wikipedia.org/wiki/2006_Formula_One...</td>\n",
       "    </tr>\n",
       "    <tr>\n",
       "      <th>4</th>\n",
       "      <td>2005</td>\n",
       "      <td>https://en.wikipedia.org/wiki/2005_Formula_One...</td>\n",
       "    </tr>\n",
       "  </tbody>\n",
       "</table>\n",
       "</div>"
      ],
      "text/plain": [
       "   year                                                url\n",
       "0  2009  https://en.wikipedia.org/wiki/2009_Formula_One...\n",
       "1  2008  https://en.wikipedia.org/wiki/2008_Formula_One...\n",
       "2  2007  https://en.wikipedia.org/wiki/2007_Formula_One...\n",
       "3  2006  https://en.wikipedia.org/wiki/2006_Formula_One...\n",
       "4  2005  https://en.wikipedia.org/wiki/2005_Formula_One..."
      ]
     },
     "execution_count": 87,
     "metadata": {},
     "output_type": "execute_result"
    }
   ],
   "source": [
    "seasons.head()"
   ]
  },
  {
   "cell_type": "code",
   "execution_count": null,
   "id": "4h7selaog1m9",
   "metadata": {
    "colab": {
     "base_uri": "https://localhost:8080/",
     "height": 297
    },
    "hidden": true,
    "id": "4h7selaog1m9",
    "outputId": "1dcc9912-03a1-406e-e71e-7fb43c407b0b"
   },
   "outputs": [
    {
     "data": {
      "text/html": [
       "<div>\n",
       "<style scoped>\n",
       "    .dataframe tbody tr th:only-of-type {\n",
       "        vertical-align: middle;\n",
       "    }\n",
       "\n",
       "    .dataframe tbody tr th {\n",
       "        vertical-align: top;\n",
       "    }\n",
       "\n",
       "    .dataframe thead th {\n",
       "        text-align: right;\n",
       "    }\n",
       "</style>\n",
       "<table border=\"1\" class=\"dataframe\">\n",
       "  <thead>\n",
       "    <tr style=\"text-align: right;\">\n",
       "      <th></th>\n",
       "      <th>year</th>\n",
       "    </tr>\n",
       "  </thead>\n",
       "  <tbody>\n",
       "    <tr>\n",
       "      <th>count</th>\n",
       "      <td>72.00000</td>\n",
       "    </tr>\n",
       "    <tr>\n",
       "      <th>mean</th>\n",
       "      <td>1985.50000</td>\n",
       "    </tr>\n",
       "    <tr>\n",
       "      <th>std</th>\n",
       "      <td>20.92845</td>\n",
       "    </tr>\n",
       "    <tr>\n",
       "      <th>min</th>\n",
       "      <td>1950.00000</td>\n",
       "    </tr>\n",
       "    <tr>\n",
       "      <th>25%</th>\n",
       "      <td>1967.75000</td>\n",
       "    </tr>\n",
       "    <tr>\n",
       "      <th>50%</th>\n",
       "      <td>1985.50000</td>\n",
       "    </tr>\n",
       "    <tr>\n",
       "      <th>75%</th>\n",
       "      <td>2003.25000</td>\n",
       "    </tr>\n",
       "    <tr>\n",
       "      <th>max</th>\n",
       "      <td>2021.00000</td>\n",
       "    </tr>\n",
       "  </tbody>\n",
       "</table>\n",
       "</div>"
      ],
      "text/plain": [
       "             year\n",
       "count    72.00000\n",
       "mean   1985.50000\n",
       "std      20.92845\n",
       "min    1950.00000\n",
       "25%    1967.75000\n",
       "50%    1985.50000\n",
       "75%    2003.25000\n",
       "max    2021.00000"
      ]
     },
     "execution_count": 88,
     "metadata": {},
     "output_type": "execute_result"
    }
   ],
   "source": [
    "seasons.describe()"
   ]
  },
  {
   "cell_type": "markdown",
   "id": "WK5bKmJyg65y",
   "metadata": {
    "heading_collapsed": true,
    "hidden": true,
    "id": "WK5bKmJyg65y"
   },
   "source": [
    "#### STATUS"
   ]
  },
  {
   "cell_type": "markdown",
   "id": "SDQ2lF6qsrAT",
   "metadata": {
    "hidden": true,
    "id": "SDQ2lF6qsrAT"
   },
   "source": [
    "This file represents the meta-data about the race. Is mainly used to enrich the data. <br>\n",
    "<br>\n",
    "Values represented by each columns\n",
    "<ol>\n",
    "    <li> statusId -> Unique ID assigned to each data value.\n",
    "    <li> status -> Textual information that represents the status used to enrich the resutls data.\n",
    "</ol>\n",
    "<br><br>\n",
    "Observations and cleaning stratergy used-\n",
    "<ul>\n",
    "    <li> There are no duplicate rows in the data\n",
    "    <li> As this data represents, ground truth no cleaning is required.\n",
    "</ul>"
   ]
  },
  {
   "cell_type": "code",
   "execution_count": null,
   "id": "j59qWHQ6g--f",
   "metadata": {
    "hidden": true,
    "id": "j59qWHQ6g--f"
   },
   "outputs": [],
   "source": [
    "status = pd.read_csv('status.csv')"
   ]
  },
  {
   "cell_type": "code",
   "execution_count": null,
   "id": "qHwSkziOg-6B",
   "metadata": {
    "colab": {
     "base_uri": "https://localhost:8080/"
    },
    "hidden": true,
    "id": "qHwSkziOg-6B",
    "outputId": "d50bb0b0-53c4-4779-d916-93e1ea3d2055"
   },
   "outputs": [
    {
     "data": {
      "text/html": [
       "<div>\n",
       "<style scoped>\n",
       "    .dataframe tbody tr th:only-of-type {\n",
       "        vertical-align: middle;\n",
       "    }\n",
       "\n",
       "    .dataframe tbody tr th {\n",
       "        vertical-align: top;\n",
       "    }\n",
       "\n",
       "    .dataframe thead th {\n",
       "        text-align: right;\n",
       "    }\n",
       "</style>\n",
       "<table border=\"1\" class=\"dataframe\">\n",
       "  <thead>\n",
       "    <tr style=\"text-align: right;\">\n",
       "      <th></th>\n",
       "      <th>statusId</th>\n",
       "      <th>status</th>\n",
       "    </tr>\n",
       "  </thead>\n",
       "  <tbody>\n",
       "    <tr>\n",
       "      <th>0</th>\n",
       "      <td>1</td>\n",
       "      <td>Finished</td>\n",
       "    </tr>\n",
       "    <tr>\n",
       "      <th>1</th>\n",
       "      <td>2</td>\n",
       "      <td>Disqualified</td>\n",
       "    </tr>\n",
       "    <tr>\n",
       "      <th>2</th>\n",
       "      <td>3</td>\n",
       "      <td>Accident</td>\n",
       "    </tr>\n",
       "    <tr>\n",
       "      <th>3</th>\n",
       "      <td>4</td>\n",
       "      <td>Collision</td>\n",
       "    </tr>\n",
       "    <tr>\n",
       "      <th>4</th>\n",
       "      <td>5</td>\n",
       "      <td>Engine</td>\n",
       "    </tr>\n",
       "  </tbody>\n",
       "</table>\n",
       "</div>"
      ],
      "text/plain": [
       "   statusId        status\n",
       "0         1      Finished\n",
       "1         2  Disqualified\n",
       "2         3      Accident\n",
       "3         4     Collision\n",
       "4         5        Engine"
      ]
     },
     "execution_count": 90,
     "metadata": {},
     "output_type": "execute_result"
    }
   ],
   "source": [
    "status.head()"
   ]
  },
  {
   "cell_type": "markdown",
   "id": "f91017ad",
   "metadata": {
    "heading_collapsed": true,
    "hidden": true
   },
   "source": [
    "#### DRIVER_STANDINGS"
   ]
  },
  {
   "cell_type": "code",
   "execution_count": 1,
   "id": "e54eaed3",
   "metadata": {
    "hidden": true
   },
   "outputs": [
    {
     "ename": "NameError",
     "evalue": "name 'pd' is not defined",
     "output_type": "error",
     "traceback": [
      "\u001b[0;31m---------------------------------------------------------------------------\u001b[0m",
      "\u001b[0;31mNameError\u001b[0m                                 Traceback (most recent call last)",
      "\u001b[0;32m/var/folders/ls/6136ly6n301gs_43z_gxkz5w0000gn/T/ipykernel_64021/2468690950.py\u001b[0m in \u001b[0;36m<module>\u001b[0;34m\u001b[0m\n\u001b[0;32m----> 1\u001b[0;31m \u001b[0mdriver_standings_df\u001b[0m \u001b[0;34m=\u001b[0m \u001b[0mpd\u001b[0m\u001b[0;34m.\u001b[0m\u001b[0mread_csv\u001b[0m\u001b[0;34m(\u001b[0m\u001b[0;34m'driver_standings.csv'\u001b[0m\u001b[0;34m)\u001b[0m\u001b[0;34m\u001b[0m\u001b[0;34m\u001b[0m\u001b[0m\n\u001b[0m",
      "\u001b[0;31mNameError\u001b[0m: name 'pd' is not defined"
     ]
    }
   ],
   "source": [
    "driver_standings_df = pd.read_csv('driver_standings.csv')"
   ]
  },
  {
   "cell_type": "code",
   "execution_count": null,
   "id": "0cc9c520",
   "metadata": {
    "hidden": true
   },
   "outputs": [],
   "source": [
    "driver_standings_df.head()"
   ]
  },
  {
   "cell_type": "code",
   "execution_count": null,
   "id": "92b9fa47",
   "metadata": {
    "hidden": true
   },
   "outputs": [],
   "source": [
    "# Change datatype of primary key ids from int to string\n",
    "print(\"driver_standings_df.dtypes = \", driver_standings_df.dtypes)\n",
    "driver_standings_df['driverStandingsId'] = driver_standings_df['driverStandingsId'].astype('str')\n",
    "driver_standings_df['raceId'] = driver_standings_df['raceId'].astype('str')\n",
    "driver_standings_df['driverId'] = driver_standings_df['driverId'].astype('str')\n",
    "print(\"driver_standings_df.dtypes = \", driver_standings_df.dtypes)"
   ]
  },
  {
   "cell_type": "code",
   "execution_count": null,
   "id": "ba0998e1",
   "metadata": {
    "hidden": true
   },
   "outputs": [],
   "source": [
    "# Check boxplot to clean outlier positions \n",
    "boxplot = driver_standings_df.boxplot(column=['position'])"
   ]
  },
  {
   "cell_type": "code",
   "execution_count": null,
   "id": "56b2726f",
   "metadata": {
    "hidden": true
   },
   "outputs": [],
   "source": [
    "# Find percentage of incorrect number of wins ie wins>3\n",
    "print(driver_standings_df['wins'].count())\n",
    "print(driver_standings_df[driver_standings_df.wins > 3]['wins'].count())\n",
    "print(driver_standings_df[driver_standings_df.wins <= 3]['wins'].count())\n",
    "print(driver_standings_df[driver_standings_df.wins > 3]['wins'].count()/driver_standings_df['wins'].count())"
   ]
  },
  {
   "cell_type": "code",
   "execution_count": null,
   "id": "55af62a9",
   "metadata": {
    "hidden": true
   },
   "outputs": [],
   "source": [
    "#Drop those rows\n",
    "driver_standings_df = driver_standings_df[driver_standings_df['wins'] <= 3]\n",
    "print(driver_standings_df['wins'].count())\n",
    "print(driver_standings_df[driver_standings_df.wins > 3]['wins'].count())\n",
    "print(driver_standings_df[driver_standings_df.wins <= 3]['wins'].count())\n",
    "print(driver_standings_df[driver_standings_df.wins <= 3]['wins'].count()/driver_standings_df['wins'].count())"
   ]
  },
  {
   "cell_type": "code",
   "execution_count": null,
   "id": "866da116",
   "metadata": {
    "hidden": true
   },
   "outputs": [],
   "source": [
    "# Drop positionText since it is the string format of positions column = unuseful\n",
    "driver_standings_df = driver_standings_df.drop(['positionText'], axis=1)"
   ]
  },
  {
   "cell_type": "markdown",
   "id": "0cfe7d1f",
   "metadata": {
    "heading_collapsed": true,
    "hidden": true
   },
   "source": [
    "#### DRIVERS"
   ]
  },
  {
   "cell_type": "code",
   "execution_count": null,
   "id": "8c57aa89",
   "metadata": {
    "hidden": true
   },
   "outputs": [],
   "source": [
    "drivers_df = pd.read_csv('drivers.csv')\n",
    "drivers_df.head()"
   ]
  },
  {
   "cell_type": "code",
   "execution_count": null,
   "id": "832edcd1",
   "metadata": {
    "hidden": true
   },
   "outputs": [],
   "source": [
    "# Change datatype of primary key ids from int to string\n",
    "print(drivers_df.dtypes)\n",
    "driver_standings_df['driverId'] = driver_standings_df['driverId'].astype('str')\n",
    "print(drivers_df.dtypes)"
   ]
  },
  {
   "cell_type": "code",
   "execution_count": null,
   "id": "39ff3ac0",
   "metadata": {
    "hidden": true
   },
   "outputs": [],
   "source": [
    "drivers_df[drivers_df['number'] == '\\\\N']"
   ]
  },
  {
   "cell_type": "code",
   "execution_count": null,
   "id": "a7a0b132",
   "metadata": {
    "hidden": true
   },
   "outputs": [],
   "source": [
    "# Replace \\N with NaN values\n",
    "drivers_df = drivers_df.replace('\\\\N', np.nan)"
   ]
  },
  {
   "cell_type": "code",
   "execution_count": null,
   "id": "3a5e8247",
   "metadata": {
    "hidden": true
   },
   "outputs": [],
   "source": [
    "# Create column age\n",
    "def age(born):\n",
    "    born = datetime.strptime(born, \"%Y-%m-%d\").date()\n",
    "    today = date.today()\n",
    "    return today.year - born.year - ((today.month, today.day) < (born.month, born.day))\n",
    "  \n",
    "drivers_df['Age'] = drivers_df['dob'].apply(age)\n",
    "drivers_df.head()"
   ]
  },
  {
   "cell_type": "markdown",
   "id": "ee6588fb",
   "metadata": {
    "heading_collapsed": true,
    "hidden": true
   },
   "source": [
    "#### LAP_TIMES"
   ]
  },
  {
   "cell_type": "code",
   "execution_count": null,
   "id": "39c14deb",
   "metadata": {
    "hidden": true
   },
   "outputs": [],
   "source": [
    "lap_times_df = pd.read_csv('lap_times.csv')\n",
    "lap_times_df.head()"
   ]
  },
  {
   "cell_type": "code",
   "execution_count": null,
   "id": "e46c4b36",
   "metadata": {
    "hidden": true
   },
   "outputs": [],
   "source": [
    "# Change datatype of primary key ids from int to string\n",
    "lap_times_df.dtypes\n",
    "lap_times_df['raceId'] = lap_times_df['raceId'].astype('str')\n",
    "lap_times_df['driverId'] = lap_times_df['driverId'].astype('str')\n",
    "lap_times_df.dtypes"
   ]
  },
  {
   "cell_type": "code",
   "execution_count": null,
   "id": "f404a3a9",
   "metadata": {
    "hidden": true
   },
   "outputs": [],
   "source": [
    "lap_times_df.describe()"
   ]
  },
  {
   "cell_type": "markdown",
   "id": "efd62e2b",
   "metadata": {
    "heading_collapsed": true,
    "hidden": true
   },
   "source": [
    "#### PIT_STOPS"
   ]
  },
  {
   "cell_type": "code",
   "execution_count": null,
   "id": "282fc566",
   "metadata": {
    "hidden": true
   },
   "outputs": [],
   "source": [
    "pit_stops_df = pd.read_csv('pit_stops.csv')\n",
    "pit_stops_df.head()"
   ]
  },
  {
   "cell_type": "code",
   "execution_count": null,
   "id": "274d7bf5",
   "metadata": {
    "hidden": true
   },
   "outputs": [],
   "source": [
    "# Change datatype of primary key ids from int to string\n",
    "pit_stops_df['raceId'] = pit_stops_df['raceId'].astype('str')\n",
    "pit_stops_df['driverId'] = pit_stops_df['driverId'].astype('str')"
   ]
  },
  {
   "cell_type": "code",
   "execution_count": null,
   "id": "9e8a618e",
   "metadata": {
    "hidden": true
   },
   "outputs": [],
   "source": [
    "pit_stops_df.describe()"
   ]
  },
  {
   "cell_type": "code",
   "execution_count": null,
   "id": "d52dc6f6",
   "metadata": {
    "hidden": true
   },
   "outputs": [],
   "source": [
    "boxplot = pit_stops_df.boxplot(column=['milliseconds'])"
   ]
  },
  {
   "cell_type": "code",
   "execution_count": null,
   "id": "75b8ac3d",
   "metadata": {
    "hidden": true
   },
   "outputs": [],
   "source": [
    "# Remove outlier pit stop times\n",
    "Q1=pit_stops_df['milliseconds'].quantile(0.25)\n",
    "Q3=pit_stops_df['milliseconds'].quantile(0.75)\n",
    "IQR=Q3-Q1\n",
    "print(Q1)\n",
    "print(Q3)\n",
    "print(IQR)\n",
    "pit_stops_df=pit_stops_df[~((pit_stops_df['milliseconds']>(Q3+1.5*IQR)))]\n",
    "pit_stops_df.head()"
   ]
  },
  {
   "cell_type": "markdown",
   "id": "b63175cc",
   "metadata": {
    "heading_collapsed": true,
    "id": "b63175cc"
   },
   "source": [
    "# SUMMARY STATS\n"
   ]
  },
  {
   "cell_type": "markdown",
   "id": "b928c345",
   "metadata": {
    "heading_collapsed": true,
    "hidden": true
   },
   "source": [
    "#### CONSTRUCTORS"
   ]
  },
  {
   "cell_type": "code",
   "execution_count": null,
   "id": "0cd42515",
   "metadata": {
    "colab": {
     "base_uri": "https://localhost:8080/"
    },
    "hidden": true,
    "id": "0cd42515",
    "outputId": "283b3807-7433-42d6-fea0-47df37c65d0c"
   },
   "outputs": [
    {
     "data": {
      "text/html": [
       "<div>\n",
       "<style scoped>\n",
       "    .dataframe tbody tr th:only-of-type {\n",
       "        vertical-align: middle;\n",
       "    }\n",
       "\n",
       "    .dataframe tbody tr th {\n",
       "        vertical-align: top;\n",
       "    }\n",
       "\n",
       "    .dataframe thead th {\n",
       "        text-align: right;\n",
       "    }\n",
       "</style>\n",
       "<table border=\"1\" class=\"dataframe\">\n",
       "  <thead>\n",
       "    <tr style=\"text-align: right;\">\n",
       "      <th></th>\n",
       "      <th>constructorId</th>\n",
       "      <th>constructorRef</th>\n",
       "      <th>name</th>\n",
       "      <th>nationality</th>\n",
       "      <th>url</th>\n",
       "    </tr>\n",
       "  </thead>\n",
       "  <tbody>\n",
       "    <tr>\n",
       "      <th>count</th>\n",
       "      <td>211</td>\n",
       "      <td>211</td>\n",
       "      <td>211</td>\n",
       "      <td>211</td>\n",
       "      <td>211</td>\n",
       "    </tr>\n",
       "    <tr>\n",
       "      <th>unique</th>\n",
       "      <td>211</td>\n",
       "      <td>211</td>\n",
       "      <td>211</td>\n",
       "      <td>24</td>\n",
       "      <td>174</td>\n",
       "    </tr>\n",
       "    <tr>\n",
       "      <th>top</th>\n",
       "      <td>117</td>\n",
       "      <td>shadow-matra</td>\n",
       "      <td>AlphaTauri</td>\n",
       "      <td>British</td>\n",
       "      <td>http://en.wikipedia.org/wiki/Cooper_Car_Company</td>\n",
       "    </tr>\n",
       "    <tr>\n",
       "      <th>freq</th>\n",
       "      <td>1</td>\n",
       "      <td>1</td>\n",
       "      <td>1</td>\n",
       "      <td>86</td>\n",
       "      <td>11</td>\n",
       "    </tr>\n",
       "  </tbody>\n",
       "</table>\n",
       "</div>"
      ],
      "text/plain": [
       "       constructorId  ...                                              url\n",
       "count            211  ...                                              211\n",
       "unique           211  ...                                              174\n",
       "top              117  ...  http://en.wikipedia.org/wiki/Cooper_Car_Company\n",
       "freq               1  ...                                               11\n",
       "\n",
       "[4 rows x 5 columns]"
      ]
     },
     "execution_count": 91,
     "metadata": {},
     "output_type": "execute_result"
    }
   ],
   "source": [
    "constructors.describe()"
   ]
  },
  {
   "cell_type": "markdown",
   "id": "5e0136f0",
   "metadata": {
    "heading_collapsed": true,
    "hidden": true
   },
   "source": [
    "#### CIRCUITS"
   ]
  },
  {
   "cell_type": "code",
   "execution_count": null,
   "id": "06c82fd9",
   "metadata": {
    "colab": {
     "base_uri": "https://localhost:8080/"
    },
    "hidden": true,
    "id": "06c82fd9",
    "outputId": "9b81e5dc-5f5d-4a90-aa91-a3ac82248369"
   },
   "outputs": [
    {
     "data": {
      "text/plain": [
       "77"
      ]
     },
     "execution_count": 92,
     "metadata": {},
     "output_type": "execute_result"
    }
   ],
   "source": [
    "len(circuits)"
   ]
  },
  {
   "cell_type": "code",
   "execution_count": null,
   "id": "e249e5ae",
   "metadata": {
    "colab": {
     "base_uri": "https://localhost:8080/"
    },
    "hidden": true,
    "id": "e249e5ae",
    "outputId": "3c806e28-83d0-4452-ebf8-806f93944b76"
   },
   "outputs": [
    {
     "data": {
      "text/html": [
       "<div>\n",
       "<style scoped>\n",
       "    .dataframe tbody tr th:only-of-type {\n",
       "        vertical-align: middle;\n",
       "    }\n",
       "\n",
       "    .dataframe tbody tr th {\n",
       "        vertical-align: top;\n",
       "    }\n",
       "\n",
       "    .dataframe thead th {\n",
       "        text-align: right;\n",
       "    }\n",
       "</style>\n",
       "<table border=\"1\" class=\"dataframe\">\n",
       "  <thead>\n",
       "    <tr style=\"text-align: right;\">\n",
       "      <th></th>\n",
       "      <th>lat</th>\n",
       "      <th>lng</th>\n",
       "      <th>alt</th>\n",
       "    </tr>\n",
       "  </thead>\n",
       "  <tbody>\n",
       "    <tr>\n",
       "      <th>count</th>\n",
       "      <td>77.000000</td>\n",
       "      <td>77.000000</td>\n",
       "      <td>77.000000</td>\n",
       "    </tr>\n",
       "    <tr>\n",
       "      <th>mean</th>\n",
       "      <td>33.720351</td>\n",
       "      <td>3.551303</td>\n",
       "      <td>247.493506</td>\n",
       "    </tr>\n",
       "    <tr>\n",
       "      <th>std</th>\n",
       "      <td>22.885969</td>\n",
       "      <td>64.876679</td>\n",
       "      <td>363.267251</td>\n",
       "    </tr>\n",
       "    <tr>\n",
       "      <th>min</th>\n",
       "      <td>-37.849700</td>\n",
       "      <td>-118.189000</td>\n",
       "      <td>-7.000000</td>\n",
       "    </tr>\n",
       "    <tr>\n",
       "      <th>25%</th>\n",
       "      <td>33.447900</td>\n",
       "      <td>-9.203060</td>\n",
       "      <td>18.000000</td>\n",
       "    </tr>\n",
       "    <tr>\n",
       "      <th>50%</th>\n",
       "      <td>41.170500</td>\n",
       "      <td>4.326940</td>\n",
       "      <td>129.000000</td>\n",
       "    </tr>\n",
       "    <tr>\n",
       "      <th>75%</th>\n",
       "      <td>47.203900</td>\n",
       "      <td>19.248600</td>\n",
       "      <td>332.000000</td>\n",
       "    </tr>\n",
       "    <tr>\n",
       "      <th>max</th>\n",
       "      <td>57.265300</td>\n",
       "      <td>144.968000</td>\n",
       "      <td>2227.000000</td>\n",
       "    </tr>\n",
       "  </tbody>\n",
       "</table>\n",
       "</div>"
      ],
      "text/plain": [
       "             lat         lng          alt\n",
       "count  77.000000   77.000000    77.000000\n",
       "mean   33.720351    3.551303   247.493506\n",
       "std    22.885969   64.876679   363.267251\n",
       "min   -37.849700 -118.189000    -7.000000\n",
       "25%    33.447900   -9.203060    18.000000\n",
       "50%    41.170500    4.326940   129.000000\n",
       "75%    47.203900   19.248600   332.000000\n",
       "max    57.265300  144.968000  2227.000000"
      ]
     },
     "execution_count": 93,
     "metadata": {},
     "output_type": "execute_result"
    }
   ],
   "source": [
    "circuits.describe()"
   ]
  },
  {
   "cell_type": "code",
   "execution_count": null,
   "id": "51ff5016",
   "metadata": {
    "colab": {
     "base_uri": "https://localhost:8080/"
    },
    "hidden": true,
    "id": "51ff5016",
    "outputId": "d69afee1-a6f5-4edb-afe5-7f31b0efee5a"
   },
   "outputs": [
    {
     "data": {
      "text/html": [
       "<div>\n",
       "<style scoped>\n",
       "    .dataframe tbody tr th:only-of-type {\n",
       "        vertical-align: middle;\n",
       "    }\n",
       "\n",
       "    .dataframe tbody tr th {\n",
       "        vertical-align: top;\n",
       "    }\n",
       "\n",
       "    .dataframe thead th {\n",
       "        text-align: right;\n",
       "    }\n",
       "</style>\n",
       "<table border=\"1\" class=\"dataframe\">\n",
       "  <thead>\n",
       "    <tr style=\"text-align: right;\">\n",
       "      <th></th>\n",
       "      <th>circuitId</th>\n",
       "      <th>circuitRef</th>\n",
       "      <th>name</th>\n",
       "      <th>location</th>\n",
       "      <th>country</th>\n",
       "      <th>lat</th>\n",
       "      <th>lng</th>\n",
       "      <th>alt</th>\n",
       "      <th>url</th>\n",
       "    </tr>\n",
       "  </thead>\n",
       "  <tbody>\n",
       "    <tr>\n",
       "      <th>31</th>\n",
       "      <td>32</td>\n",
       "      <td>rodriguez</td>\n",
       "      <td>Autódromo Hermanos Rodríguez</td>\n",
       "      <td>Mexico City</td>\n",
       "      <td>Mexico</td>\n",
       "      <td>19.4042</td>\n",
       "      <td>-99.0907</td>\n",
       "      <td>2227</td>\n",
       "      <td>http://en.wikipedia.org/wiki/Aut%C3%B3dromo_He...</td>\n",
       "    </tr>\n",
       "  </tbody>\n",
       "</table>\n",
       "</div>"
      ],
      "text/plain": [
       "   circuitId  ...                                                url\n",
       "31        32  ...  http://en.wikipedia.org/wiki/Aut%C3%B3dromo_He...\n",
       "\n",
       "[1 rows x 9 columns]"
      ]
     },
     "execution_count": 94,
     "metadata": {},
     "output_type": "execute_result"
    }
   ],
   "source": [
    "circuits[circuits.alt==2227]"
   ]
  },
  {
   "cell_type": "markdown",
   "id": "da766f65",
   "metadata": {
    "heading_collapsed": true,
    "hidden": true
   },
   "source": [
    "#### CONSTRUCTORS RESULTS"
   ]
  },
  {
   "cell_type": "code",
   "execution_count": null,
   "id": "6518b952",
   "metadata": {
    "colab": {
     "base_uri": "https://localhost:8080/"
    },
    "hidden": true,
    "id": "6518b952",
    "outputId": "d9fc86d1-a17a-4dff-f448-4997ad414df6",
    "scrolled": true
   },
   "outputs": [
    {
     "data": {
      "text/html": [
       "<div>\n",
       "<style scoped>\n",
       "    .dataframe tbody tr th:only-of-type {\n",
       "        vertical-align: middle;\n",
       "    }\n",
       "\n",
       "    .dataframe tbody tr th {\n",
       "        vertical-align: top;\n",
       "    }\n",
       "\n",
       "    .dataframe thead th {\n",
       "        text-align: right;\n",
       "    }\n",
       "</style>\n",
       "<table border=\"1\" class=\"dataframe\">\n",
       "  <thead>\n",
       "    <tr style=\"text-align: right;\">\n",
       "      <th></th>\n",
       "      <th>constructorResultsId</th>\n",
       "      <th>raceId</th>\n",
       "      <th>constructorId</th>\n",
       "    </tr>\n",
       "  </thead>\n",
       "  <tbody>\n",
       "    <tr>\n",
       "      <th>count</th>\n",
       "      <td>11820</td>\n",
       "      <td>11820</td>\n",
       "      <td>11820</td>\n",
       "    </tr>\n",
       "    <tr>\n",
       "      <th>unique</th>\n",
       "      <td>11820</td>\n",
       "      <td>981</td>\n",
       "      <td>175</td>\n",
       "    </tr>\n",
       "    <tr>\n",
       "      <th>top</th>\n",
       "      <td>13233</td>\n",
       "      <td>364</td>\n",
       "      <td>6</td>\n",
       "    </tr>\n",
       "    <tr>\n",
       "      <th>freq</th>\n",
       "      <td>1</td>\n",
       "      <td>20</td>\n",
       "      <td>965</td>\n",
       "    </tr>\n",
       "  </tbody>\n",
       "</table>\n",
       "</div>"
      ],
      "text/plain": [
       "       constructorResultsId raceId constructorId\n",
       "count                 11820  11820         11820\n",
       "unique                11820    981           175\n",
       "top                   13233    364             6\n",
       "freq                      1     20           965"
      ]
     },
     "execution_count": 95,
     "metadata": {},
     "output_type": "execute_result"
    }
   ],
   "source": [
    "con_results[con_results.columns.tolist()[:3]].describe()"
   ]
  },
  {
   "cell_type": "code",
   "execution_count": null,
   "id": "5634520b",
   "metadata": {
    "colab": {
     "base_uri": "https://localhost:8080/"
    },
    "hidden": true,
    "id": "5634520b",
    "outputId": "f4d94840-5aff-409f-95c8-74969a52dd2b"
   },
   "outputs": [
    {
     "data": {
      "text/html": [
       "<div>\n",
       "<style scoped>\n",
       "    .dataframe tbody tr th:only-of-type {\n",
       "        vertical-align: middle;\n",
       "    }\n",
       "\n",
       "    .dataframe tbody tr th {\n",
       "        vertical-align: top;\n",
       "    }\n",
       "\n",
       "    .dataframe thead th {\n",
       "        text-align: right;\n",
       "    }\n",
       "</style>\n",
       "<table border=\"1\" class=\"dataframe\">\n",
       "  <thead>\n",
       "    <tr style=\"text-align: right;\">\n",
       "      <th></th>\n",
       "      <th>points</th>\n",
       "    </tr>\n",
       "  </thead>\n",
       "  <tbody>\n",
       "    <tr>\n",
       "      <th>count</th>\n",
       "      <td>11820.000000</td>\n",
       "    </tr>\n",
       "    <tr>\n",
       "      <th>mean</th>\n",
       "      <td>3.592851</td>\n",
       "    </tr>\n",
       "    <tr>\n",
       "      <th>std</th>\n",
       "      <td>7.098910</td>\n",
       "    </tr>\n",
       "    <tr>\n",
       "      <th>min</th>\n",
       "      <td>0.000000</td>\n",
       "    </tr>\n",
       "    <tr>\n",
       "      <th>25%</th>\n",
       "      <td>0.000000</td>\n",
       "    </tr>\n",
       "    <tr>\n",
       "      <th>50%</th>\n",
       "      <td>0.000000</td>\n",
       "    </tr>\n",
       "    <tr>\n",
       "      <th>75%</th>\n",
       "      <td>4.000000</td>\n",
       "    </tr>\n",
       "    <tr>\n",
       "      <th>max</th>\n",
       "      <td>66.000000</td>\n",
       "    </tr>\n",
       "  </tbody>\n",
       "</table>\n",
       "</div>"
      ],
      "text/plain": [
       "             points\n",
       "count  11820.000000\n",
       "mean       3.592851\n",
       "std        7.098910\n",
       "min        0.000000\n",
       "25%        0.000000\n",
       "50%        0.000000\n",
       "75%        4.000000\n",
       "max       66.000000"
      ]
     },
     "execution_count": 96,
     "metadata": {},
     "output_type": "execute_result"
    }
   ],
   "source": [
    "con_results.describe()"
   ]
  },
  {
   "cell_type": "markdown",
   "id": "c4314d38",
   "metadata": {
    "heading_collapsed": true,
    "hidden": true
   },
   "source": [
    "#### CONSTRUCTORS STANDINGS"
   ]
  },
  {
   "cell_type": "code",
   "execution_count": null,
   "id": "f82621d0",
   "metadata": {
    "colab": {
     "base_uri": "https://localhost:8080/"
    },
    "hidden": true,
    "id": "f82621d0",
    "outputId": "ba8db464-ce29-49bc-d282-e9b848cd4a39",
    "scrolled": true
   },
   "outputs": [
    {
     "data": {
      "text/html": [
       "<div>\n",
       "<style scoped>\n",
       "    .dataframe tbody tr th:only-of-type {\n",
       "        vertical-align: middle;\n",
       "    }\n",
       "\n",
       "    .dataframe tbody tr th {\n",
       "        vertical-align: top;\n",
       "    }\n",
       "\n",
       "    .dataframe thead th {\n",
       "        text-align: right;\n",
       "    }\n",
       "</style>\n",
       "<table border=\"1\" class=\"dataframe\">\n",
       "  <thead>\n",
       "    <tr style=\"text-align: right;\">\n",
       "      <th></th>\n",
       "      <th>points</th>\n",
       "      <th>position</th>\n",
       "      <th>wins</th>\n",
       "    </tr>\n",
       "  </thead>\n",
       "  <tbody>\n",
       "    <tr>\n",
       "      <th>count</th>\n",
       "      <td>12586.000000</td>\n",
       "      <td>12586.000000</td>\n",
       "      <td>12586.000000</td>\n",
       "    </tr>\n",
       "    <tr>\n",
       "      <th>mean</th>\n",
       "      <td>30.926744</td>\n",
       "      <td>7.334658</td>\n",
       "      <td>0.661449</td>\n",
       "    </tr>\n",
       "    <tr>\n",
       "      <th>std</th>\n",
       "      <td>70.811185</td>\n",
       "      <td>4.411244</td>\n",
       "      <td>1.769391</td>\n",
       "    </tr>\n",
       "    <tr>\n",
       "      <th>min</th>\n",
       "      <td>0.000000</td>\n",
       "      <td>1.000000</td>\n",
       "      <td>0.000000</td>\n",
       "    </tr>\n",
       "    <tr>\n",
       "      <th>25%</th>\n",
       "      <td>0.000000</td>\n",
       "      <td>4.000000</td>\n",
       "      <td>0.000000</td>\n",
       "    </tr>\n",
       "    <tr>\n",
       "      <th>50%</th>\n",
       "      <td>6.000000</td>\n",
       "      <td>7.000000</td>\n",
       "      <td>0.000000</td>\n",
       "    </tr>\n",
       "    <tr>\n",
       "      <th>75%</th>\n",
       "      <td>29.000000</td>\n",
       "      <td>10.000000</td>\n",
       "      <td>0.000000</td>\n",
       "    </tr>\n",
       "    <tr>\n",
       "      <th>max</th>\n",
       "      <td>765.000000</td>\n",
       "      <td>22.000000</td>\n",
       "      <td>19.000000</td>\n",
       "    </tr>\n",
       "  </tbody>\n",
       "</table>\n",
       "</div>"
      ],
      "text/plain": [
       "             points      position          wins\n",
       "count  12586.000000  12586.000000  12586.000000\n",
       "mean      30.926744      7.334658      0.661449\n",
       "std       70.811185      4.411244      1.769391\n",
       "min        0.000000      1.000000      0.000000\n",
       "25%        0.000000      4.000000      0.000000\n",
       "50%        6.000000      7.000000      0.000000\n",
       "75%       29.000000     10.000000      0.000000\n",
       "max      765.000000     22.000000     19.000000"
      ]
     },
     "execution_count": 97,
     "metadata": {},
     "output_type": "execute_result"
    }
   ],
   "source": [
    "con_standings.describe()"
   ]
  },
  {
   "cell_type": "code",
   "execution_count": null,
   "id": "fc3dffb6",
   "metadata": {
    "colab": {
     "base_uri": "https://localhost:8080/"
    },
    "hidden": true,
    "id": "fc3dffb6",
    "outputId": "cc631cdb-7f95-4933-fe2c-4a2474ba84a0"
   },
   "outputs": [
    {
     "data": {
      "text/html": [
       "<div>\n",
       "<style scoped>\n",
       "    .dataframe tbody tr th:only-of-type {\n",
       "        vertical-align: middle;\n",
       "    }\n",
       "\n",
       "    .dataframe tbody tr th {\n",
       "        vertical-align: top;\n",
       "    }\n",
       "\n",
       "    .dataframe thead th {\n",
       "        text-align: right;\n",
       "    }\n",
       "</style>\n",
       "<table border=\"1\" class=\"dataframe\">\n",
       "  <thead>\n",
       "    <tr style=\"text-align: right;\">\n",
       "      <th></th>\n",
       "      <th>constructorStandingsId</th>\n",
       "      <th>raceId</th>\n",
       "      <th>constructorId</th>\n",
       "      <th>points</th>\n",
       "      <th>position</th>\n",
       "      <th>wins</th>\n",
       "    </tr>\n",
       "  </thead>\n",
       "  <tbody>\n",
       "    <tr>\n",
       "      <th>11686</th>\n",
       "      <td>26722</td>\n",
       "      <td>968</td>\n",
       "      <td>131</td>\n",
       "      <td>765.0</td>\n",
       "      <td>1</td>\n",
       "      <td>19</td>\n",
       "    </tr>\n",
       "  </tbody>\n",
       "</table>\n",
       "</div>"
      ],
      "text/plain": [
       "      constructorStandingsId raceId constructorId  points  position  wins\n",
       "11686                  26722    968           131   765.0         1    19"
      ]
     },
     "execution_count": 98,
     "metadata": {},
     "output_type": "execute_result"
    }
   ],
   "source": [
    "con_standings[con_standings.points==765]"
   ]
  },
  {
   "cell_type": "code",
   "execution_count": null,
   "id": "498d032f",
   "metadata": {
    "colab": {
     "base_uri": "https://localhost:8080/"
    },
    "hidden": true,
    "id": "498d032f",
    "outputId": "c4f424ca-cb4f-448a-c90b-03b3b7955deb"
   },
   "outputs": [
    {
     "data": {
      "text/html": [
       "<div>\n",
       "<style scoped>\n",
       "    .dataframe tbody tr th:only-of-type {\n",
       "        vertical-align: middle;\n",
       "    }\n",
       "\n",
       "    .dataframe tbody tr th {\n",
       "        vertical-align: top;\n",
       "    }\n",
       "\n",
       "    .dataframe thead th {\n",
       "        text-align: right;\n",
       "    }\n",
       "</style>\n",
       "<table border=\"1\" class=\"dataframe\">\n",
       "  <thead>\n",
       "    <tr style=\"text-align: right;\">\n",
       "      <th></th>\n",
       "      <th>constructorStandingsId</th>\n",
       "      <th>raceId</th>\n",
       "      <th>constructorId</th>\n",
       "    </tr>\n",
       "  </thead>\n",
       "  <tbody>\n",
       "    <tr>\n",
       "      <th>count</th>\n",
       "      <td>12586</td>\n",
       "      <td>12586</td>\n",
       "      <td>12586</td>\n",
       "    </tr>\n",
       "    <tr>\n",
       "      <th>unique</th>\n",
       "      <td>12586</td>\n",
       "      <td>981</td>\n",
       "      <td>159</td>\n",
       "    </tr>\n",
       "    <tr>\n",
       "      <th>top</th>\n",
       "      <td>26291</td>\n",
       "      <td>728</td>\n",
       "      <td>6</td>\n",
       "    </tr>\n",
       "    <tr>\n",
       "      <th>freq</th>\n",
       "      <td>1</td>\n",
       "      <td>22</td>\n",
       "      <td>978</td>\n",
       "    </tr>\n",
       "  </tbody>\n",
       "</table>\n",
       "</div>"
      ],
      "text/plain": [
       "       constructorStandingsId raceId constructorId\n",
       "count                   12586  12586         12586\n",
       "unique                  12586    981           159\n",
       "top                     26291    728             6\n",
       "freq                        1     22           978"
      ]
     },
     "execution_count": 99,
     "metadata": {},
     "output_type": "execute_result"
    }
   ],
   "source": [
    "con_standings[con_standings.columns.tolist()[:3]].describe()"
   ]
  },
  {
   "cell_type": "markdown",
   "id": "816fe207",
   "metadata": {
    "heading_collapsed": true,
    "hidden": true
   },
   "source": [
    "#### DRIVER STANDINGS"
   ]
  },
  {
   "cell_type": "code",
   "execution_count": null,
   "id": "-ebv8R6JWx0u",
   "metadata": {
    "colab": {
     "base_uri": "https://localhost:8080/"
    },
    "hidden": true,
    "id": "-ebv8R6JWx0u",
    "outputId": "b1496e61-398d-43fd-bd49-501d5d31326d"
   },
   "outputs": [
    {
     "data": {
      "text/html": [
       "<div>\n",
       "<style scoped>\n",
       "    .dataframe tbody tr th:only-of-type {\n",
       "        vertical-align: middle;\n",
       "    }\n",
       "\n",
       "    .dataframe tbody tr th {\n",
       "        vertical-align: top;\n",
       "    }\n",
       "\n",
       "    .dataframe thead th {\n",
       "        text-align: right;\n",
       "    }\n",
       "</style>\n",
       "<table border=\"1\" class=\"dataframe\">\n",
       "  <thead>\n",
       "    <tr style=\"text-align: right;\">\n",
       "      <th></th>\n",
       "      <th>points</th>\n",
       "      <th>position</th>\n",
       "      <th>wins</th>\n",
       "    </tr>\n",
       "  </thead>\n",
       "  <tbody>\n",
       "    <tr>\n",
       "      <th>count</th>\n",
       "      <td>32449.000000</td>\n",
       "      <td>32449.000000</td>\n",
       "      <td>32449.000000</td>\n",
       "    </tr>\n",
       "    <tr>\n",
       "      <th>mean</th>\n",
       "      <td>9.897845</td>\n",
       "      <td>20.543376</td>\n",
       "      <td>0.149157</td>\n",
       "    </tr>\n",
       "    <tr>\n",
       "      <th>std</th>\n",
       "      <td>25.250805</td>\n",
       "      <td>16.481358</td>\n",
       "      <td>0.502216</td>\n",
       "    </tr>\n",
       "    <tr>\n",
       "      <th>min</th>\n",
       "      <td>0.000000</td>\n",
       "      <td>1.000000</td>\n",
       "      <td>0.000000</td>\n",
       "    </tr>\n",
       "    <tr>\n",
       "      <th>25%</th>\n",
       "      <td>0.000000</td>\n",
       "      <td>9.000000</td>\n",
       "      <td>0.000000</td>\n",
       "    </tr>\n",
       "    <tr>\n",
       "      <th>50%</th>\n",
       "      <td>0.000000</td>\n",
       "      <td>17.000000</td>\n",
       "      <td>0.000000</td>\n",
       "    </tr>\n",
       "    <tr>\n",
       "      <th>75%</th>\n",
       "      <td>8.000000</td>\n",
       "      <td>27.000000</td>\n",
       "      <td>0.000000</td>\n",
       "    </tr>\n",
       "    <tr>\n",
       "      <th>max</th>\n",
       "      <td>305.000000</td>\n",
       "      <td>108.000000</td>\n",
       "      <td>3.000000</td>\n",
       "    </tr>\n",
       "  </tbody>\n",
       "</table>\n",
       "</div>"
      ],
      "text/plain": [
       "             points      position          wins\n",
       "count  32449.000000  32449.000000  32449.000000\n",
       "mean       9.897845     20.543376      0.149157\n",
       "std       25.250805     16.481358      0.502216\n",
       "min        0.000000      1.000000      0.000000\n",
       "25%        0.000000      9.000000      0.000000\n",
       "50%        0.000000     17.000000      0.000000\n",
       "75%        8.000000     27.000000      0.000000\n",
       "max      305.000000    108.000000      3.000000"
      ]
     },
     "execution_count": 100,
     "metadata": {},
     "output_type": "execute_result"
    }
   ],
   "source": [
    "# A summary stats description of drivers standings\n",
    "driver_standings_df.describe()"
   ]
  },
  {
   "cell_type": "markdown",
   "id": "4ab66d9d",
   "metadata": {
    "heading_collapsed": true,
    "hidden": true
   },
   "source": [
    "#### DRIVERS"
   ]
  },
  {
   "cell_type": "code",
   "execution_count": null,
   "id": "7hzF1PVpWx3I",
   "metadata": {
    "colab": {
     "base_uri": "https://localhost:8080/"
    },
    "hidden": true,
    "id": "7hzF1PVpWx3I",
    "outputId": "02a44533-8d1c-40d4-e126-1102bc5c74e0"
   },
   "outputs": [
    {
     "data": {
      "text/html": [
       "<div>\n",
       "<style scoped>\n",
       "    .dataframe tbody tr th:only-of-type {\n",
       "        vertical-align: middle;\n",
       "    }\n",
       "\n",
       "    .dataframe tbody tr th {\n",
       "        vertical-align: top;\n",
       "    }\n",
       "\n",
       "    .dataframe thead th {\n",
       "        text-align: right;\n",
       "    }\n",
       "</style>\n",
       "<table border=\"1\" class=\"dataframe\">\n",
       "  <thead>\n",
       "    <tr style=\"text-align: right;\">\n",
       "      <th></th>\n",
       "      <th>driverId</th>\n",
       "      <th>Age</th>\n",
       "    </tr>\n",
       "  </thead>\n",
       "  <tbody>\n",
       "    <tr>\n",
       "      <th>count</th>\n",
       "      <td>853.000000</td>\n",
       "      <td>853.000000</td>\n",
       "    </tr>\n",
       "    <tr>\n",
       "      <th>mean</th>\n",
       "      <td>427.052755</td>\n",
       "      <td>80.223916</td>\n",
       "    </tr>\n",
       "    <tr>\n",
       "      <th>std</th>\n",
       "      <td>246.470876</td>\n",
       "      <td>23.408353</td>\n",
       "    </tr>\n",
       "    <tr>\n",
       "      <th>min</th>\n",
       "      <td>1.000000</td>\n",
       "      <td>21.000000</td>\n",
       "    </tr>\n",
       "    <tr>\n",
       "      <th>25%</th>\n",
       "      <td>214.000000</td>\n",
       "      <td>64.000000</td>\n",
       "    </tr>\n",
       "    <tr>\n",
       "      <th>50%</th>\n",
       "      <td>427.000000</td>\n",
       "      <td>84.000000</td>\n",
       "    </tr>\n",
       "    <tr>\n",
       "      <th>75%</th>\n",
       "      <td>640.000000</td>\n",
       "      <td>98.000000</td>\n",
       "    </tr>\n",
       "    <tr>\n",
       "      <th>max</th>\n",
       "      <td>854.000000</td>\n",
       "      <td>124.000000</td>\n",
       "    </tr>\n",
       "  </tbody>\n",
       "</table>\n",
       "</div>"
      ],
      "text/plain": [
       "         driverId         Age\n",
       "count  853.000000  853.000000\n",
       "mean   427.052755   80.223916\n",
       "std    246.470876   23.408353\n",
       "min      1.000000   21.000000\n",
       "25%    214.000000   64.000000\n",
       "50%    427.000000   84.000000\n",
       "75%    640.000000   98.000000\n",
       "max    854.000000  124.000000"
      ]
     },
     "execution_count": 101,
     "metadata": {},
     "output_type": "execute_result"
    }
   ],
   "source": [
    "# A summary stats description of drivers \n",
    "drivers_df.describe()"
   ]
  },
  {
   "cell_type": "markdown",
   "id": "ed1ad401",
   "metadata": {
    "heading_collapsed": true,
    "hidden": true
   },
   "source": [
    "#### LAP TIMES"
   ]
  },
  {
   "cell_type": "code",
   "execution_count": null,
   "id": "jZPH4CEkWx5Y",
   "metadata": {
    "colab": {
     "base_uri": "https://localhost:8080/"
    },
    "hidden": true,
    "id": "jZPH4CEkWx5Y",
    "outputId": "cffce58c-a194-48f0-ff5c-8caa51710480"
   },
   "outputs": [
    {
     "data": {
      "text/html": [
       "<div>\n",
       "<style scoped>\n",
       "    .dataframe tbody tr th:only-of-type {\n",
       "        vertical-align: middle;\n",
       "    }\n",
       "\n",
       "    .dataframe tbody tr th {\n",
       "        vertical-align: top;\n",
       "    }\n",
       "\n",
       "    .dataframe thead th {\n",
       "        text-align: right;\n",
       "    }\n",
       "</style>\n",
       "<table border=\"1\" class=\"dataframe\">\n",
       "  <thead>\n",
       "    <tr style=\"text-align: right;\">\n",
       "      <th></th>\n",
       "      <th>lap</th>\n",
       "      <th>position</th>\n",
       "      <th>milliseconds</th>\n",
       "    </tr>\n",
       "  </thead>\n",
       "  <tbody>\n",
       "    <tr>\n",
       "      <th>count</th>\n",
       "      <td>501586.000000</td>\n",
       "      <td>501586.000000</td>\n",
       "      <td>5.015860e+05</td>\n",
       "    </tr>\n",
       "    <tr>\n",
       "      <th>mean</th>\n",
       "      <td>29.959359</td>\n",
       "      <td>9.650016</td>\n",
       "      <td>9.549484e+04</td>\n",
       "    </tr>\n",
       "    <tr>\n",
       "      <th>std</th>\n",
       "      <td>18.429517</td>\n",
       "      <td>5.550348</td>\n",
       "      <td>7.253628e+04</td>\n",
       "    </tr>\n",
       "    <tr>\n",
       "      <th>min</th>\n",
       "      <td>1.000000</td>\n",
       "      <td>1.000000</td>\n",
       "      <td>5.540400e+04</td>\n",
       "    </tr>\n",
       "    <tr>\n",
       "      <th>25%</th>\n",
       "      <td>14.000000</td>\n",
       "      <td>5.000000</td>\n",
       "      <td>8.204500e+04</td>\n",
       "    </tr>\n",
       "    <tr>\n",
       "      <th>50%</th>\n",
       "      <td>29.000000</td>\n",
       "      <td>9.000000</td>\n",
       "      <td>9.067700e+04</td>\n",
       "    </tr>\n",
       "    <tr>\n",
       "      <th>75%</th>\n",
       "      <td>44.000000</td>\n",
       "      <td>14.000000</td>\n",
       "      <td>1.024670e+05</td>\n",
       "    </tr>\n",
       "    <tr>\n",
       "      <th>max</th>\n",
       "      <td>87.000000</td>\n",
       "      <td>24.000000</td>\n",
       "      <td>7.507547e+06</td>\n",
       "    </tr>\n",
       "  </tbody>\n",
       "</table>\n",
       "</div>"
      ],
      "text/plain": [
       "                 lap       position  milliseconds\n",
       "count  501586.000000  501586.000000  5.015860e+05\n",
       "mean       29.959359       9.650016  9.549484e+04\n",
       "std        18.429517       5.550348  7.253628e+04\n",
       "min         1.000000       1.000000  5.540400e+04\n",
       "25%        14.000000       5.000000  8.204500e+04\n",
       "50%        29.000000       9.000000  9.067700e+04\n",
       "75%        44.000000      14.000000  1.024670e+05\n",
       "max        87.000000      24.000000  7.507547e+06"
      ]
     },
     "execution_count": 102,
     "metadata": {},
     "output_type": "execute_result"
    }
   ],
   "source": [
    "# A summary stats description of lap times \n",
    "lap_times_df.describe()"
   ]
  },
  {
   "cell_type": "code",
   "execution_count": null,
   "id": "xm_x74gZWx7y",
   "metadata": {
    "colab": {
     "base_uri": "https://localhost:8080/"
    },
    "hidden": true,
    "id": "xm_x74gZWx7y",
    "outputId": "2a2a638b-c3ac-41ca-8226-62f2fb0f2aba"
   },
   "outputs": [
    {
     "data": {
      "text/html": [
       "<div>\n",
       "<style scoped>\n",
       "    .dataframe tbody tr th:only-of-type {\n",
       "        vertical-align: middle;\n",
       "    }\n",
       "\n",
       "    .dataframe tbody tr th {\n",
       "        vertical-align: top;\n",
       "    }\n",
       "\n",
       "    .dataframe thead th {\n",
       "        text-align: right;\n",
       "    }\n",
       "</style>\n",
       "<table border=\"1\" class=\"dataframe\">\n",
       "  <thead>\n",
       "    <tr style=\"text-align: right;\">\n",
       "      <th></th>\n",
       "      <th>raceId</th>\n",
       "      <th>driverId</th>\n",
       "      <th>lap</th>\n",
       "      <th>position</th>\n",
       "      <th>time</th>\n",
       "      <th>milliseconds</th>\n",
       "    </tr>\n",
       "  </thead>\n",
       "  <tbody>\n",
       "    <tr>\n",
       "      <th>488409</th>\n",
       "      <td>1046</td>\n",
       "      <td>847</td>\n",
       "      <td>80</td>\n",
       "      <td>14</td>\n",
       "      <td>0:55.404</td>\n",
       "      <td>55404</td>\n",
       "    </tr>\n",
       "  </tbody>\n",
       "</table>\n",
       "</div>"
      ],
      "text/plain": [
       "       raceId driverId  lap  position      time  milliseconds\n",
       "488409   1046      847   80        14  0:55.404         55404"
      ]
     },
     "execution_count": 103,
     "metadata": {},
     "output_type": "execute_result"
    }
   ],
   "source": [
    "# The race and driver id having lowest lap time\n",
    "lap_times_df[lap_times_df.milliseconds==5.540400e+04]"
   ]
  },
  {
   "cell_type": "code",
   "execution_count": null,
   "id": "-b8zUmyfWx92",
   "metadata": {
    "colab": {
     "base_uri": "https://localhost:8080/"
    },
    "hidden": true,
    "id": "-b8zUmyfWx92",
    "outputId": "a57a6d55-2d94-4a19-a686-e18a88c64c5e"
   },
   "outputs": [
    {
     "data": {
      "text/html": [
       "<div>\n",
       "<style scoped>\n",
       "    .dataframe tbody tr th:only-of-type {\n",
       "        vertical-align: middle;\n",
       "    }\n",
       "\n",
       "    .dataframe tbody tr th {\n",
       "        vertical-align: top;\n",
       "    }\n",
       "\n",
       "    .dataframe thead th {\n",
       "        text-align: right;\n",
       "    }\n",
       "</style>\n",
       "<table border=\"1\" class=\"dataframe\">\n",
       "  <thead>\n",
       "    <tr style=\"text-align: right;\">\n",
       "      <th></th>\n",
       "      <th>stop</th>\n",
       "      <th>lap</th>\n",
       "      <th>milliseconds</th>\n",
       "    </tr>\n",
       "  </thead>\n",
       "  <tbody>\n",
       "    <tr>\n",
       "      <th>count</th>\n",
       "      <td>7764.000000</td>\n",
       "      <td>7764.000000</td>\n",
       "      <td>7764.000000</td>\n",
       "    </tr>\n",
       "    <tr>\n",
       "      <th>mean</th>\n",
       "      <td>1.754122</td>\n",
       "      <td>25.602396</td>\n",
       "      <td>23707.390649</td>\n",
       "    </tr>\n",
       "    <tr>\n",
       "      <th>std</th>\n",
       "      <td>0.905820</td>\n",
       "      <td>14.210865</td>\n",
       "      <td>3214.071303</td>\n",
       "    </tr>\n",
       "    <tr>\n",
       "      <th>min</th>\n",
       "      <td>1.000000</td>\n",
       "      <td>1.000000</td>\n",
       "      <td>12897.000000</td>\n",
       "    </tr>\n",
       "    <tr>\n",
       "      <th>25%</th>\n",
       "      <td>1.000000</td>\n",
       "      <td>14.000000</td>\n",
       "      <td>21774.500000</td>\n",
       "    </tr>\n",
       "    <tr>\n",
       "      <th>50%</th>\n",
       "      <td>2.000000</td>\n",
       "      <td>25.000000</td>\n",
       "      <td>23213.000000</td>\n",
       "    </tr>\n",
       "    <tr>\n",
       "      <th>75%</th>\n",
       "      <td>2.000000</td>\n",
       "      <td>36.000000</td>\n",
       "      <td>25100.500000</td>\n",
       "    </tr>\n",
       "    <tr>\n",
       "      <th>max</th>\n",
       "      <td>6.000000</td>\n",
       "      <td>78.000000</td>\n",
       "      <td>31958.000000</td>\n",
       "    </tr>\n",
       "  </tbody>\n",
       "</table>\n",
       "</div>"
      ],
      "text/plain": [
       "              stop          lap  milliseconds\n",
       "count  7764.000000  7764.000000   7764.000000\n",
       "mean      1.754122    25.602396  23707.390649\n",
       "std       0.905820    14.210865   3214.071303\n",
       "min       1.000000     1.000000  12897.000000\n",
       "25%       1.000000    14.000000  21774.500000\n",
       "50%       2.000000    25.000000  23213.000000\n",
       "75%       2.000000    36.000000  25100.500000\n",
       "max       6.000000    78.000000  31958.000000"
      ]
     },
     "execution_count": 104,
     "metadata": {},
     "output_type": "execute_result"
    }
   ],
   "source": [
    " pit_stops_df.describe()"
   ]
  },
  {
   "cell_type": "code",
   "execution_count": null,
   "id": "Xr5K6ukTWyAB",
   "metadata": {
    "colab": {
     "base_uri": "https://localhost:8080/"
    },
    "hidden": true,
    "id": "Xr5K6ukTWyAB",
    "outputId": "ff2083a6-9566-4d43-9934-fc575547e711"
   },
   "outputs": [
    {
     "data": {
      "text/html": [
       "<div>\n",
       "<style scoped>\n",
       "    .dataframe tbody tr th:only-of-type {\n",
       "        vertical-align: middle;\n",
       "    }\n",
       "\n",
       "    .dataframe tbody tr th {\n",
       "        vertical-align: top;\n",
       "    }\n",
       "\n",
       "    .dataframe thead th {\n",
       "        text-align: right;\n",
       "    }\n",
       "</style>\n",
       "<table border=\"1\" class=\"dataframe\">\n",
       "  <thead>\n",
       "    <tr style=\"text-align: right;\">\n",
       "      <th></th>\n",
       "      <th>raceId</th>\n",
       "      <th>driverId</th>\n",
       "      <th>stop</th>\n",
       "      <th>lap</th>\n",
       "      <th>time</th>\n",
       "      <th>duration</th>\n",
       "      <th>milliseconds</th>\n",
       "    </tr>\n",
       "  </thead>\n",
       "  <tbody>\n",
       "    <tr>\n",
       "      <th>1037</th>\n",
       "      <td>858</td>\n",
       "      <td>813</td>\n",
       "      <td>2</td>\n",
       "      <td>30</td>\n",
       "      <td>17:58:49</td>\n",
       "      <td>12.897</td>\n",
       "      <td>12897</td>\n",
       "    </tr>\n",
       "  </tbody>\n",
       "</table>\n",
       "</div>"
      ],
      "text/plain": [
       "     raceId driverId  stop  lap      time duration  milliseconds\n",
       "1037    858      813     2   30  17:58:49   12.897         12897"
      ]
     },
     "execution_count": 105,
     "metadata": {},
     "output_type": "execute_result"
    }
   ],
   "source": [
    "# The race and driver id having lowest pit lane time\n",
    "pit_stops_df[pit_stops_df.milliseconds==12897.000000]"
   ]
  },
  {
   "cell_type": "markdown",
   "id": "8WjF7--xi7nF",
   "metadata": {
    "heading_collapsed": true,
    "hidden": true,
    "id": "8WjF7--xi7nF"
   },
   "source": [
    "#### QUALIFICATION"
   ]
  },
  {
   "cell_type": "code",
   "execution_count": null,
   "id": "e1L5lReYWyS1",
   "metadata": {
    "colab": {
     "base_uri": "https://localhost:8080/"
    },
    "hidden": true,
    "id": "e1L5lReYWyS1",
    "outputId": "89494067-5895-4efc-a6fc-f8d877ed396e"
   },
   "outputs": [
    {
     "data": {
      "text/html": [
       "<div>\n",
       "<style scoped>\n",
       "    .dataframe tbody tr th:only-of-type {\n",
       "        vertical-align: middle;\n",
       "    }\n",
       "\n",
       "    .dataframe tbody tr th {\n",
       "        vertical-align: top;\n",
       "    }\n",
       "\n",
       "    .dataframe thead th {\n",
       "        text-align: right;\n",
       "    }\n",
       "</style>\n",
       "<table border=\"1\" class=\"dataframe\">\n",
       "  <thead>\n",
       "    <tr style=\"text-align: right;\">\n",
       "      <th></th>\n",
       "      <th>qualifyId</th>\n",
       "      <th>raceId</th>\n",
       "      <th>driverId</th>\n",
       "      <th>constructorId</th>\n",
       "      <th>number</th>\n",
       "      <th>position</th>\n",
       "      <th>q1</th>\n",
       "      <th>q2</th>\n",
       "      <th>q3</th>\n",
       "      <th>q1_time</th>\n",
       "      <th>q2_time</th>\n",
       "      <th>q3_time</th>\n",
       "    </tr>\n",
       "  </thead>\n",
       "  <tbody>\n",
       "    <tr>\n",
       "      <th>0</th>\n",
       "      <td>1</td>\n",
       "      <td>18</td>\n",
       "      <td>1</td>\n",
       "      <td>1</td>\n",
       "      <td>22</td>\n",
       "      <td>1</td>\n",
       "      <td>1:26.572</td>\n",
       "      <td>1:25.187</td>\n",
       "      <td>1:26.714</td>\n",
       "      <td>86572</td>\n",
       "      <td>85187</td>\n",
       "      <td>86714</td>\n",
       "    </tr>\n",
       "    <tr>\n",
       "      <th>1</th>\n",
       "      <td>2</td>\n",
       "      <td>18</td>\n",
       "      <td>9</td>\n",
       "      <td>2</td>\n",
       "      <td>4</td>\n",
       "      <td>2</td>\n",
       "      <td>1:26.103</td>\n",
       "      <td>1:25.315</td>\n",
       "      <td>1:26.869</td>\n",
       "      <td>86103</td>\n",
       "      <td>85315</td>\n",
       "      <td>86869</td>\n",
       "    </tr>\n",
       "    <tr>\n",
       "      <th>2</th>\n",
       "      <td>3</td>\n",
       "      <td>18</td>\n",
       "      <td>5</td>\n",
       "      <td>1</td>\n",
       "      <td>23</td>\n",
       "      <td>3</td>\n",
       "      <td>1:25.664</td>\n",
       "      <td>1:25.452</td>\n",
       "      <td>1:27.079</td>\n",
       "      <td>85664</td>\n",
       "      <td>85452</td>\n",
       "      <td>87079</td>\n",
       "    </tr>\n",
       "    <tr>\n",
       "      <th>3</th>\n",
       "      <td>4</td>\n",
       "      <td>18</td>\n",
       "      <td>13</td>\n",
       "      <td>6</td>\n",
       "      <td>2</td>\n",
       "      <td>4</td>\n",
       "      <td>1:25.994</td>\n",
       "      <td>1:25.691</td>\n",
       "      <td>1:27.178</td>\n",
       "      <td>85994</td>\n",
       "      <td>85691</td>\n",
       "      <td>87178</td>\n",
       "    </tr>\n",
       "    <tr>\n",
       "      <th>4</th>\n",
       "      <td>5</td>\n",
       "      <td>18</td>\n",
       "      <td>2</td>\n",
       "      <td>2</td>\n",
       "      <td>3</td>\n",
       "      <td>5</td>\n",
       "      <td>1:25.960</td>\n",
       "      <td>1:25.518</td>\n",
       "      <td>1:27.236</td>\n",
       "      <td>85960</td>\n",
       "      <td>85518</td>\n",
       "      <td>87236</td>\n",
       "    </tr>\n",
       "  </tbody>\n",
       "</table>\n",
       "</div>"
      ],
      "text/plain": [
       "   qualifyId  raceId  driverId  ...  q1_time  q2_time  q3_time\n",
       "0          1      18         1  ...    86572    85187    86714\n",
       "1          2      18         9  ...    86103    85315    86869\n",
       "2          3      18         5  ...    85664    85452    87079\n",
       "3          4      18        13  ...    85994    85691    87178\n",
       "4          5      18         2  ...    85960    85518    87236\n",
       "\n",
       "[5 rows x 12 columns]"
      ]
     },
     "execution_count": 106,
     "metadata": {},
     "output_type": "execute_result"
    }
   ],
   "source": [
    "quali_stats = pd.read_csv('clean_quali.csv')\n",
    "quali_stats.head()"
   ]
  },
  {
   "cell_type": "code",
   "execution_count": null,
   "id": "vQjWrCxzjHp6",
   "metadata": {
    "colab": {
     "base_uri": "https://localhost:8080/"
    },
    "hidden": true,
    "id": "vQjWrCxzjHp6",
    "outputId": "c7f90292-bca0-4efc-e91c-fbb18a9fba5a"
   },
   "outputs": [
    {
     "data": {
      "text/plain": [
       "qualifyId        2814\n",
       "raceId           2814\n",
       "driverId         2814\n",
       "constructorId    2814\n",
       "number           2814\n",
       "position         2814\n",
       "q1               2814\n",
       "q2               2814\n",
       "q3               2814\n",
       "q1_time          2814\n",
       "q2_time          2814\n",
       "q3_time          2814\n",
       "dtype: int64"
      ]
     },
     "execution_count": 107,
     "metadata": {},
     "output_type": "execute_result"
    }
   ],
   "source": [
    "quali.count()"
   ]
  },
  {
   "cell_type": "code",
   "execution_count": null,
   "id": "720SLhrRjJ4v",
   "metadata": {
    "colab": {
     "base_uri": "https://localhost:8080/"
    },
    "hidden": true,
    "id": "720SLhrRjJ4v",
    "outputId": "3039aa26-b5dc-4b4e-8a86-0444130bc1a4"
   },
   "outputs": [
    {
     "data": {
      "text/html": [
       "<div>\n",
       "<style scoped>\n",
       "    .dataframe tbody tr th:only-of-type {\n",
       "        vertical-align: middle;\n",
       "    }\n",
       "\n",
       "    .dataframe tbody tr th {\n",
       "        vertical-align: top;\n",
       "    }\n",
       "\n",
       "    .dataframe thead th {\n",
       "        text-align: right;\n",
       "    }\n",
       "</style>\n",
       "<table border=\"1\" class=\"dataframe\">\n",
       "  <thead>\n",
       "    <tr style=\"text-align: right;\">\n",
       "      <th></th>\n",
       "      <th>qualifyId</th>\n",
       "      <th>raceId</th>\n",
       "      <th>driverId</th>\n",
       "      <th>constructorId</th>\n",
       "      <th>number</th>\n",
       "      <th>position</th>\n",
       "      <th>q1_time</th>\n",
       "      <th>q2_time</th>\n",
       "      <th>q3_time</th>\n",
       "    </tr>\n",
       "  </thead>\n",
       "  <tbody>\n",
       "    <tr>\n",
       "      <th>count</th>\n",
       "      <td>2814.000000</td>\n",
       "      <td>2814.000000</td>\n",
       "      <td>2814.000000</td>\n",
       "      <td>2814.000000</td>\n",
       "      <td>2814.000000</td>\n",
       "      <td>2814.000000</td>\n",
       "      <td>2814.000000</td>\n",
       "      <td>2814.000000</td>\n",
       "      <td>2814.000000</td>\n",
       "    </tr>\n",
       "    <tr>\n",
       "      <th>mean</th>\n",
       "      <td>5222.112296</td>\n",
       "      <td>686.717484</td>\n",
       "      <td>291.998223</td>\n",
       "      <td>36.905828</td>\n",
       "      <td>16.714641</td>\n",
       "      <td>5.364250</td>\n",
       "      <td>88126.130419</td>\n",
       "      <td>87493.068941</td>\n",
       "      <td>87789.524876</td>\n",
       "    </tr>\n",
       "    <tr>\n",
       "      <th>std</th>\n",
       "      <td>2704.667155</td>\n",
       "      <td>403.371091</td>\n",
       "      <td>383.510377</td>\n",
       "      <td>62.857640</td>\n",
       "      <td>18.703040</td>\n",
       "      <td>2.826519</td>\n",
       "      <td>11810.677951</td>\n",
       "      <td>11625.372517</td>\n",
       "      <td>12025.350204</td>\n",
       "    </tr>\n",
       "    <tr>\n",
       "      <th>min</th>\n",
       "      <td>1.000000</td>\n",
       "      <td>1.000000</td>\n",
       "      <td>1.000000</td>\n",
       "      <td>1.000000</td>\n",
       "      <td>1.000000</td>\n",
       "      <td>1.000000</td>\n",
       "      <td>53904.000000</td>\n",
       "      <td>53647.000000</td>\n",
       "      <td>53377.000000</td>\n",
       "    </tr>\n",
       "    <tr>\n",
       "      <th>25%</th>\n",
       "      <td>3355.250000</td>\n",
       "      <td>338.000000</td>\n",
       "      <td>8.000000</td>\n",
       "      <td>4.000000</td>\n",
       "      <td>5.000000</td>\n",
       "      <td>3.000000</td>\n",
       "      <td>78061.250000</td>\n",
       "      <td>77656.250000</td>\n",
       "      <td>77584.000000</td>\n",
       "    </tr>\n",
       "    <tr>\n",
       "      <th>50%</th>\n",
       "      <td>5867.500000</td>\n",
       "      <td>899.000000</td>\n",
       "      <td>20.000000</td>\n",
       "      <td>6.000000</td>\n",
       "      <td>10.000000</td>\n",
       "      <td>5.000000</td>\n",
       "      <td>87470.500000</td>\n",
       "      <td>87087.500000</td>\n",
       "      <td>87431.000000</td>\n",
       "    </tr>\n",
       "    <tr>\n",
       "      <th>75%</th>\n",
       "      <td>7439.750000</td>\n",
       "      <td>983.750000</td>\n",
       "      <td>817.000000</td>\n",
       "      <td>10.000000</td>\n",
       "      <td>22.000000</td>\n",
       "      <td>8.000000</td>\n",
       "      <td>96785.500000</td>\n",
       "      <td>96257.250000</td>\n",
       "      <td>96402.000000</td>\n",
       "    </tr>\n",
       "    <tr>\n",
       "      <th>max</th>\n",
       "      <td>8903.000000</td>\n",
       "      <td>1060.000000</td>\n",
       "      <td>852.000000</td>\n",
       "      <td>214.000000</td>\n",
       "      <td>99.000000</td>\n",
       "      <td>16.000000</td>\n",
       "      <td>123029.000000</td>\n",
       "      <td>123317.000000</td>\n",
       "      <td>124059.000000</td>\n",
       "    </tr>\n",
       "  </tbody>\n",
       "</table>\n",
       "</div>"
      ],
      "text/plain": [
       "         qualifyId       raceId  ...        q2_time        q3_time\n",
       "count  2814.000000  2814.000000  ...    2814.000000    2814.000000\n",
       "mean   5222.112296   686.717484  ...   87493.068941   87789.524876\n",
       "std    2704.667155   403.371091  ...   11625.372517   12025.350204\n",
       "min       1.000000     1.000000  ...   53647.000000   53377.000000\n",
       "25%    3355.250000   338.000000  ...   77656.250000   77584.000000\n",
       "50%    5867.500000   899.000000  ...   87087.500000   87431.000000\n",
       "75%    7439.750000   983.750000  ...   96257.250000   96402.000000\n",
       "max    8903.000000  1060.000000  ...  123317.000000  124059.000000\n",
       "\n",
       "[8 rows x 9 columns]"
      ]
     },
     "execution_count": 108,
     "metadata": {},
     "output_type": "execute_result"
    }
   ],
   "source": [
    "quali.describe()"
   ]
  },
  {
   "cell_type": "code",
   "execution_count": null,
   "id": "n3kMGbmLjNkH",
   "metadata": {
    "colab": {
     "base_uri": "https://localhost:8080/"
    },
    "hidden": true,
    "id": "n3kMGbmLjNkH",
    "outputId": "2d12f1cf-1820-4b53-c3ba-45d34e101f43"
   },
   "outputs": [
    {
     "data": {
      "text/plain": [
       "<matplotlib.axes._subplots.AxesSubplot at 0x7fd0b0974110>"
      ]
     },
     "execution_count": 109,
     "metadata": {},
     "output_type": "execute_result"
    },
    {
     "data": {
      "image/png": "[encoded data removed]",
      "text/plain": [
       "<Figure size 432x288 with 1 Axes>"
      ]
     },
     "metadata": {
      "needs_background": "light"
     },
     "output_type": "display_data"
    }
   ],
   "source": [
    "quali_stats.boxplot('q1_time')"
   ]
  },
  {
   "cell_type": "code",
   "execution_count": null,
   "id": "RdVyNb02jRTl",
   "metadata": {
    "colab": {
     "base_uri": "https://localhost:8080/"
    },
    "hidden": true,
    "id": "RdVyNb02jRTl",
    "outputId": "c4e36b50-2deb-4458-be30-90300393a7b7"
   },
   "outputs": [
    {
     "data": {
      "text/plain": [
       "<matplotlib.axes._subplots.AxesSubplot at 0x7fd0b0938390>"
      ]
     },
     "execution_count": 110,
     "metadata": {},
     "output_type": "execute_result"
    },
    {
     "data": {
      "image/png": "[encoded data removed]",
      "text/plain": [
       "<Figure size 432x288 with 1 Axes>"
      ]
     },
     "metadata": {
      "needs_background": "light"
     },
     "output_type": "display_data"
    }
   ],
   "source": [
    "quali_stats.boxplot('q2_time')"
   ]
  },
  {
   "cell_type": "code",
   "execution_count": null,
   "id": "PRMRqay0jRLf",
   "metadata": {
    "colab": {
     "base_uri": "https://localhost:8080/"
    },
    "hidden": true,
    "id": "PRMRqay0jRLf",
    "outputId": "ed4e4d9b-19e2-4df3-ef2e-fd32b257a8fd"
   },
   "outputs": [
    {
     "data": {
      "text/plain": [
       "<matplotlib.axes._subplots.AxesSubplot at 0x7fd0b7e25ed0>"
      ]
     },
     "execution_count": 111,
     "metadata": {},
     "output_type": "execute_result"
    },
    {
     "data": {
      "image/png": "[encoded data removed]",
      "text/plain": [
       "<Figure size 432x288 with 1 Axes>"
      ]
     },
     "metadata": {
      "needs_background": "light"
     },
     "output_type": "display_data"
    }
   ],
   "source": [
    "quali_stats.boxplot('q3_time')"
   ]
  },
  {
   "cell_type": "markdown",
   "id": "Mxmm3k79jWRv",
   "metadata": {
    "heading_collapsed": true,
    "hidden": true,
    "id": "Mxmm3k79jWRv"
   },
   "source": [
    "#### RESULTS"
   ]
  },
  {
   "cell_type": "code",
   "execution_count": null,
   "id": "lf-NHJ2SjY7a",
   "metadata": {
    "colab": {
     "base_uri": "https://localhost:8080/"
    },
    "hidden": true,
    "id": "lf-NHJ2SjY7a",
    "outputId": "f66a3e0d-1b21-44f4-c521-42e620599344"
   },
   "outputs": [
    {
     "data": {
      "text/html": [
       "<div>\n",
       "<style scoped>\n",
       "    .dataframe tbody tr th:only-of-type {\n",
       "        vertical-align: middle;\n",
       "    }\n",
       "\n",
       "    .dataframe tbody tr th {\n",
       "        vertical-align: top;\n",
       "    }\n",
       "\n",
       "    .dataframe thead th {\n",
       "        text-align: right;\n",
       "    }\n",
       "</style>\n",
       "<table border=\"1\" class=\"dataframe\">\n",
       "  <thead>\n",
       "    <tr style=\"text-align: right;\">\n",
       "      <th></th>\n",
       "      <th>resultId</th>\n",
       "      <th>raceId</th>\n",
       "      <th>driverId</th>\n",
       "      <th>constructorId</th>\n",
       "      <th>number</th>\n",
       "      <th>grid</th>\n",
       "      <th>position</th>\n",
       "      <th>positionText</th>\n",
       "      <th>positionOrder</th>\n",
       "      <th>points</th>\n",
       "      <th>laps</th>\n",
       "      <th>time</th>\n",
       "      <th>milliseconds</th>\n",
       "      <th>fastestLap</th>\n",
       "      <th>rank</th>\n",
       "      <th>fastestLapTime</th>\n",
       "      <th>fastestLapSpeed</th>\n",
       "      <th>statusId</th>\n",
       "    </tr>\n",
       "  </thead>\n",
       "  <tbody>\n",
       "    <tr>\n",
       "      <th>0</th>\n",
       "      <td>1</td>\n",
       "      <td>18</td>\n",
       "      <td>1</td>\n",
       "      <td>1</td>\n",
       "      <td>22</td>\n",
       "      <td>1</td>\n",
       "      <td>1</td>\n",
       "      <td>1</td>\n",
       "      <td>1</td>\n",
       "      <td>10.0</td>\n",
       "      <td>58</td>\n",
       "      <td>1:34:50.616</td>\n",
       "      <td>5690616</td>\n",
       "      <td>39</td>\n",
       "      <td>2</td>\n",
       "      <td>1:27.452</td>\n",
       "      <td>218.300</td>\n",
       "      <td>1</td>\n",
       "    </tr>\n",
       "    <tr>\n",
       "      <th>1</th>\n",
       "      <td>2</td>\n",
       "      <td>18</td>\n",
       "      <td>2</td>\n",
       "      <td>2</td>\n",
       "      <td>3</td>\n",
       "      <td>5</td>\n",
       "      <td>2</td>\n",
       "      <td>2</td>\n",
       "      <td>2</td>\n",
       "      <td>8.0</td>\n",
       "      <td>58</td>\n",
       "      <td>+5.478</td>\n",
       "      <td>5696094</td>\n",
       "      <td>41</td>\n",
       "      <td>3</td>\n",
       "      <td>1:27.739</td>\n",
       "      <td>217.586</td>\n",
       "      <td>1</td>\n",
       "    </tr>\n",
       "    <tr>\n",
       "      <th>2</th>\n",
       "      <td>3</td>\n",
       "      <td>18</td>\n",
       "      <td>3</td>\n",
       "      <td>3</td>\n",
       "      <td>7</td>\n",
       "      <td>7</td>\n",
       "      <td>3</td>\n",
       "      <td>3</td>\n",
       "      <td>3</td>\n",
       "      <td>6.0</td>\n",
       "      <td>58</td>\n",
       "      <td>+8.163</td>\n",
       "      <td>5698779</td>\n",
       "      <td>41</td>\n",
       "      <td>5</td>\n",
       "      <td>1:28.090</td>\n",
       "      <td>216.719</td>\n",
       "      <td>1</td>\n",
       "    </tr>\n",
       "    <tr>\n",
       "      <th>3</th>\n",
       "      <td>4</td>\n",
       "      <td>18</td>\n",
       "      <td>4</td>\n",
       "      <td>4</td>\n",
       "      <td>5</td>\n",
       "      <td>11</td>\n",
       "      <td>4</td>\n",
       "      <td>4</td>\n",
       "      <td>4</td>\n",
       "      <td>5.0</td>\n",
       "      <td>58</td>\n",
       "      <td>+17.181</td>\n",
       "      <td>5707797</td>\n",
       "      <td>58</td>\n",
       "      <td>7</td>\n",
       "      <td>1:28.603</td>\n",
       "      <td>215.464</td>\n",
       "      <td>1</td>\n",
       "    </tr>\n",
       "    <tr>\n",
       "      <th>4</th>\n",
       "      <td>5</td>\n",
       "      <td>18</td>\n",
       "      <td>5</td>\n",
       "      <td>1</td>\n",
       "      <td>23</td>\n",
       "      <td>3</td>\n",
       "      <td>5</td>\n",
       "      <td>5</td>\n",
       "      <td>5</td>\n",
       "      <td>4.0</td>\n",
       "      <td>58</td>\n",
       "      <td>+18.014</td>\n",
       "      <td>5708630</td>\n",
       "      <td>43</td>\n",
       "      <td>1</td>\n",
       "      <td>1:27.418</td>\n",
       "      <td>218.385</td>\n",
       "      <td>1</td>\n",
       "    </tr>\n",
       "  </tbody>\n",
       "</table>\n",
       "</div>"
      ],
      "text/plain": [
       "   resultId  raceId  driverId  ...  fastestLapTime fastestLapSpeed  statusId\n",
       "0         1      18         1  ...        1:27.452         218.300         1\n",
       "1         2      18         2  ...        1:27.739         217.586         1\n",
       "2         3      18         3  ...        1:28.090         216.719         1\n",
       "3         4      18         4  ...        1:28.603         215.464         1\n",
       "4         5      18         5  ...        1:27.418         218.385         1\n",
       "\n",
       "[5 rows x 18 columns]"
      ]
     },
     "execution_count": 112,
     "metadata": {},
     "output_type": "execute_result"
    }
   ],
   "source": [
    "result_stats = pd.read_csv('clean_results.csv')\n",
    "result_stats.head()"
   ]
  },
  {
   "cell_type": "code",
   "execution_count": null,
   "id": "ngMfqC_3jjAA",
   "metadata": {
    "colab": {
     "base_uri": "https://localhost:8080/"
    },
    "hidden": true,
    "id": "ngMfqC_3jjAA",
    "outputId": "cb44e2da-b018-4f15-86d4-892a99e86b06"
   },
   "outputs": [
    {
     "data": {
      "text/html": [
       "<div>\n",
       "<style scoped>\n",
       "    .dataframe tbody tr th:only-of-type {\n",
       "        vertical-align: middle;\n",
       "    }\n",
       "\n",
       "    .dataframe tbody tr th {\n",
       "        vertical-align: top;\n",
       "    }\n",
       "\n",
       "    .dataframe thead th {\n",
       "        text-align: right;\n",
       "    }\n",
       "</style>\n",
       "<table border=\"1\" class=\"dataframe\">\n",
       "  <thead>\n",
       "    <tr style=\"text-align: right;\">\n",
       "      <th></th>\n",
       "      <th>resultId</th>\n",
       "      <th>raceId</th>\n",
       "      <th>driverId</th>\n",
       "      <th>constructorId</th>\n",
       "      <th>grid</th>\n",
       "      <th>positionOrder</th>\n",
       "      <th>points</th>\n",
       "      <th>laps</th>\n",
       "      <th>milliseconds</th>\n",
       "      <th>fastestLapSpeed</th>\n",
       "      <th>statusId</th>\n",
       "    </tr>\n",
       "  </thead>\n",
       "  <tbody>\n",
       "    <tr>\n",
       "      <th>count</th>\n",
       "      <td>21988.000000</td>\n",
       "      <td>21988.000000</td>\n",
       "      <td>21988.000000</td>\n",
       "      <td>21988.000000</td>\n",
       "      <td>21988.000000</td>\n",
       "      <td>21988.000000</td>\n",
       "      <td>21988.000000</td>\n",
       "      <td>21988.000000</td>\n",
       "      <td>2.198800e+04</td>\n",
       "      <td>21988.000000</td>\n",
       "      <td>21988.000000</td>\n",
       "    </tr>\n",
       "    <tr>\n",
       "      <th>mean</th>\n",
       "      <td>12542.699700</td>\n",
       "      <td>513.364517</td>\n",
       "      <td>246.394124</td>\n",
       "      <td>45.781608</td>\n",
       "      <td>11.395989</td>\n",
       "      <td>11.754684</td>\n",
       "      <td>1.887428</td>\n",
       "      <td>48.169911</td>\n",
       "      <td>1.609227e+06</td>\n",
       "      <td>60.749357</td>\n",
       "      <td>14.225669</td>\n",
       "    </tr>\n",
       "    <tr>\n",
       "      <th>std</th>\n",
       "      <td>7514.805891</td>\n",
       "      <td>299.791597</td>\n",
       "      <td>263.733558</td>\n",
       "      <td>59.588860</td>\n",
       "      <td>6.549111</td>\n",
       "      <td>6.503113</td>\n",
       "      <td>4.085489</td>\n",
       "      <td>25.571346</td>\n",
       "      <td>2.637729e+06</td>\n",
       "      <td>93.572075</td>\n",
       "      <td>21.457717</td>\n",
       "    </tr>\n",
       "    <tr>\n",
       "      <th>min</th>\n",
       "      <td>1.000000</td>\n",
       "      <td>1.000000</td>\n",
       "      <td>1.000000</td>\n",
       "      <td>1.000000</td>\n",
       "      <td>0.000000</td>\n",
       "      <td>1.000000</td>\n",
       "      <td>0.000000</td>\n",
       "      <td>0.000000</td>\n",
       "      <td>0.000000e+00</td>\n",
       "      <td>0.000000</td>\n",
       "      <td>1.000000</td>\n",
       "    </tr>\n",
       "    <tr>\n",
       "      <th>25%</th>\n",
       "      <td>5604.750000</td>\n",
       "      <td>258.000000</td>\n",
       "      <td>44.000000</td>\n",
       "      <td>6.000000</td>\n",
       "      <td>6.000000</td>\n",
       "      <td>6.000000</td>\n",
       "      <td>0.000000</td>\n",
       "      <td>30.000000</td>\n",
       "      <td>0.000000e+00</td>\n",
       "      <td>0.000000</td>\n",
       "      <td>1.000000</td>\n",
       "    </tr>\n",
       "    <tr>\n",
       "      <th>50%</th>\n",
       "      <td>12661.500000</td>\n",
       "      <td>503.000000</td>\n",
       "      <td>154.000000</td>\n",
       "      <td>21.000000</td>\n",
       "      <td>11.000000</td>\n",
       "      <td>12.000000</td>\n",
       "      <td>0.000000</td>\n",
       "      <td>53.000000</td>\n",
       "      <td>0.000000e+00</td>\n",
       "      <td>0.000000</td>\n",
       "      <td>10.000000</td>\n",
       "    </tr>\n",
       "    <tr>\n",
       "      <th>75%</th>\n",
       "      <td>19199.250000</td>\n",
       "      <td>768.000000</td>\n",
       "      <td>346.000000</td>\n",
       "      <td>55.000000</td>\n",
       "      <td>17.000000</td>\n",
       "      <td>17.000000</td>\n",
       "      <td>2.000000</td>\n",
       "      <td>67.000000</td>\n",
       "      <td>5.018200e+06</td>\n",
       "      <td>187.133000</td>\n",
       "      <td>13.000000</td>\n",
       "    </tr>\n",
       "    <tr>\n",
       "      <th>max</th>\n",
       "      <td>25145.000000</td>\n",
       "      <td>1060.000000</td>\n",
       "      <td>854.000000</td>\n",
       "      <td>214.000000</td>\n",
       "      <td>24.000000</td>\n",
       "      <td>24.000000</td>\n",
       "      <td>25.000000</td>\n",
       "      <td>199.000000</td>\n",
       "      <td>7.928200e+06</td>\n",
       "      <td>257.320000</td>\n",
       "      <td>139.000000</td>\n",
       "    </tr>\n",
       "  </tbody>\n",
       "</table>\n",
       "</div>"
      ],
      "text/plain": [
       "           resultId        raceId  ...  fastestLapSpeed      statusId\n",
       "count  21988.000000  21988.000000  ...     21988.000000  21988.000000\n",
       "mean   12542.699700    513.364517  ...        60.749357     14.225669\n",
       "std     7514.805891    299.791597  ...        93.572075     21.457717\n",
       "min        1.000000      1.000000  ...         0.000000      1.000000\n",
       "25%     5604.750000    258.000000  ...         0.000000      1.000000\n",
       "50%    12661.500000    503.000000  ...         0.000000     10.000000\n",
       "75%    19199.250000    768.000000  ...       187.133000     13.000000\n",
       "max    25145.000000   1060.000000  ...       257.320000    139.000000\n",
       "\n",
       "[8 rows x 11 columns]"
      ]
     },
     "execution_count": 113,
     "metadata": {},
     "output_type": "execute_result"
    }
   ],
   "source": [
    "result_stats.describe()"
   ]
  },
  {
   "cell_type": "markdown",
   "id": "5484b282",
   "metadata": {
    "id": "5484b282"
   },
   "source": [
    "# VISUALIZATIONS"
   ]
  },
  {
   "cell_type": "code",
   "execution_count": null,
   "id": "5c09e121",
   "metadata": {
    "colab": {
     "base_uri": "https://localhost:8080/",
     "height": 653
    },
    "id": "5c09e121",
    "outputId": "c83e7e9e-6992-4b84-cd47-8d6fcb9d7ed7"
   },
   "outputs": [
    {
     "data": {
      "text/plain": [
       "<matplotlib.axes._subplots.AxesSubplot at 0x7fd0b082dd50>"
      ]
     },
     "execution_count": 114,
     "metadata": {},
     "output_type": "execute_result"
    },
    {
     "data": {
      "image/png": "[encoded data removed]",
      "text/plain": [
       "<Figure size 720x720 with 1 Axes>"
      ]
     },
     "metadata": {
      "needs_background": "light"
     },
     "output_type": "display_data"
    }
   ],
   "source": [
    "# Number of constructors by Nationalities\n",
    "constructors['nationality'].hist(xrot=45, figsize=(10,10), bins=30)"
   ]
  },
  {
   "cell_type": "code",
   "execution_count": null,
   "id": "c8d229e1",
   "metadata": {
    "colab": {
     "base_uri": "https://localhost:8080/"
    },
    "id": "c8d229e1",
    "outputId": "50bb981c-1d42-46d9-d183-caf0f3309b1a"
   },
   "outputs": [
    {
     "data": {
      "text/plain": [
       "<matplotlib.axes._subplots.AxesSubplot at 0x7fd0b0669110>"
      ]
     },
     "execution_count": 115,
     "metadata": {},
     "output_type": "execute_result"
    },
    {
     "data": {
      "image/png": "[encoded data removed]",
      "text/plain": [
       "<Figure size 432x288 with 1 Axes>"
      ]
     },
     "metadata": {
      "needs_background": "light"
     },
     "output_type": "display_data"
    }
   ],
   "source": [
    "# Distribution of Altitude of Circuits\n",
    "circuits['alt'].hist()"
   ]
  },
  {
   "cell_type": "code",
   "execution_count": null,
   "id": "120f5c08",
   "metadata": {
    "colab": {
     "base_uri": "https://localhost:8080/",
     "height": 922
    },
    "id": "120f5c08",
    "outputId": "dd8a73dd-56b8-44f4-fb72-c138a87aeb37"
   },
   "outputs": [
    {
     "data": {
      "text/plain": [
       "<matplotlib.axes._subplots.AxesSubplot at 0x7fd0b064ac10>"
      ]
     },
     "execution_count": 116,
     "metadata": {},
     "output_type": "execute_result"
    },
    {
     "data": {
      "image/png": "[encoded data removed]",
      "text/plain": [
       "<Figure size 1080x1080 with 1 Axes>"
      ]
     },
     "metadata": {
      "needs_background": "light"
     },
     "output_type": "display_data"
    }
   ],
   "source": [
    "# Distribution of circuits by country\n",
    "circuits['country'].hist(xrot=45, figsize=(15,15), bins=100)"
   ]
  },
  {
   "cell_type": "code",
   "execution_count": null,
   "id": "00584d55",
   "metadata": {
    "colab": {
     "base_uri": "https://localhost:8080/",
     "height": 291
    },
    "id": "00584d55",
    "outputId": "b6efd022-3697-40d3-caef-df9fd5a6e57a"
   },
   "outputs": [
    {
     "data": {
      "text/plain": [
       "<matplotlib.axes._subplots.AxesSubplot at 0x7fd0b048a710>"
      ]
     },
     "execution_count": 118,
     "metadata": {},
     "output_type": "execute_result"
    },
    {
     "data": {
      "image/png": "[encoded data removed]",
      "text/plain": [
       "<Figure size 432x288 with 1 Axes>"
      ]
     },
     "metadata": {
      "needs_background": "light"
     },
     "output_type": "display_data"
    }
   ],
   "source": [
    "# TOP 15 Constructor IDs and their total points\n",
    "con_standings.groupby('constructorId').agg(total_points=('points', 'sum')).reset_index().sort_values(by='total_points', ascending=False)[:15]['total_points'].plot.bar()"
   ]
  },
  {
   "cell_type": "code",
   "execution_count": null,
   "id": "7fb6d9e6",
   "metadata": {
    "colab": {
     "base_uri": "https://localhost:8080/"
    },
    "id": "7fb6d9e6",
    "outputId": "8b036a20-1580-468b-e0c8-011239a84502"
   },
   "outputs": [
    {
     "data": {
      "text/plain": [
       "<matplotlib.axes._subplots.AxesSubplot at 0x7fd0b0381bd0>"
      ]
     },
     "execution_count": 119,
     "metadata": {},
     "output_type": "execute_result"
    },
    {
     "data": {
      "image/png": "[encoded data removed]",
      "text/plain": [
       "<Figure size 432x288 with 1 Axes>"
      ]
     },
     "metadata": {
      "needs_background": "light"
     },
     "output_type": "display_data"
    }
   ],
   "source": [
    "# TOP 15 Constructor IDs and their average positions\n",
    "con_standings.groupby('constructorId').agg(avg_position=('position', 'mean')).reset_index().sort_values(by='avg_position', ascending=True)[:15]['avg_position'].plot.bar()"
   ]
  },
  {
   "cell_type": "code",
   "execution_count": null,
   "id": "0dac0a26",
   "metadata": {
    "colab": {
     "base_uri": "https://localhost:8080/"
    },
    "id": "0dac0a26",
    "outputId": "14993d03-1b2f-4df2-84e0-b94822c7818b"
   },
   "outputs": [
    {
     "data": {
      "text/plain": [
       "<matplotlib.axes._subplots.AxesSubplot at 0x7fd0b02b5f50>"
      ]
     },
     "execution_count": 120,
     "metadata": {},
     "output_type": "execute_result"
    },
    {
     "data": {
      "image/png": "[encoded data removed]",
      "text/plain": [
       "<Figure size 432x288 with 1 Axes>"
      ]
     },
     "metadata": {
      "needs_background": "light"
     },
     "output_type": "display_data"
    }
   ],
   "source": [
    "# TOP 15 Constructor IDs and their total wins\n",
    "con_standings.groupby('constructorId').agg(total_wins=('wins', 'sum')).reset_index().sort_values(by='total_wins', ascending=False)[:15]['total_wins'].plot.bar()"
   ]
  },
  {
   "cell_type": "code",
   "execution_count": null,
   "id": "4d47bb15",
   "metadata": {
    "colab": {
     "base_uri": "https://localhost:8080/",
     "height": 1000
    },
    "id": "4d47bb15",
    "outputId": "f6572ea1-f5e2-41df-9204-3029749f6bb5"
   },
   "outputs": [
    {
     "data": {
      "text/plain": [
       "<matplotlib.axes._subplots.AxesSubplot at 0x7fd0b01da790>"
      ]
     },
     "execution_count": 121,
     "metadata": {},
     "output_type": "execute_result"
    },
    {
     "data": {
      "image/png": "[encoded data removed]",
      "text/plain": [
       "<Figure size 1440x1440 with 1 Axes>"
      ]
     },
     "metadata": {
      "needs_background": "light"
     },
     "output_type": "display_data"
    }
   ],
   "source": [
    "# The histogram of nationalities of drivers\n",
    "drivers_df['nationality'].hist(xrot=45, figsize=(20,20), bins=30)"
   ]
  },
  {
   "cell_type": "code",
   "execution_count": null,
   "id": "15679719",
   "metadata": {
    "colab": {
     "base_uri": "https://localhost:8080/"
    },
    "id": "15679719",
    "outputId": "bcb0b80e-705e-458f-9e2f-e09340b85769"
   },
   "outputs": [
    {
     "data": {
      "image/png": "[encoded data removed]",
      "text/plain": [
       "<Figure size 432x288 with 1 Axes>"
      ]
     },
     "metadata": {
      "needs_background": "light"
     },
     "output_type": "display_data"
    }
   ],
   "source": [
    "# Boxplot of time taken for each lap\n",
    "boxplot = lap_times_df.boxplot(column=['milliseconds'])"
   ]
  },
  {
   "cell_type": "code",
   "execution_count": null,
   "id": "hNoKReswXmEo",
   "metadata": {
    "colab": {
     "base_uri": "https://localhost:8080/",
     "height": 71
    },
    "id": "hNoKReswXmEo",
    "outputId": "5ff4bc39-fbd6-4198-be4b-2176e1f7ae1f"
   },
   "outputs": [
    {
     "data": {
      "text/plain": [
       "<matplotlib.axes._subplots.AxesSubplot at 0x7fd0c58b7890>"
      ]
     },
     "execution_count": 123,
     "metadata": {},
     "output_type": "execute_result"
    },
    {
     "data": {
      "image/png": "[encoded data removed]",
      "text/plain": [
       "<Figure size 432x288 with 1 Axes>"
      ]
     },
     "metadata": {
      "needs_background": "light"
     },
     "output_type": "display_data"
    }
   ],
   "source": [
    "# TOP 15 Drivers IDs and their total points\n",
    "driver_standings_df.groupby('driverId').agg(total_points=('points', 'sum')).reset_index().sort_values(by='total_points', ascending=False)[:15]['total_points'].plot.bar()"
   ]
  },
  {
   "cell_type": "code",
   "execution_count": null,
   "id": "hWger8qWXtWk",
   "metadata": {
    "colab": {
     "base_uri": "https://localhost:8080/"
    },
    "id": "hWger8qWXtWk",
    "outputId": "482b1e98-43e1-4dfa-c4f4-9b53eab8972a"
   },
   "outputs": [
    {
     "data": {
      "text/plain": [
       "<matplotlib.axes._subplots.AxesSubplot at 0x7fd0aff42d90>"
      ]
     },
     "execution_count": 125,
     "metadata": {},
     "output_type": "execute_result"
    },
    {
     "data": {
      "image/png": "[encoded data removed]",
      "text/plain": [
       "<Figure size 432x288 with 1 Axes>"
      ]
     },
     "metadata": {
      "needs_background": "light"
     },
     "output_type": "display_data"
    }
   ],
   "source": [
    "# TOP 15 Driver IDs and their total wins\n",
    "driver_standings_df.groupby('driverId').agg(total_wins=('wins', 'sum')).reset_index().sort_values(by='total_wins', ascending=False)[:15]['total_wins'].plot.bar()"
   ]
  },
  {
   "cell_type": "code",
   "execution_count": null,
   "id": "_Z9tpWRehxvP",
   "metadata": {
    "colab": {
     "base_uri": "https://localhost:8080/"
    },
    "id": "_Z9tpWRehxvP",
    "outputId": "47ef20c0-3125-4be5-85bc-9c273cc476ed"
   },
   "outputs": [
    {
     "data": {
      "text/plain": [
       "<matplotlib.axes._subplots.AxesSubplot at 0x7fd0afe04f50>"
      ]
     },
     "execution_count": 127,
     "metadata": {},
     "output_type": "execute_result"
    },
    {
     "data": {
      "image/png": "[encoded data removed]",
      "text/plain": [
       "<Figure size 432x288 with 1 Axes>"
      ]
     },
     "metadata": {
      "needs_background": "light"
     },
     "output_type": "display_data"
    }
   ],
   "source": [
    "# 10 Fastest Constructors based on average Q3 performance\n",
    "clean_quali = pd.read_csv('clean_quali.csv')\n",
    "top_10_constructors = clean_quali.groupby(['constructorId'], as_index=False)['q3_time'].mean().sort_values(by='q3_time', ascending=True).head(10)\n",
    "sns.barplot(data=top_10_constructors, x='constructorId', y='q3_time')"
   ]
  },
  {
   "cell_type": "code",
   "execution_count": null,
   "id": "5YGT-RvJhffd",
   "metadata": {
    "colab": {
     "base_uri": "https://localhost:8080/",
     "height": 296
    },
    "id": "5YGT-RvJhffd",
    "outputId": "252d6110-82ad-4975-dade-845d82db3ca3"
   },
   "outputs": [
    {
     "data": {
      "text/plain": [
       "<matplotlib.axes._subplots.AxesSubplot at 0x7fd0afd20310>"
      ]
     },
     "execution_count": 128,
     "metadata": {},
     "output_type": "execute_result"
    },
    {
     "data": {
      "image/png": "[encoded data removed]",
      "text/plain": [
       "<Figure size 432x288 with 1 Axes>"
      ]
     },
     "metadata": {
      "needs_background": "light"
     },
     "output_type": "display_data"
    }
   ],
   "source": [
    "# Top 10 drivers based on Average Qualifying Postion\n",
    "top_10_drivers = clean_quali.groupby(['driverId'], as_index=False)['position'].mean().sort_values(by='position', ascending=True).head(10)\n",
    "sns.barplot(data=top_10_drivers, x='driverId', y='position')"
   ]
  },
  {
   "cell_type": "code",
   "execution_count": null,
   "id": "zc9wB96diKi5",
   "metadata": {
    "colab": {
     "base_uri": "https://localhost:8080/",
     "height": 296
    },
    "id": "zc9wB96diKi5",
    "outputId": "99865634-c89b-4257-ac64-636ec8b5c20f"
   },
   "outputs": [
    {
     "data": {
      "text/plain": [
       "<matplotlib.axes._subplots.AxesSubplot at 0x7fd0afbb6850>"
      ]
     },
     "execution_count": 130,
     "metadata": {},
     "output_type": "execute_result"
    },
    {
     "data": {
      "image/png": "[encoded data removed]",
      "text/plain": [
       "<Figure size 432x288 with 1 Axes>"
      ]
     },
     "metadata": {
      "needs_background": "light"
     },
     "output_type": "display_data"
    }
   ],
   "source": [
    "# Constructors with most pole positions\n",
    "clean_results = pd.read_csv('clean_results.csv')\n",
    "pole_constuctor = clean_results[clean_results.grid==1].groupby(['constructorId'], as_index=False)['raceId'].count().rename(columns={'raceId':'poles'}).sort_values('poles', ascending=False).head(10)\n",
    "sns.barplot(data=pole_constuctor, x='constructorId', y='poles')"
   ]
  },
  {
   "cell_type": "code",
   "execution_count": null,
   "id": "jWHxORGSiTzo",
   "metadata": {
    "colab": {
     "base_uri": "https://localhost:8080/"
    },
    "id": "jWHxORGSiTzo",
    "outputId": "2ccd0c9b-3410-46e5-f2cc-94611b2e61cc"
   },
   "outputs": [
    {
     "data": {
      "text/plain": [
       "<matplotlib.axes._subplots.AxesSubplot at 0x7fd0afcc9910>"
      ]
     },
     "execution_count": 131,
     "metadata": {},
     "output_type": "execute_result"
    },
    {
     "data": {
      "image/png": "[encoded data removed]",
      "text/plain": [
       "<Figure size 432x288 with 1 Axes>"
      ]
     },
     "metadata": {
      "needs_background": "light"
     },
     "output_type": "display_data"
    }
   ],
   "source": [
    "# Driver with most fastest laps\n",
    "fastest_lap = clean_results[clean_results['rank']=='1'].groupby(['driverId'], as_index=False)['resultId'].count().sort_values('resultId', ascending=False).head(10)\n",
    "sns.barplot(data=fastest_lap, x='driverId', y='resultId')"
   ]
  },
  {
   "cell_type": "code",
   "execution_count": null,
   "id": "KlClceobiX_g",
   "metadata": {
    "colab": {
     "base_uri": "https://localhost:8080/"
    },
    "id": "KlClceobiX_g",
    "outputId": "6f51af97-9aec-4c18-8f9f-937ecd0ed0fb"
   },
   "outputs": [
    {
     "data": {
      "text/plain": [
       "<matplotlib.axes._subplots.AxesSubplot at 0x7fd0afa5f1d0>"
      ]
     },
     "execution_count": 132,
     "metadata": {},
     "output_type": "execute_result"
    },
    {
     "data": {
      "image/png": "[encoded data removed]",
      "text/plain": [
       "<Figure size 432x288 with 1 Axes>"
      ]
     },
     "metadata": {
      "needs_background": "light"
     },
     "output_type": "display_data"
    }
   ],
   "source": [
    "# Constructor with most points\n",
    "points_cons = clean_results.groupby(['constructorId'], as_index=False)['points'].sum().sort_values('points', ascending=False).head(10)\n",
    "sns.barplot(data=points_cons, x='constructorId', y='points')"
   ]
  },
  {
   "cell_type": "code",
   "execution_count": null,
   "id": "KMVLgS00t5ZJ",
   "metadata": {
    "id": "KMVLgS00t5ZJ"
   },
   "outputs": [],
   "source": [
    "# Merge all three datasets and filter out races before 2010 \n",
    "drivers_and_results = pd.merge(clean_results, drivers_df, on='driverId')\n",
    "driver_race_result = pd.merge(drivers_and_results, races, on='raceId')\n",
    "latest_results = driver_race_result[driver_race_result.year>2009]\n",
    "latest_results = latest_results[latest_results['position'] != '\\\\N']\n",
    "latest_results['position'] = latest_results['position'].astype('int64')\n",
    "latest_results = latest_results[latest_results['position'] <=3]"
   ]
  },
  {
   "cell_type": "code",
   "execution_count": null,
   "id": "pVXRrrSpt5XF",
   "metadata": {
    "id": "pVXRrrSpt5XF"
   },
   "outputs": [],
   "source": [
    "latest_results[\"full_name\"] = latest_results[\"forename\"] + \" \" + latest_results[\"surname\"]"
   ]
  },
  {
   "cell_type": "code",
   "execution_count": null,
   "id": "4yuaPNGMt5U9",
   "metadata": {
    "colab": {
     "base_uri": "https://localhost:8080/",
     "height": 235
    },
    "id": "4yuaPNGMt5U9",
    "outputId": "02c491c4-6135-41fb-c908-b2b6a3dff49a"
   },
   "outputs": [
    {
     "data": {
      "text/html": [
       "<div>\n",
       "<style scoped>\n",
       "    .dataframe tbody tr th:only-of-type {\n",
       "        vertical-align: middle;\n",
       "    }\n",
       "\n",
       "    .dataframe tbody tr th {\n",
       "        vertical-align: top;\n",
       "    }\n",
       "\n",
       "    .dataframe thead th {\n",
       "        text-align: right;\n",
       "    }\n",
       "</style>\n",
       "<table border=\"1\" class=\"dataframe\">\n",
       "  <thead>\n",
       "    <tr style=\"text-align: right;\">\n",
       "      <th></th>\n",
       "      <th>points</th>\n",
       "    </tr>\n",
       "    <tr>\n",
       "      <th>full_name</th>\n",
       "      <th></th>\n",
       "    </tr>\n",
       "  </thead>\n",
       "  <tbody>\n",
       "    <tr>\n",
       "      <th>Carlos Sainz</th>\n",
       "      <td>17.000000</td>\n",
       "    </tr>\n",
       "    <tr>\n",
       "      <th>Charles Leclerc</th>\n",
       "      <td>17.500000</td>\n",
       "    </tr>\n",
       "    <tr>\n",
       "      <th>Daniel Ricciardo</th>\n",
       "      <td>17.933333</td>\n",
       "    </tr>\n",
       "    <tr>\n",
       "      <th>Daniil Kvyat</th>\n",
       "      <td>16.000000</td>\n",
       "    </tr>\n",
       "    <tr>\n",
       "      <th>Esteban Ocon</th>\n",
       "      <td>18.000000</td>\n",
       "    </tr>\n",
       "  </tbody>\n",
       "</table>\n",
       "</div>"
      ],
      "text/plain": [
       "                     points\n",
       "full_name                  \n",
       "Carlos Sainz      17.000000\n",
       "Charles Leclerc   17.500000\n",
       "Daniel Ricciardo  17.933333\n",
       "Daniil Kvyat      16.000000\n",
       "Esteban Ocon      18.000000"
      ]
     },
     "execution_count": 136,
     "metadata": {},
     "output_type": "execute_result"
    }
   ],
   "source": [
    "avg_pts   = latest_results[['full_name','points']].groupby(\"full_name\").mean()\n",
    "total_pts = latest_results[['full_name','points']].groupby(\"full_name\").sum()\n",
    "avg_pts.head()"
   ]
  },
  {
   "cell_type": "code",
   "execution_count": null,
   "id": "DbUVZNTKt5Sr",
   "metadata": {
    "colab": {
     "base_uri": "https://localhost:8080/",
     "height": 204
    },
    "id": "DbUVZNTKt5Sr",
    "outputId": "60a13ec4-c943-486a-dcc6-dcb1e05e63e1"
   },
   "outputs": [
    {
     "data": {
      "text/html": [
       "<div>\n",
       "<style scoped>\n",
       "    .dataframe tbody tr th:only-of-type {\n",
       "        vertical-align: middle;\n",
       "    }\n",
       "\n",
       "    .dataframe tbody tr th {\n",
       "        vertical-align: top;\n",
       "    }\n",
       "\n",
       "    .dataframe thead th {\n",
       "        text-align: right;\n",
       "    }\n",
       "</style>\n",
       "<table border=\"1\" class=\"dataframe\">\n",
       "  <thead>\n",
       "    <tr style=\"text-align: right;\">\n",
       "      <th></th>\n",
       "      <th>full_name</th>\n",
       "      <th>points_x</th>\n",
       "      <th>points_y</th>\n",
       "      <th>raceId</th>\n",
       "    </tr>\n",
       "  </thead>\n",
       "  <tbody>\n",
       "    <tr>\n",
       "      <th>0</th>\n",
       "      <td>Lewis Hamilton</td>\n",
       "      <td>21.592308</td>\n",
       "      <td>2807.0</td>\n",
       "      <td>130</td>\n",
       "    </tr>\n",
       "    <tr>\n",
       "      <th>1</th>\n",
       "      <td>Sebastian Vettel</td>\n",
       "      <td>20.209091</td>\n",
       "      <td>2223.0</td>\n",
       "      <td>110</td>\n",
       "    </tr>\n",
       "    <tr>\n",
       "      <th>2</th>\n",
       "      <td>Nico Rosberg</td>\n",
       "      <td>20.452830</td>\n",
       "      <td>1084.0</td>\n",
       "      <td>53</td>\n",
       "    </tr>\n",
       "    <tr>\n",
       "      <th>3</th>\n",
       "      <td>Valtteri Bottas</td>\n",
       "      <td>17.750000</td>\n",
       "      <td>994.0</td>\n",
       "      <td>56</td>\n",
       "    </tr>\n",
       "    <tr>\n",
       "      <th>4</th>\n",
       "      <td>Max Verstappen</td>\n",
       "      <td>18.886364</td>\n",
       "      <td>831.0</td>\n",
       "      <td>44</td>\n",
       "    </tr>\n",
       "  </tbody>\n",
       "</table>\n",
       "</div>"
      ],
      "text/plain": [
       "          full_name   points_x  points_y  raceId\n",
       "0    Lewis Hamilton  21.592308    2807.0     130\n",
       "1  Sebastian Vettel  20.209091    2223.0     110\n",
       "2      Nico Rosberg  20.452830    1084.0      53\n",
       "3   Valtteri Bottas  17.750000     994.0      56\n",
       "4    Max Verstappen  18.886364     831.0      44"
      ]
     },
     "execution_count": 137,
     "metadata": {},
     "output_type": "execute_result"
    }
   ],
   "source": [
    "# Count number of races for each driver and filter out drivers with less than 100 races\n",
    "n=latest_results[['full_name','raceId']].groupby(\"full_name\").count()\n",
    "\n",
    "# Merge the above summary tables and reset index to create column for driver name\n",
    "d =pd.merge(avg_pts,total_pts,on='full_name')\n",
    "md=pd.merge(d,n,on='full_name')\n",
    "\n",
    "md = md.nlargest(10,['points_y'])\n",
    "md = md.reset_index()\n",
    "md.head()"
   ]
  },
  {
   "cell_type": "code",
   "execution_count": null,
   "id": "O8g9Gr_it5Ob",
   "metadata": {
    "colab": {
     "base_uri": "https://localhost:8080/",
     "height": 655
    },
    "id": "O8g9Gr_it5Ob",
    "outputId": "0c4302f5-7d74-41f8-e22a-e6a6069b776d"
   },
   "outputs": [
    {
     "data": {
      "image/png": "[encoded data removed]",
      "text/plain": [
       "<Figure size 1440x720 with 1 Axes>"
      ]
     },
     "metadata": {
      "needs_background": "light"
     },
     "output_type": "display_data"
    }
   ],
   "source": [
    "# Finding top drivers of all time that have gathered most podiums over the years\n",
    "\n",
    "plt.rc('font', size=12)          # controls default text sizes\n",
    "plt.rc('axes', titlesize=20)     # fontsize of the axes title\n",
    "plt.rc('axes', labelsize=30)     # fontsize of the x and y labels\n",
    "plt.rc('xtick', labelsize=20)    # fontsize of the tick labels\n",
    "plt.rc('ytick', labelsize=20)    # fontsize of the tick labels\n",
    "plt.rc('legend', fontsize=30)    # legend fontsize\n",
    "plt.rc('figure', titlesize=30)   # fontsize of the figure title\n",
    "\n",
    "plt.figure(figsize=(20,10))\n",
    "plt.scatter(md.points_x,md.raceId,s=md.points_y*3,alpha=0.5,c=md.index.to_series())\n",
    "plt.xlim(16.5,22.6)\n",
    "plt.ylim(0,180)\n",
    "\n",
    "plt.xlabel(\"Average Points Per Race\")\n",
    "plt.ylabel(\"Races\")\n",
    "plt.title(\"Top 10 drivers of all time\")\n",
    "\n",
    "for x,y,z in zip(md.points_x,md.raceId,md.full_name):\n",
    "   plt.annotate(z,xy=(x-0.01,y)) "
   ]
  },
  {
   "cell_type": "code",
   "execution_count": null,
   "id": "xASkKMzJt5Ji",
   "metadata": {
    "colab": {
     "base_uri": "https://localhost:8080/",
     "height": 204
    },
    "id": "xASkKMzJt5Ji",
    "outputId": "970598ad-e963-490a-d816-47f3a6fae1c9"
   },
   "outputs": [
    {
     "data": {
      "text/html": [
       "<div>\n",
       "<style scoped>\n",
       "    .dataframe tbody tr th:only-of-type {\n",
       "        vertical-align: middle;\n",
       "    }\n",
       "\n",
       "    .dataframe tbody tr th {\n",
       "        vertical-align: top;\n",
       "    }\n",
       "\n",
       "    .dataframe thead th {\n",
       "        text-align: right;\n",
       "    }\n",
       "</style>\n",
       "<table border=\"1\" class=\"dataframe\">\n",
       "  <thead>\n",
       "    <tr style=\"text-align: right;\">\n",
       "      <th></th>\n",
       "      <th>name</th>\n",
       "      <th>milliseconds</th>\n",
       "      <th>label</th>\n",
       "    </tr>\n",
       "  </thead>\n",
       "  <tbody>\n",
       "    <tr>\n",
       "      <th>7</th>\n",
       "      <td>HRT</td>\n",
       "      <td>23.887565</td>\n",
       "      <td>HRT (23.89 s)</td>\n",
       "    </tr>\n",
       "    <tr>\n",
       "      <th>9</th>\n",
       "      <td>Lotus</td>\n",
       "      <td>24.448849</td>\n",
       "      <td>Lotus (24.45 s)</td>\n",
       "    </tr>\n",
       "    <tr>\n",
       "      <th>20</th>\n",
       "      <td>Virgin</td>\n",
       "      <td>24.448849</td>\n",
       "      <td>Virgin (24.45 s)</td>\n",
       "    </tr>\n",
       "    <tr>\n",
       "      <th>10</th>\n",
       "      <td>Lotus F1</td>\n",
       "      <td>31.503706</td>\n",
       "      <td>Lotus F1 (31.5 s)</td>\n",
       "    </tr>\n",
       "    <tr>\n",
       "      <th>4</th>\n",
       "      <td>Caterham</td>\n",
       "      <td>33.143437</td>\n",
       "      <td>Caterham (33.14 s)</td>\n",
       "    </tr>\n",
       "  </tbody>\n",
       "</table>\n",
       "</div>"
      ],
      "text/plain": [
       "        name  milliseconds               label\n",
       "7        HRT     23.887565       HRT (23.89 s)\n",
       "9      Lotus     24.448849     Lotus (24.45 s)\n",
       "20    Virgin     24.448849    Virgin (24.45 s)\n",
       "10  Lotus F1     31.503706   Lotus F1 (31.5 s)\n",
       "4   Caterham     33.143437  Caterham (33.14 s)"
      ]
     },
     "execution_count": 178,
     "metadata": {},
     "output_type": "execute_result"
    }
   ],
   "source": [
    "# average time taken by constructors in the pit lane\n",
    "constructors_all = pd.merge(constructors, con_standings, on='constructorId')\n",
    "pit_stops=pd.read_csv('pit_stops.csv')\n",
    "pit_stops['raceId'] = pit_stops['raceId'].astype(str)\n",
    "constructors_pits = pd.merge(constructors_all, pit_stops, on='raceId')\n",
    "\n",
    "df = constructors_pits.groupby(['name'], as_index=False)['milliseconds'].mean().sort_values('milliseconds', ascending=True)\n",
    "df['milliseconds'] = df['milliseconds']/1000\n",
    "df['label'] = df[\"name\"]+\" (\"+ df['milliseconds'].round(2).astype(str)+\" s)\"\n",
    "df.head()"
   ]
  },
  {
   "cell_type": "code",
   "execution_count": null,
   "id": "5tisxF91t4_H",
   "metadata": {
    "colab": {
     "base_uri": "https://localhost:8080/",
     "height": 629
    },
    "id": "5tisxF91t4_H",
    "outputId": "0cb8ae5f-d601-43df-e08d-82625cd80015"
   },
   "outputs": [
    {
     "data": {
      "image/png": "[encoded data removed]",
      "text/plain": [
       "<Figure size 1440x720 with 1 Axes>"
      ]
     },
     "metadata": {
      "needs_background": "light"
     },
     "output_type": "display_data"
    }
   ],
   "source": [
    "# initialize the figure\n",
    "plt.figure(figsize=(20,10))\n",
    "ax = plt.subplot(111, polar=True)\n",
    "plt.axis('off')\n",
    "\n",
    "# Set the coordinates limits\n",
    "upperLimit = 100\n",
    "lowerLimit = 30\n",
    "\n",
    "# Compute max and min in the dataset\n",
    "max = df['milliseconds'].max()\n",
    "slope = (max - lowerLimit) / max\n",
    "heights = slope * df.milliseconds + lowerLimit\n",
    "\n",
    "# Compute the width of each bar. In total we have 2*Pi = 360°\n",
    "width = 2*np.pi / len(df.index)\n",
    "indexes = list(range(1, len(df.index)+1))\n",
    "angles = [element * width for element in indexes]\n",
    "# Draw bars\n",
    "bars = ax.bar(\n",
    "    x=angles, \n",
    "    height=heights, \n",
    "    width=width, \n",
    "    bottom=lowerLimit,\n",
    "    linewidth=2, \n",
    "    edgecolor=\"white\",\n",
    "    color=\"#61a4b2\",\n",
    ")\n",
    "\n",
    "# little space between the bar and the label\n",
    "labelPadding = 4\n",
    "\n",
    "plt.title(\"Average pit-lane times for various constructors\")\n",
    "\n",
    "# Add labels\n",
    "for bar, angle, height, label in zip(bars,angles, heights, df[\"label\"]):\n",
    "\n",
    "    # Labels are rotated. Rotation must be specified in degrees :(\n",
    "    rotation = np.rad2deg(angle)\n",
    "\n",
    "    # Flip some labels upside down\n",
    "    alignment = \"\"\n",
    "    if angle >= np.pi/2 and angle < 3*np.pi/2:\n",
    "        alignment = \"right\"\n",
    "        rotation = rotation + 180\n",
    "    else: \n",
    "        alignment = \"left\"\n",
    "\n",
    "    # Finally add the labels\n",
    "    ax.text(\n",
    "        x=angle, \n",
    "        y=lowerLimit + bar.get_height() + labelPadding, \n",
    "        s=label, \n",
    "        ha=alignment, \n",
    "        va='center', \n",
    "        rotation=rotation, \n",
    "        rotation_mode=\"anchor\")"
   ]
  },
  {
   "cell_type": "code",
   "execution_count": null,
   "id": "1xvQ_jKVAi8U",
   "metadata": {
    "id": "1xvQ_jKVAi8U"
   },
   "outputs": [],
   "source": [
    "# How have car speeds increased over the years\n",
    "lap_times = pd.read_csv('lap_times.csv')\n",
    "races = pd.read_csv('races.csv')"
   ]
  },
  {
   "cell_type": "code",
   "execution_count": null,
   "id": "FGhEghfEAru1",
   "metadata": {
    "colab": {
     "base_uri": "https://localhost:8080/",
     "height": 1000
    },
    "id": "FGhEghfEAru1",
    "outputId": "60b024a9-0e3a-4676-91cc-adfc92d45d4f"
   },
   "outputs": [
    {
     "data": {
      "text/plain": [
       "<matplotlib.axes._subplots.AxesSubplot at 0x7f731f718c10>"
      ]
     },
     "execution_count": 111,
     "metadata": {},
     "output_type": "execute_result"
    },
    {
     "data": {
      "image/png": "[encoded data removed]",
      "text/plain": [
       "<Figure size 1440x1440 with 2 Axes>"
      ]
     },
     "metadata": {
      "needs_background": "light"
     },
     "output_type": "display_data"
    }
   ],
   "source": [
    "lap_df = lap_times.merge(races, left_on='raceId', right_on='raceId', how='inner')\n",
    "lap_df = lap_df[['year', 'milliseconds']]\n",
    "lap_df['lap_bucket'] = lap_df['milliseconds']//1000\n",
    "lap_df = lap_df[lap_df['lap_bucket']<=120]\n",
    "lap_buck_avg = lap_df.groupby(['lap_bucket', 'year']).size()\n",
    "lap_buck_avg = lap_buck_avg.reset_index()\n",
    "lap_buck_avg = lap_buck_avg.pivot('lap_bucket', 'year')\n",
    "lap_buck_avg = lap_buck_avg.fillna(0)\n",
    "fig2, ax2 = plt.subplots(figsize=(20, 20))\n",
    "sns.heatmap(lap_buck_avg, annot=False, linewidth=0.1)"
   ]
  },
  {
   "cell_type": "code",
   "execution_count": null,
   "id": "bLlSzW-gA5xf",
   "metadata": {
    "colab": {
     "base_uri": "https://localhost:8080/",
     "height": 623
    },
    "id": "bLlSzW-gA5xf",
    "outputId": "160969ad-6649-4c03-cfbf-276cbb7c6632"
   },
   "outputs": [
    {
     "data": {
      "text/plain": [
       "(50.0, 110.0)"
      ]
     },
     "execution_count": 113,
     "metadata": {},
     "output_type": "execute_result"
    },
    {
     "data": {
      "image/png": "[encoded data removed]",
      "text/plain": [
       "<Figure size 720x720 with 1 Axes>"
      ]
     },
     "metadata": {
      "needs_background": "light"
     },
     "output_type": "display_data"
    }
   ],
   "source": [
    "# How Do the fastest qualifying laps vary across each circuit\n",
    "qdata = pd.read_csv('clean_quali.csv')\n",
    "q_combine = qdata.merge(races, left_on='raceId', right_on='raceId', how='inner')\n",
    "q_combine = q_combine[['raceId', 'q3_time', 'circuitId']]\n",
    "circuits = pd.read_csv('circuits.csv')\n",
    "q_combine = q_combine.merge(circuits, left_on='circuitId', right_on='circuitId', how='inner')\n",
    "q_combine = q_combine[['q3_time', 'name']]\n",
    "q_agg = q_combine.groupby(['name'], as_index=False)['q3_time'].min()\n",
    "q_agg['time_bucket (in secs)'] = q_agg['q3_time']//1000\n",
    "q_agg = q_agg.sort_values('time_bucket (in secs)')\n",
    "fig2, ax2 = plt.subplots(figsize=(10, 10))\n",
    "sns.barplot(ax=ax2, data=q_agg, x='time_bucket (in secs)', y='name')\n",
    "plt.xlim(50, 110)"
   ]
  },
  {
   "cell_type": "code",
   "execution_count": null,
   "id": "2DlvqQjId2tG",
   "metadata": {
    "id": "2DlvqQjId2tG"
   },
   "outputs": [],
   "source": [
    "# Finding total points by constructor names\n",
    "con_standings = con_standings.merge(constructors[['constructorId', 'name']], on='constructorId', how='left')"
   ]
  },
  {
   "cell_type": "code",
   "execution_count": null,
   "id": "xS0SVmueclK_",
   "metadata": {
    "colab": {
     "base_uri": "https://localhost:8080/",
     "height": 342
    },
    "id": "xS0SVmueclK_",
    "outputId": "07bfe26e-4cc3-400f-8864-af038a066cbd"
   },
   "outputs": [
    {
     "data": {
      "text/plain": [
       "<matplotlib.axes._subplots.AxesSubplot at 0x7fe26992a6d0>"
      ]
     },
     "execution_count": 36,
     "metadata": {},
     "output_type": "execute_result"
    },
    {
     "data": {
      "image/png": "[encoded data removed]",
      "text/plain": [
       "<Figure size 432x288 with 1 Axes>"
      ]
     },
     "metadata": {
      "needs_background": "light"
     },
     "output_type": "display_data"
    }
   ],
   "source": [
    "con_standings.groupby('name').agg(total_points=('points', 'sum')).reset_index().sort_values(by='total_points', ascending=False)[:15].plot.bar(x='name', color='#af8dff', xlabel='Constructor Name', ylabel='Total Points')"
   ]
  },
  {
   "cell_type": "code",
   "execution_count": null,
   "id": "Jcs3Q0CfclC0",
   "metadata": {
    "colab": {
     "base_uri": "https://localhost:8080/",
     "height": 351
    },
    "id": "Jcs3Q0CfclC0",
    "outputId": "231c190b-8e9d-419d-9e51-831bc33be547"
   },
   "outputs": [
    {
     "data": {
      "text/plain": [
       "<matplotlib.axes._subplots.AxesSubplot at 0x7fe269998410>"
      ]
     },
     "execution_count": 37,
     "metadata": {},
     "output_type": "execute_result"
    },
    {
     "data": {
      "image/png": "[encoded data removed]",
      "text/plain": [
       "<Figure size 432x288 with 1 Axes>"
      ]
     },
     "metadata": {
      "needs_background": "light"
     },
     "output_type": "display_data"
    }
   ],
   "source": [
    "# Finding constructors with most wins(by name)\n",
    "con_standings.groupby('name').agg(total_wins=('wins', 'sum')).reset_index().sort_values(by='total_wins', ascending=False)[:15].plot.bar(x='name', color='#a98d19', xlabel='Constructor Name', ylabel='Total Wins')"
   ]
  }
 ],
 "metadata": {
  "colab": {
   "collapsed_sections": [
    "4873e9a5",
    "bc2c0873",
    "2f899d2c",
    "8cb9750d",
    "EWsuzqCSc-AH",
    "yydp2fDxfEbT",
    "NOaCu4FGfXxN",
    "007_d36KgsiD",
    "WK5bKmJyg65y",
    "b63175cc"
   ],
   "name": "sarthak_eda.ipynb",
   "provenance": []
  },
  "kernelspec": {
   "display_name": "Python 3 (ipykernel)",
   "language": "python",
   "name": "python3"
  },
  "language_info": {
   "codemirror_mode": {
    "name": "ipython",
    "version": 3
   },
   "file_extension": ".py",
   "mimetype": "text/x-python",
   "name": "python",
   "nbconvert_exporter": "python",
   "pygments_lexer": "ipython3",
   "version": "3.9.7"
  }
 },
 "nbformat": 4,
 "nbformat_minor": 5
}
